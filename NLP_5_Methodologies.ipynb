{
  "nbformat": 4,
  "nbformat_minor": 0,
  "metadata": {
    "accelerator": "GPU",
    "colab": {
      "name": "NLP_5_Methodologies.ipynb",
      "provenance": [],
      "collapsed_sections": [],
      "machine_shape": "hm"
    },
    "kernelspec": {
      "display_name": "Python 3",
      "name": "python3"
    },
    "language_info": {
      "name": "python"
    }
  },
  "cells": [
    {
      "cell_type": "markdown",
      "source": [
        "#  John Schueler\n",
        "# Program 5 of NLP methodologies\n",
        "# Recommended to run on Google Colab\n",
        "# **Topics Covered**: \n",
        "BERT, transformers, Bing Liu score, lexicon pos/neg words, SVM model, sentence generation,  next word prediction, n gram model, Markovify package,  tf-idf, confusion matrix, logistic regression, binary classification, Naive Bayes, Random Forest and more\n",
        "\n",
        "#Link to DisneylandReviews.csv (32MB) [link text](https://www.kaggle.com/datasets/arushchillar/disneyland-reviews)\n"
      ],
      "metadata": {
        "id": "T4My9ahA38I0"
      }
    },
    {
      "cell_type": "code",
      "metadata": {
        "id": "LX6DZ0YCuZBA"
      },
      "source": [
        "# pip installs\n",
        "!pip install transformers\n"
      ],
      "execution_count": null,
      "outputs": []
    },
    {
      "cell_type": "code",
      "metadata": {
        "id": "QUNYKuIKE9D6"
      },
      "source": [
        "# Install additional packages\n",
        "!pip install markovify\n",
        "!pip install nnsplit\n",
        "!pip install nltk --upgrade"
      ],
      "execution_count": null,
      "outputs": []
    },
    {
      "cell_type": "code",
      "metadata": {
        "id": "Kn97C95jFg7i"
      },
      "source": [
        "# Install additional packages\n",
        "!pip install scikit-learn --upgrade \n",
        "!pip install sklearn"
      ],
      "execution_count": null,
      "outputs": []
    },
    {
      "cell_type": "code",
      "metadata": {
        "id": "nJo-L7jtFkzS"
      },
      "source": [
        "# Install additional packages\n",
        "!pip install sentence_transformers"
      ],
      "execution_count": null,
      "outputs": []
    },
    {
      "cell_type": "code",
      "metadata": {
        "id": "v8qh25R1HOZ-"
      },
      "source": [
        "# Install additional packages\n",
        "!pip install markovify\n",
        "!pip install nnsplit\n",
        "!pip install nltk --upgrade"
      ],
      "execution_count": null,
      "outputs": []
    },
    {
      "cell_type": "markdown",
      "metadata": {
        "id": "vR1d_IB-FL9F"
      },
      "source": [
        "**Import Packages**"
      ]
    },
    {
      "cell_type": "code",
      "metadata": {
        "id": "XSWGPI3ZuoWf"
      },
      "source": [
        "import pandas as pd\n",
        "import io\n",
        "from google.colab import files\n",
        "\n",
        "import nltk\n",
        "from nltk.corpus import opinion_lexicon\n",
        "from nltk.tokenize import word_tokenize, RegexpTokenizer\n",
        "from nltk.sentiment.vader import SentimentIntensityAnalyzer\n",
        "nltk.download('punkt')\n",
        "nltk.download('opinion_lexicon')\n",
        "nltk.download('vader_lexicon')\n",
        "nltk.download('stopwords')\n",
        "\n",
        "import string\n",
        "\n",
        "import sklearn\n",
        "from sklearn.feature_extraction.text import TfidfVectorizer\n",
        "from sklearn.model_selection import train_test_split\n",
        "from sklearn.svm import LinearSVC\n",
        "from sklearn.metrics import confusion_matrix, precision_score, recall_score, accuracy_score, f1_score, matthews_corrcoef, roc_auc_score\n",
        "\n",
        "from transformers import DistilBertTokenizer, TFDistilBertForSequenceClassification\n",
        "from transformers import InputExample, InputFeatures\n",
        "\n",
        "import tensorflow as tf\n"
      ],
      "execution_count": null,
      "outputs": []
    },
    {
      "cell_type": "code",
      "metadata": {
        "id": "LhabCQO3FLf5"
      },
      "source": [
        "from google.colab import files\n",
        "import io\n",
        "\n",
        "import pandas as pd\n",
        "import numpy as np\n",
        "\n",
        "from sklearn.model_selection import train_test_split\n",
        "\n",
        "from collections import Counter, defaultdict\n",
        "from itertools import chain\n",
        "import random\n",
        "import markovify\n",
        "from wordcloud import WordCloud\n",
        "import matplotlib.pyplot as plt\n",
        "\n",
        "import nnsplit\n",
        "from nnsplit import NNSplit"
      ],
      "execution_count": null,
      "outputs": []
    },
    {
      "cell_type": "code",
      "metadata": {
        "colab": {
          "base_uri": "https://localhost:8080/"
        },
        "id": "d_hCilojFMAp",
        "outputId": "8028494a-2db1-4767-a3af-79d54264a45a"
      },
      "source": [
        "# Check your version of NLTK; upgrade as necessary to 3.6.5 avoid later runtime errors\n",
        "import nltk\n",
        "print('Version: {}.'.format(nltk.__version__))"
      ],
      "execution_count": null,
      "outputs": [
        {
          "output_type": "stream",
          "name": "stdout",
          "text": [
            "Version: 3.6.5.\n"
          ]
        }
      ]
    },
    {
      "cell_type": "code",
      "metadata": {
        "colab": {
          "base_uri": "https://localhost:8080/"
        },
        "id": "0YDTE2TlFMPp",
        "outputId": "d8b53542-ee20-4129-9c7c-350f79d8f06d"
      },
      "source": [
        "#!pip install nltk --upgrade \n",
        "\n",
        "from nltk import RegexpTokenizer, sent_tokenize \n",
        "from nltk import bigrams, trigrams\n",
        "nltk.download('punkt')\n",
        "\n",
        "\n",
        "# Then restart the kernel/runtime if prompted"
      ],
      "execution_count": null,
      "outputs": [
        {
          "output_type": "stream",
          "name": "stderr",
          "text": [
            "[nltk_data] Downloading package punkt to /root/nltk_data...\n",
            "[nltk_data]   Package punkt is already up-to-date!\n"
          ]
        },
        {
          "output_type": "execute_result",
          "data": {
            "text/plain": [
              "True"
            ]
          },
          "metadata": {},
          "execution_count": 322
        }
      ]
    },
    {
      "cell_type": "code",
      "metadata": {
        "colab": {
          "base_uri": "https://localhost:8080/"
        },
        "id": "HJyWvWM_FMcB",
        "outputId": "64c32f81-d93e-421a-c1d1-e9aed958ab9b"
      },
      "source": [
        "# Check your version of tensorflow; upgrade below as necessary to 2.6.0\n",
        "import tensorflow as tf\n",
        "print('Version: {}.'.format(tf.__version__))"
      ],
      "execution_count": null,
      "outputs": [
        {
          "output_type": "stream",
          "name": "stdout",
          "text": [
            "Version: 2.7.0.\n"
          ]
        }
      ]
    },
    {
      "cell_type": "code",
      "metadata": {
        "id": "7mlYvzRRFVSJ"
      },
      "source": [
        "# !pip install tensorflow --upgrade \n",
        "\n",
        "from keras.models import Sequential\n",
        "from keras.layers import Dense\n",
        "from keras.layers import Dropout\n",
        "from keras.layers import LSTM\n",
        "from keras.callbacks import ModelCheckpoint\n",
        "from keras.utils import np_utils"
      ],
      "execution_count": null,
      "outputs": []
    },
    {
      "cell_type": "code",
      "metadata": {
        "colab": {
          "base_uri": "https://localhost:8080/"
        },
        "id": "fOk8ZqMyFVd5",
        "outputId": "a9ccfce3-10ba-4f69-9a09-70d771834934"
      },
      "source": [
        "import sklearn\n",
        "print('Version: {}.'.format(sklearn.__version__))"
      ],
      "execution_count": null,
      "outputs": [
        {
          "output_type": "stream",
          "name": "stdout",
          "text": [
            "Version: 1.0.1.\n"
          ]
        }
      ]
    },
    {
      "cell_type": "code",
      "metadata": {
        "colab": {
          "base_uri": "https://localhost:8080/"
        },
        "id": "eB_tl3ZgFVoR",
        "outputId": "13a168e8-8182-463f-8ef2-3a3a29f30393"
      },
      "source": [
        "import pandas as pd\n",
        "import io\n",
        "from google.colab import files\n",
        "\n",
        "import nltk\n",
        "from nltk.tokenize import RegexpTokenizer\n",
        "nltk.download('punkt')\n",
        "nltk.download('stopwords')\n",
        "\n",
        "import string\n",
        "\n",
        "import sklearn\n",
        "#from sklearn.feature_extraction.text import TfidfVectorizer\n",
        "from sklearn.model_selection import train_test_split\n",
        "from sklearn.svm import LinearSVC\n",
        "from sklearn.linear_model import LogisticRegression\n",
        "from sklearn.naive_bayes import BernoulliNB, MultinomialNB\n",
        "from sklearn.ensemble import RandomForestClassifier\n",
        "from sklearn.cluster import KMeans\n",
        "\n",
        "from sklearn import metrics\n",
        "from sklearn.metrics import confusion_matrix, precision_score, recall_score, accuracy_score, f1_score, matthews_corrcoef, roc_auc_score, average_precision_score \n",
        "from sklearn.metrics import auc, roc_curve, precision_recall_curve\n",
        "from sklearn.metrics import ConfusionMatrixDisplay, RocCurveDisplay, PrecisionRecallDisplay\n",
        "\n",
        "from transformers import DistilBertTokenizer, TFDistilBertForSequenceClassification\n",
        "from transformers import InputExample, InputFeatures\n",
        "from sentence_transformers import SentenceTransformer\n",
        "\n",
        "import tensorflow as tf\n",
        "\n",
        "from matplotlib import pyplot as plt\n"
      ],
      "execution_count": null,
      "outputs": [
        {
          "output_type": "stream",
          "name": "stderr",
          "text": [
            "[nltk_data] Downloading package punkt to /root/nltk_data...\n",
            "[nltk_data]   Package punkt is already up-to-date!\n",
            "[nltk_data] Downloading package stopwords to /root/nltk_data...\n",
            "[nltk_data]   Package stopwords is already up-to-date!\n"
          ]
        }
      ]
    },
    {
      "cell_type": "code",
      "metadata": {
        "id": "tJODyFCrFVy5"
      },
      "source": [
        "import matplotlib.pyplot as plt\n",
        "import numpy as np"
      ],
      "execution_count": null,
      "outputs": []
    },
    {
      "cell_type": "code",
      "metadata": {
        "id": "pWFsN9SZHYj4"
      },
      "source": [
        "from google.colab import files\n",
        "import io\n",
        "\n",
        "import pandas as pd\n",
        "import numpy as np\n",
        "\n",
        "from sklearn.model_selection import train_test_split\n",
        "\n",
        "from collections import Counter, defaultdict\n",
        "from itertools import chain\n",
        "import random\n",
        "import markovify\n",
        "from wordcloud import WordCloud\n",
        "import matplotlib.pyplot as plt\n",
        "\n",
        "import nnsplit\n",
        "from nnsplit import NNSplit"
      ],
      "execution_count": null,
      "outputs": []
    },
    {
      "cell_type": "code",
      "metadata": {
        "colab": {
          "base_uri": "https://localhost:8080/"
        },
        "id": "HVDlLcDLHY_t",
        "outputId": "3b6445e6-7e48-4aa8-9d3f-04c012901204"
      },
      "source": [
        "# Check your version of NLTK; upgrade as necessary to 3.6.5 avoid later runtime errors\n",
        "import nltk\n",
        "print('Version: {}.'.format(nltk.__version__))"
      ],
      "execution_count": null,
      "outputs": [
        {
          "output_type": "stream",
          "name": "stdout",
          "text": [
            "Version: 3.6.5.\n"
          ]
        }
      ]
    },
    {
      "cell_type": "code",
      "metadata": {
        "colab": {
          "base_uri": "https://localhost:8080/"
        },
        "id": "Gu2rvynVHZSH",
        "outputId": "6dc02605-f25c-446e-b00d-74cdd9367224"
      },
      "source": [
        "#!pip install nltk --upgrade \n",
        "\n",
        "from nltk import RegexpTokenizer, sent_tokenize \n",
        "from nltk import bigrams, trigrams\n",
        "nltk.download('punkt')\n",
        "\n"
      ],
      "execution_count": null,
      "outputs": [
        {
          "output_type": "stream",
          "name": "stderr",
          "text": [
            "[nltk_data] Downloading package punkt to /root/nltk_data...\n",
            "[nltk_data]   Package punkt is already up-to-date!\n"
          ]
        },
        {
          "output_type": "execute_result",
          "data": {
            "text/plain": [
              "True"
            ]
          },
          "metadata": {},
          "execution_count": 330
        }
      ]
    },
    {
      "cell_type": "code",
      "metadata": {
        "colab": {
          "base_uri": "https://localhost:8080/"
        },
        "id": "-CsIWI0hHZih",
        "outputId": "d042a9f7-6f13-4b3c-d711-5ffd8ce0bc19"
      },
      "source": [
        "# Check your version of tensorflow; upgrade below as necessary to 2.6.0\n",
        "import tensorflow as tf\n",
        "print('Version: {}.'.format(tf.__version__))"
      ],
      "execution_count": null,
      "outputs": [
        {
          "output_type": "stream",
          "name": "stdout",
          "text": [
            "Version: 2.7.0.\n"
          ]
        }
      ]
    },
    {
      "cell_type": "code",
      "metadata": {
        "id": "0-OLYWKFHcep"
      },
      "source": [
        "from keras.models import Sequential\n",
        "from keras.layers import Dense\n",
        "from keras.layers import Dropout\n",
        "from keras.layers import LSTM\n",
        "from keras.callbacks import ModelCheckpoint\n",
        "from keras.utils import np_utils"
      ],
      "execution_count": null,
      "outputs": []
    },
    {
      "cell_type": "markdown",
      "metadata": {
        "id": "prsIj7TRFDDx"
      },
      "source": [
        "from google.colab import files\n",
        "import io\n",
        "\n",
        "import pandas as pd\n",
        "import numpy as np\n",
        "\n",
        "from sklearn.model_selection import train_test_split\n",
        "\n",
        "from collections import Counter, defaultdict\n",
        "from itertools import chain\n",
        "import random\n",
        "import markovify\n",
        "from wordcloud import WordCloud\n",
        "import matplotlib.pyplot as plt\n",
        "\n",
        "import nnsplit\n",
        "from nnsplit import NNSplit"
      ]
    },
    {
      "cell_type": "code",
      "metadata": {
        "colab": {
          "resources": {
            "http://localhost:8080/nbextensions/google.colab/files.js": {
              "data": "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",
              "ok": true,
              "headers": [
                [
                  "content-type",
                  "application/javascript"
                ]
              ],
              "status": 200,
              "status_text": ""
            }
          },
          "base_uri": "https://localhost:8080/",
          "height": 72
        },
        "id": "pI6sVZ-iuoqu",
        "outputId": "b51a26e2-c619-408e-faec-62af8c88dd99"
      },
      "source": [
        "upload = files.upload()"
      ],
      "execution_count": null,
      "outputs": [
        {
          "output_type": "display_data",
          "data": {
            "text/html": [
              "\n",
              "     <input type=\"file\" id=\"files-9b986640-288b-4f58-b017-55bbc10ff0db\" name=\"files[]\" multiple disabled\n",
              "        style=\"border:none\" />\n",
              "     <output id=\"result-9b986640-288b-4f58-b017-55bbc10ff0db\">\n",
              "      Upload widget is only available when the cell has been executed in the\n",
              "      current browser session. Please rerun this cell to enable.\n",
              "      </output>\n",
              "      <script src=\"/nbextensions/google.colab/files.js\"></script> "
            ],
            "text/plain": [
              "<IPython.core.display.HTML object>"
            ]
          },
          "metadata": {}
        },
        {
          "output_type": "stream",
          "name": "stdout",
          "text": [
            "Saving disneyland_reviews.csv to disneyland_reviews (2).csv\n"
          ]
        }
      ]
    },
    {
      "cell_type": "code",
      "metadata": {
        "id": "gVDGiqnwupxC"
      },
      "source": [
        "d_rev = pd.read_csv(io.BytesIO(upload['disneyland_reviews.csv']), encoding='latin-1') # Note different encoding\n",
        "# entire dataframe with all branches\n",
        "d_rev "
      ],
      "execution_count": null,
      "outputs": []
    },
    {
      "cell_type": "code",
      "metadata": {
        "colab": {
          "base_uri": "https://localhost:8080/"
        },
        "id": "plywL6NIup8w",
        "outputId": "0a67f754-7261-49e8-ed03-d3319cdfbfc2"
      },
      "source": [
        "num_rows = len(d_rev.index)\n",
        "# Breaking down the distribution of branches\n",
        "d_rev['branch'].value_counts()/num_rows"
      ],
      "execution_count": null,
      "outputs": [
        {
          "output_type": "execute_result",
          "data": {
            "text/plain": [
              "Disneyland_California    0.472608\n",
              "Disneyland_Paris         0.307535\n",
              "Disneyland_HongKong      0.219858\n",
              "Name: branch, dtype: float64"
            ]
          },
          "metadata": {},
          "execution_count": 335
        }
      ]
    },
    {
      "cell_type": "markdown",
      "metadata": {
        "id": "tmDaF8BZFVYc"
      },
      "source": [
        "**Dataframe Manipulation**"
      ]
    },
    {
      "cell_type": "code",
      "metadata": {
        "id": "rqC3ASlKYR97"
      },
      "source": [
        "# Paris branch df\n",
        "b = d_rev[d_rev['branch'] == 'Disneyland_Paris']\n"
      ],
      "execution_count": null,
      "outputs": []
    },
    {
      "cell_type": "code",
      "metadata": {
        "id": "gJEmkNkoYtv5"
      },
      "source": [
        "# Hong Kong branch df\n",
        "c = d_rev[d_rev['branch'] == 'Disneyland_HongKong']"
      ],
      "execution_count": null,
      "outputs": []
    },
    {
      "cell_type": "code",
      "metadata": {
        "id": "jdsOGONOYhxJ"
      },
      "source": [
        "# all branches df\n",
        "d_rev.head(10)"
      ],
      "execution_count": null,
      "outputs": []
    },
    {
      "cell_type": "code",
      "metadata": {
        "id": "bOBcB5Gegkm_"
      },
      "source": [
        "# Hong Kong only branch df\n",
        "c.head(10)"
      ],
      "execution_count": null,
      "outputs": []
    },
    {
      "cell_type": "code",
      "metadata": {
        "id": "d4yxi51qgk1h"
      },
      "source": [
        "# Paris only branch df\n",
        "b.head(10)"
      ],
      "execution_count": null,
      "outputs": []
    },
    {
      "cell_type": "code",
      "metadata": {
        "id": "xUc33kMQglFa"
      },
      "source": [
        "# Merging Paris and Hong Kong df's into 1 dataframe\n",
        "a = pd.concat([b, c])"
      ],
      "execution_count": null,
      "outputs": []
    },
    {
      "cell_type": "code",
      "metadata": {
        "id": "tbT0gDiBgqao"
      },
      "source": [
        "a.head(10)"
      ],
      "execution_count": null,
      "outputs": []
    },
    {
      "cell_type": "code",
      "metadata": {
        "colab": {
          "base_uri": "https://localhost:8080/"
        },
        "id": "LcSNVZ7egqoI",
        "outputId": "71b798df-bd0e-40f0-d1f7-0ccb143e444d"
      },
      "source": [
        "num_rows = len(a['branch'])\n",
        "# ratio of reviews by branch in new merged df\n",
        "a.value_counts('branch')/num_rows"
      ],
      "execution_count": null,
      "outputs": [
        {
          "output_type": "execute_result",
          "data": {
            "text/plain": [
              "branch\n",
              "Disneyland_Paris       0.583123\n",
              "Disneyland_HongKong    0.416877\n",
              "dtype: float64"
            ]
          },
          "metadata": {},
          "execution_count": 343
        }
      ]
    },
    {
      "cell_type": "code",
      "metadata": {
        "colab": {
          "base_uri": "https://localhost:8080/"
        },
        "id": "kT-INV4KPa-F",
        "outputId": "987dca4a-d190-4734-fa58-e8ed2ff64b8f"
      },
      "source": [
        "# Explore the lexicon\n",
        "# Number of words\n",
        "print(len(opinion_lexicon.words()))\n",
        "\n",
        "# Examples of positive words\n",
        "print(opinion_lexicon.positive()[:10])\n",
        "\n",
        "# Examples of negative words\n",
        "print(opinion_lexicon.negative()[:10])"
      ],
      "execution_count": null,
      "outputs": [
        {
          "output_type": "stream",
          "name": "stdout",
          "text": [
            "6789\n",
            "['a+', 'abound', 'abounds', 'abundance', 'abundant', 'accessable', 'accessible', 'acclaim', 'acclaimed', 'acclamation']\n",
            "['2-faced', '2-faces', 'abnormal', 'abolish', 'abominable', 'abominably', 'abominate', 'abomination', 'abort', 'aborted']\n"
          ]
        }
      ]
    },
    {
      "cell_type": "code",
      "metadata": {
        "id": "5J90ACgTgrHI"
      },
      "source": [
        "# Create a dictionary-type object with positive = 1; negative = -1\n",
        "word_dict = {}\n",
        "pos_score = 1\n",
        "neg_score = -1\n",
        "\n",
        "# Add positive and negative Bing Liu words to dictionary\n",
        "for word in opinion_lexicon.positive():\n",
        "  word_dict[word] = pos_score\n",
        "\n",
        "for word in opinion_lexicon.negative():\n",
        "  word_dict[word] = neg_score\n",
        "\n",
        "word_dict # Look at the dictionary"
      ],
      "execution_count": null,
      "outputs": []
    },
    {
      "cell_type": "code",
      "metadata": {
        "id": "ULQtwz4ygrUw"
      },
      "source": [
        "# bing liu function\n",
        "def bing_liu_score(text):\n",
        "  sentiment_score = 0\n",
        "  bag_of_words = word_tokenize(text.lower())\n",
        "  for word in bag_of_words:\n",
        "    if word in word_dict:\n",
        "      sentiment_score += word_dict[word]\n",
        "  return sentiment_score/len(bag_of_words)"
      ],
      "execution_count": null,
      "outputs": []
    },
    {
      "cell_type": "code",
      "metadata": {
        "colab": {
          "base_uri": "https://localhost:8080/",
          "height": 204
        },
        "id": "AlAnwv5lgrho",
        "outputId": "7362a339-c7fd-45d7-ec6c-f08eef94a75f"
      },
      "source": [
        "# applying bing liu score to merged dataframe\n",
        "a['bing_liu_score'] = a['review_text'].apply(bing_liu_score)\n",
        "a.sort_values(by= ['bing_liu_score'], ascending = False, inplace = True)\n",
        "a.head(5)"
      ],
      "execution_count": null,
      "outputs": [
        {
          "output_type": "execute_result",
          "data": {
            "text/html": [
              "<div>\n",
              "<style scoped>\n",
              "    .dataframe tbody tr th:only-of-type {\n",
              "        vertical-align: middle;\n",
              "    }\n",
              "\n",
              "    .dataframe tbody tr th {\n",
              "        vertical-align: top;\n",
              "    }\n",
              "\n",
              "    .dataframe thead th {\n",
              "        text-align: right;\n",
              "    }\n",
              "</style>\n",
              "<table border=\"1\" class=\"dataframe\">\n",
              "  <thead>\n",
              "    <tr style=\"text-align: right;\">\n",
              "      <th></th>\n",
              "      <th>review_id</th>\n",
              "      <th>rating</th>\n",
              "      <th>rating_binary</th>\n",
              "      <th>year_month</th>\n",
              "      <th>reviewer_location</th>\n",
              "      <th>review_text</th>\n",
              "      <th>branch</th>\n",
              "      <th>bing_liu_score</th>\n",
              "    </tr>\n",
              "  </thead>\n",
              "  <tbody>\n",
              "    <tr>\n",
              "      <th>2711</th>\n",
              "      <td>314589035</td>\n",
              "      <td>5</td>\n",
              "      <td>1</td>\n",
              "      <td>2015-7</td>\n",
              "      <td>India</td>\n",
              "      <td>excellent service good quality  nice managemen...</td>\n",
              "      <td>Disneyland_HongKong</td>\n",
              "      <td>0.357143</td>\n",
              "    </tr>\n",
              "    <tr>\n",
              "      <th>21302</th>\n",
              "      <td>213903626</td>\n",
              "      <td>5</td>\n",
              "      <td>1</td>\n",
              "      <td>2014-7</td>\n",
              "      <td>United States</td>\n",
              "      <td>Disney beauty place like the park great for wa...</td>\n",
              "      <td>Disneyland_Paris</td>\n",
              "      <td>0.350000</td>\n",
              "    </tr>\n",
              "    <tr>\n",
              "      <th>33464</th>\n",
              "      <td>131738658</td>\n",
              "      <td>4</td>\n",
              "      <td>1</td>\n",
              "      <td>2012-6</td>\n",
              "      <td>United Kingdom</td>\n",
              "      <td>Excellent service , clean and well organised.....</td>\n",
              "      <td>Disneyland_Paris</td>\n",
              "      <td>0.333333</td>\n",
              "    </tr>\n",
              "    <tr>\n",
              "      <th>20651</th>\n",
              "      <td>266317781</td>\n",
              "      <td>5</td>\n",
              "      <td>1</td>\n",
              "      <td>2015-4</td>\n",
              "      <td>United Kingdom</td>\n",
              "      <td>Dreams came true.  Unforgettable experience an...</td>\n",
              "      <td>Disneyland_Paris</td>\n",
              "      <td>0.300000</td>\n",
              "    </tr>\n",
              "    <tr>\n",
              "      <th>4273</th>\n",
              "      <td>124646142</td>\n",
              "      <td>5</td>\n",
              "      <td>1</td>\n",
              "      <td>2012-2</td>\n",
              "      <td>Malaysia</td>\n",
              "      <td>the greatest place of all. magical world. fant...</td>\n",
              "      <td>Disneyland_HongKong</td>\n",
              "      <td>0.272727</td>\n",
              "    </tr>\n",
              "  </tbody>\n",
              "</table>\n",
              "</div>"
            ],
            "text/plain": [
              "       review_id  rating  rating_binary year_month reviewer_location  \\\n",
              "2711   314589035       5              1     2015-7             India   \n",
              "21302  213903626       5              1     2014-7     United States   \n",
              "33464  131738658       4              1     2012-6    United Kingdom   \n",
              "20651  266317781       5              1     2015-4    United Kingdom   \n",
              "4273   124646142       5              1     2012-2          Malaysia   \n",
              "\n",
              "                                             review_text               branch  \\\n",
              "2711   excellent service good quality  nice managemen...  Disneyland_HongKong   \n",
              "21302  Disney beauty place like the park great for wa...     Disneyland_Paris   \n",
              "33464  Excellent service , clean and well organised.....     Disneyland_Paris   \n",
              "20651  Dreams came true.  Unforgettable experience an...     Disneyland_Paris   \n",
              "4273   the greatest place of all. magical world. fant...  Disneyland_HongKong   \n",
              "\n",
              "       bing_liu_score  \n",
              "2711         0.357143  \n",
              "21302        0.350000  \n",
              "33464        0.333333  \n",
              "20651        0.300000  \n",
              "4273         0.272727  "
            ]
          },
          "metadata": {},
          "execution_count": 347
        }
      ]
    },
    {
      "cell_type": "markdown",
      "metadata": {
        "id": "d8j8kOD5C0EH"
      },
      "source": [
        "**Seperating** **Branches**"
      ]
    },
    {
      "cell_type": "code",
      "metadata": {
        "id": "hVLwCYRigruw"
      },
      "source": [
        "# Seperating the merged dataframe by branch after applying bing liu score\n",
        "HK_bl = a[a['branch'] == 'Disneyland_HongKong']"
      ],
      "execution_count": null,
      "outputs": []
    },
    {
      "cell_type": "code",
      "metadata": {
        "colab": {
          "base_uri": "https://localhost:8080/",
          "height": 359
        },
        "id": "p9o-dERNgr6A",
        "outputId": "f5469007-4ba3-4caf-875d-64d862c40da0"
      },
      "source": [
        "HK_bl.head(10)"
      ],
      "execution_count": null,
      "outputs": [
        {
          "output_type": "execute_result",
          "data": {
            "text/html": [
              "<div>\n",
              "<style scoped>\n",
              "    .dataframe tbody tr th:only-of-type {\n",
              "        vertical-align: middle;\n",
              "    }\n",
              "\n",
              "    .dataframe tbody tr th {\n",
              "        vertical-align: top;\n",
              "    }\n",
              "\n",
              "    .dataframe thead th {\n",
              "        text-align: right;\n",
              "    }\n",
              "</style>\n",
              "<table border=\"1\" class=\"dataframe\">\n",
              "  <thead>\n",
              "    <tr style=\"text-align: right;\">\n",
              "      <th></th>\n",
              "      <th>review_id</th>\n",
              "      <th>rating</th>\n",
              "      <th>rating_binary</th>\n",
              "      <th>year_month</th>\n",
              "      <th>reviewer_location</th>\n",
              "      <th>review_text</th>\n",
              "      <th>branch</th>\n",
              "      <th>bing_liu_score</th>\n",
              "    </tr>\n",
              "  </thead>\n",
              "  <tbody>\n",
              "    <tr>\n",
              "      <th>2711</th>\n",
              "      <td>314589035</td>\n",
              "      <td>5</td>\n",
              "      <td>1</td>\n",
              "      <td>2015-7</td>\n",
              "      <td>India</td>\n",
              "      <td>excellent service good quality  nice managemen...</td>\n",
              "      <td>Disneyland_HongKong</td>\n",
              "      <td>0.357143</td>\n",
              "    </tr>\n",
              "    <tr>\n",
              "      <th>4273</th>\n",
              "      <td>124646142</td>\n",
              "      <td>5</td>\n",
              "      <td>1</td>\n",
              "      <td>2012-2</td>\n",
              "      <td>Malaysia</td>\n",
              "      <td>the greatest place of all. magical world. fant...</td>\n",
              "      <td>Disneyland_HongKong</td>\n",
              "      <td>0.272727</td>\n",
              "    </tr>\n",
              "    <tr>\n",
              "      <th>23782</th>\n",
              "      <td>507700205</td>\n",
              "      <td>4</td>\n",
              "      <td>1</td>\n",
              "      <td>2016-9</td>\n",
              "      <td>Australia</td>\n",
              "      <td>Nice park and has some good rides . A good pla...</td>\n",
              "      <td>Disneyland_HongKong</td>\n",
              "      <td>0.250000</td>\n",
              "    </tr>\n",
              "    <tr>\n",
              "      <th>219</th>\n",
              "      <td>636984092</td>\n",
              "      <td>5</td>\n",
              "      <td>1</td>\n",
              "      <td>2018-11</td>\n",
              "      <td>Australia</td>\n",
              "      <td>the best every to go to the best every the bes...</td>\n",
              "      <td>Disneyland_HongKong</td>\n",
              "      <td>0.250000</td>\n",
              "    </tr>\n",
              "    <tr>\n",
              "      <th>4274</th>\n",
              "      <td>124459435</td>\n",
              "      <td>5</td>\n",
              "      <td>1</td>\n",
              "      <td>missing</td>\n",
              "      <td>Singapore</td>\n",
              "      <td>excellent place, accomodating people, exciting...</td>\n",
              "      <td>Disneyland_HongKong</td>\n",
              "      <td>0.250000</td>\n",
              "    </tr>\n",
              "    <tr>\n",
              "      <th>2659</th>\n",
              "      <td>320581657</td>\n",
              "      <td>5</td>\n",
              "      <td>1</td>\n",
              "      <td>2015-10</td>\n",
              "      <td>United Kingdom</td>\n",
              "      <td>Slick and well managed.  Everywhere very clean...</td>\n",
              "      <td>Disneyland_HongKong</td>\n",
              "      <td>0.250000</td>\n",
              "    </tr>\n",
              "    <tr>\n",
              "      <th>3204</th>\n",
              "      <td>244929248</td>\n",
              "      <td>5</td>\n",
              "      <td>1</td>\n",
              "      <td>2014-12</td>\n",
              "      <td>India</td>\n",
              "      <td>Superb Rides   Superb Plan  Superb Food  Super...</td>\n",
              "      <td>Disneyland_HongKong</td>\n",
              "      <td>0.244898</td>\n",
              "    </tr>\n",
              "    <tr>\n",
              "      <th>23201</th>\n",
              "      <td>655333001</td>\n",
              "      <td>4</td>\n",
              "      <td>1</td>\n",
              "      <td>2018-12</td>\n",
              "      <td>Indonesia</td>\n",
              "      <td>Disneyland never failed to amuse everyone  Exc...</td>\n",
              "      <td>Disneyland_HongKong</td>\n",
              "      <td>0.230769</td>\n",
              "    </tr>\n",
              "    <tr>\n",
              "      <th>3415</th>\n",
              "      <td>215095393</td>\n",
              "      <td>5</td>\n",
              "      <td>1</td>\n",
              "      <td>2013-8</td>\n",
              "      <td>Vietnam</td>\n",
              "      <td>colorful and beautiful place, many creative ar...</td>\n",
              "      <td>Disneyland_HongKong</td>\n",
              "      <td>0.227273</td>\n",
              "    </tr>\n",
              "    <tr>\n",
              "      <th>3139</th>\n",
              "      <td>250746914</td>\n",
              "      <td>5</td>\n",
              "      <td>1</td>\n",
              "      <td>2014-9</td>\n",
              "      <td>India</td>\n",
              "      <td>Very Interesting theme park. Had a lots of fun...</td>\n",
              "      <td>Disneyland_HongKong</td>\n",
              "      <td>0.225806</td>\n",
              "    </tr>\n",
              "  </tbody>\n",
              "</table>\n",
              "</div>"
            ],
            "text/plain": [
              "       review_id  rating  rating_binary year_month reviewer_location  \\\n",
              "2711   314589035       5              1     2015-7             India   \n",
              "4273   124646142       5              1     2012-2          Malaysia   \n",
              "23782  507700205       4              1     2016-9         Australia   \n",
              "219    636984092       5              1    2018-11         Australia   \n",
              "4274   124459435       5              1    missing         Singapore   \n",
              "2659   320581657       5              1    2015-10    United Kingdom   \n",
              "3204   244929248       5              1    2014-12             India   \n",
              "23201  655333001       4              1    2018-12         Indonesia   \n",
              "3415   215095393       5              1     2013-8           Vietnam   \n",
              "3139   250746914       5              1     2014-9             India   \n",
              "\n",
              "                                             review_text               branch  \\\n",
              "2711   excellent service good quality  nice managemen...  Disneyland_HongKong   \n",
              "4273   the greatest place of all. magical world. fant...  Disneyland_HongKong   \n",
              "23782  Nice park and has some good rides . A good pla...  Disneyland_HongKong   \n",
              "219    the best every to go to the best every the bes...  Disneyland_HongKong   \n",
              "4274   excellent place, accomodating people, exciting...  Disneyland_HongKong   \n",
              "2659   Slick and well managed.  Everywhere very clean...  Disneyland_HongKong   \n",
              "3204   Superb Rides   Superb Plan  Superb Food  Super...  Disneyland_HongKong   \n",
              "23201  Disneyland never failed to amuse everyone  Exc...  Disneyland_HongKong   \n",
              "3415   colorful and beautiful place, many creative ar...  Disneyland_HongKong   \n",
              "3139   Very Interesting theme park. Had a lots of fun...  Disneyland_HongKong   \n",
              "\n",
              "       bing_liu_score  \n",
              "2711         0.357143  \n",
              "4273         0.272727  \n",
              "23782        0.250000  \n",
              "219          0.250000  \n",
              "4274         0.250000  \n",
              "2659         0.250000  \n",
              "3204         0.244898  \n",
              "23201        0.230769  \n",
              "3415         0.227273  \n",
              "3139         0.225806  "
            ]
          },
          "metadata": {},
          "execution_count": 349
        }
      ]
    },
    {
      "cell_type": "code",
      "metadata": {
        "id": "oIzFw1IrgsFQ"
      },
      "source": [
        "# Seperating the merged dataframe by branch after applying Bing Liu score\n",
        "PA_bl = a[a['branch'] == 'Disneyland_Paris']"
      ],
      "execution_count": null,
      "outputs": []
    },
    {
      "cell_type": "code",
      "metadata": {
        "colab": {
          "base_uri": "https://localhost:8080/",
          "height": 359
        },
        "id": "GaNXmhpTgsQ4",
        "outputId": "937ea325-a47a-47d6-c33a-45b045705602"
      },
      "source": [
        "PA_bl.head(10)"
      ],
      "execution_count": null,
      "outputs": [
        {
          "output_type": "execute_result",
          "data": {
            "text/html": [
              "<div>\n",
              "<style scoped>\n",
              "    .dataframe tbody tr th:only-of-type {\n",
              "        vertical-align: middle;\n",
              "    }\n",
              "\n",
              "    .dataframe tbody tr th {\n",
              "        vertical-align: top;\n",
              "    }\n",
              "\n",
              "    .dataframe thead th {\n",
              "        text-align: right;\n",
              "    }\n",
              "</style>\n",
              "<table border=\"1\" class=\"dataframe\">\n",
              "  <thead>\n",
              "    <tr style=\"text-align: right;\">\n",
              "      <th></th>\n",
              "      <th>review_id</th>\n",
              "      <th>rating</th>\n",
              "      <th>rating_binary</th>\n",
              "      <th>year_month</th>\n",
              "      <th>reviewer_location</th>\n",
              "      <th>review_text</th>\n",
              "      <th>branch</th>\n",
              "      <th>bing_liu_score</th>\n",
              "    </tr>\n",
              "  </thead>\n",
              "  <tbody>\n",
              "    <tr>\n",
              "      <th>21302</th>\n",
              "      <td>213903626</td>\n",
              "      <td>5</td>\n",
              "      <td>1</td>\n",
              "      <td>2014-7</td>\n",
              "      <td>United States</td>\n",
              "      <td>Disney beauty place like the park great for wa...</td>\n",
              "      <td>Disneyland_Paris</td>\n",
              "      <td>0.350000</td>\n",
              "    </tr>\n",
              "    <tr>\n",
              "      <th>33464</th>\n",
              "      <td>131738658</td>\n",
              "      <td>4</td>\n",
              "      <td>1</td>\n",
              "      <td>2012-6</td>\n",
              "      <td>United Kingdom</td>\n",
              "      <td>Excellent service , clean and well organised.....</td>\n",
              "      <td>Disneyland_Paris</td>\n",
              "      <td>0.333333</td>\n",
              "    </tr>\n",
              "    <tr>\n",
              "      <th>20651</th>\n",
              "      <td>266317781</td>\n",
              "      <td>5</td>\n",
              "      <td>1</td>\n",
              "      <td>2015-4</td>\n",
              "      <td>United Kingdom</td>\n",
              "      <td>Dreams came true.  Unforgettable experience an...</td>\n",
              "      <td>Disneyland_Paris</td>\n",
              "      <td>0.300000</td>\n",
              "    </tr>\n",
              "    <tr>\n",
              "      <th>18245</th>\n",
              "      <td>516366125</td>\n",
              "      <td>5</td>\n",
              "      <td>1</td>\n",
              "      <td>2016-9</td>\n",
              "      <td>Romania</td>\n",
              "      <td>great fun, great characters, great shows and p...</td>\n",
              "      <td>Disneyland_Paris</td>\n",
              "      <td>0.260870</td>\n",
              "    </tr>\n",
              "    <tr>\n",
              "      <th>22679</th>\n",
              "      <td>127711668</td>\n",
              "      <td>5</td>\n",
              "      <td>1</td>\n",
              "      <td>2011-5</td>\n",
              "      <td>Ireland</td>\n",
              "      <td>A far better version of magic kingdom! Far bet...</td>\n",
              "      <td>Disneyland_Paris</td>\n",
              "      <td>0.260870</td>\n",
              "    </tr>\n",
              "    <tr>\n",
              "      <th>18193</th>\n",
              "      <td>521507862</td>\n",
              "      <td>5</td>\n",
              "      <td>1</td>\n",
              "      <td>2017-9</td>\n",
              "      <td>United Kingdom</td>\n",
              "      <td>I can't say enough about how much I love this ...</td>\n",
              "      <td>Disneyland_Paris</td>\n",
              "      <td>0.259259</td>\n",
              "    </tr>\n",
              "    <tr>\n",
              "      <th>17053</th>\n",
              "      <td>668132233</td>\n",
              "      <td>5</td>\n",
              "      <td>1</td>\n",
              "      <td>2019-4</td>\n",
              "      <td>Spain</td>\n",
              "      <td>It was amazing excellent exciting family tour ...</td>\n",
              "      <td>Disneyland_Paris</td>\n",
              "      <td>0.250000</td>\n",
              "    </tr>\n",
              "    <tr>\n",
              "      <th>19293</th>\n",
              "      <td>391637357</td>\n",
              "      <td>5</td>\n",
              "      <td>1</td>\n",
              "      <td>2016-7</td>\n",
              "      <td>United Kingdom</td>\n",
              "      <td>Disney at its best. Clean fun. Well organised,...</td>\n",
              "      <td>Disneyland_Paris</td>\n",
              "      <td>0.250000</td>\n",
              "    </tr>\n",
              "    <tr>\n",
              "      <th>22647</th>\n",
              "      <td>129214584</td>\n",
              "      <td>5</td>\n",
              "      <td>1</td>\n",
              "      <td>2012-4</td>\n",
              "      <td>Malta</td>\n",
              "      <td>All the attractions are lovely. I recommend ge...</td>\n",
              "      <td>Disneyland_Paris</td>\n",
              "      <td>0.250000</td>\n",
              "    </tr>\n",
              "    <tr>\n",
              "      <th>18506</th>\n",
              "      <td>485013240</td>\n",
              "      <td>5</td>\n",
              "      <td>1</td>\n",
              "      <td>2017-5</td>\n",
              "      <td>Italy</td>\n",
              "      <td>Good experience. Good kid's rides. Great shows...</td>\n",
              "      <td>Disneyland_Paris</td>\n",
              "      <td>0.250000</td>\n",
              "    </tr>\n",
              "  </tbody>\n",
              "</table>\n",
              "</div>"
            ],
            "text/plain": [
              "       review_id  rating  rating_binary year_month reviewer_location  \\\n",
              "21302  213903626       5              1     2014-7     United States   \n",
              "33464  131738658       4              1     2012-6    United Kingdom   \n",
              "20651  266317781       5              1     2015-4    United Kingdom   \n",
              "18245  516366125       5              1     2016-9           Romania   \n",
              "22679  127711668       5              1     2011-5           Ireland   \n",
              "18193  521507862       5              1     2017-9    United Kingdom   \n",
              "17053  668132233       5              1     2019-4             Spain   \n",
              "19293  391637357       5              1     2016-7    United Kingdom   \n",
              "22647  129214584       5              1     2012-4             Malta   \n",
              "18506  485013240       5              1     2017-5             Italy   \n",
              "\n",
              "                                             review_text            branch  \\\n",
              "21302  Disney beauty place like the park great for wa...  Disneyland_Paris   \n",
              "33464  Excellent service , clean and well organised.....  Disneyland_Paris   \n",
              "20651  Dreams came true.  Unforgettable experience an...  Disneyland_Paris   \n",
              "18245  great fun, great characters, great shows and p...  Disneyland_Paris   \n",
              "22679  A far better version of magic kingdom! Far bet...  Disneyland_Paris   \n",
              "18193  I can't say enough about how much I love this ...  Disneyland_Paris   \n",
              "17053  It was amazing excellent exciting family tour ...  Disneyland_Paris   \n",
              "19293  Disney at its best. Clean fun. Well organised,...  Disneyland_Paris   \n",
              "22647  All the attractions are lovely. I recommend ge...  Disneyland_Paris   \n",
              "18506  Good experience. Good kid's rides. Great shows...  Disneyland_Paris   \n",
              "\n",
              "       bing_liu_score  \n",
              "21302        0.350000  \n",
              "33464        0.333333  \n",
              "20651        0.300000  \n",
              "18245        0.260870  \n",
              "22679        0.260870  \n",
              "18193        0.259259  \n",
              "17053        0.250000  \n",
              "19293        0.250000  \n",
              "22647        0.250000  \n",
              "18506        0.250000  "
            ]
          },
          "metadata": {},
          "execution_count": 351
        }
      ]
    },
    {
      "cell_type": "markdown",
      "metadata": {
        "id": "dsnQXvW6Dim1"
      },
      "source": [
        "**Paris Bing Liu Analysis**"
      ]
    },
    {
      "cell_type": "code",
      "metadata": {
        "colab": {
          "base_uri": "https://localhost:8080/"
        },
        "id": "eaK5EX99uqMn",
        "outputId": "29c27a18-0a4c-4378-a025-6e4c4e681803"
      },
      "source": [
        "# Counting number of Paris branch reviews\n",
        "PA_bl['branch'].value_counts()"
      ],
      "execution_count": null,
      "outputs": [
        {
          "output_type": "execute_result",
          "data": {
            "text/plain": [
              "Disneyland_Paris    11547\n",
              "Name: branch, dtype: int64"
            ]
          },
          "metadata": {},
          "execution_count": 352
        }
      ]
    },
    {
      "cell_type": "code",
      "metadata": {
        "colab": {
          "base_uri": "https://localhost:8080/",
          "height": 359
        },
        "id": "uBDz6W0e4gy3",
        "outputId": "d112528a-1ed3-49fb-f5f4-5fbe8f7446c2"
      },
      "source": [
        "# df of only negative reviews for CA df\n",
        "PA_bl_neg = PA_bl[PA_bl['bing_liu_score'] < 0]\n",
        "PA_bl_neg.head(10)"
      ],
      "execution_count": null,
      "outputs": [
        {
          "output_type": "execute_result",
          "data": {
            "text/html": [
              "<div>\n",
              "<style scoped>\n",
              "    .dataframe tbody tr th:only-of-type {\n",
              "        vertical-align: middle;\n",
              "    }\n",
              "\n",
              "    .dataframe tbody tr th {\n",
              "        vertical-align: top;\n",
              "    }\n",
              "\n",
              "    .dataframe thead th {\n",
              "        text-align: right;\n",
              "    }\n",
              "</style>\n",
              "<table border=\"1\" class=\"dataframe\">\n",
              "  <thead>\n",
              "    <tr style=\"text-align: right;\">\n",
              "      <th></th>\n",
              "      <th>review_id</th>\n",
              "      <th>rating</th>\n",
              "      <th>rating_binary</th>\n",
              "      <th>year_month</th>\n",
              "      <th>reviewer_location</th>\n",
              "      <th>review_text</th>\n",
              "      <th>branch</th>\n",
              "      <th>bing_liu_score</th>\n",
              "    </tr>\n",
              "  </thead>\n",
              "  <tbody>\n",
              "    <tr>\n",
              "      <th>36001</th>\n",
              "      <td>39696463</td>\n",
              "      <td>2</td>\n",
              "      <td>0</td>\n",
              "      <td>missing</td>\n",
              "      <td>United States</td>\n",
              "      <td>I was allured by the invitation to have breakf...</td>\n",
              "      <td>Disneyland_Paris</td>\n",
              "      <td>-0.001067</td>\n",
              "    </tr>\n",
              "    <tr>\n",
              "      <th>35970</th>\n",
              "      <td>106896552</td>\n",
              "      <td>2</td>\n",
              "      <td>0</td>\n",
              "      <td>2011-4</td>\n",
              "      <td>United Kingdom</td>\n",
              "      <td>If you've never been to a Disney Park and are ...</td>\n",
              "      <td>Disneyland_Paris</td>\n",
              "      <td>-0.001117</td>\n",
              "    </tr>\n",
              "    <tr>\n",
              "      <th>22918</th>\n",
              "      <td>115605447</td>\n",
              "      <td>5</td>\n",
              "      <td>1</td>\n",
              "      <td>2011-7</td>\n",
              "      <td>France</td>\n",
              "      <td>Now I'm a massive cynic about these types of t...</td>\n",
              "      <td>Disneyland_Paris</td>\n",
              "      <td>-0.001441</td>\n",
              "    </tr>\n",
              "    <tr>\n",
              "      <th>35948</th>\n",
              "      <td>117955068</td>\n",
              "      <td>2</td>\n",
              "      <td>0</td>\n",
              "      <td>2011-8</td>\n",
              "      <td>Ireland</td>\n",
              "      <td>Let me start by saying that I am a seasoned ve...</td>\n",
              "      <td>Disneyland_Paris</td>\n",
              "      <td>-0.001453</td>\n",
              "    </tr>\n",
              "    <tr>\n",
              "      <th>35281</th>\n",
              "      <td>402462585</td>\n",
              "      <td>2</td>\n",
              "      <td>0</td>\n",
              "      <td>2016-3</td>\n",
              "      <td>United Kingdom</td>\n",
              "      <td>This was our second visit to Disneyland but th...</td>\n",
              "      <td>Disneyland_Paris</td>\n",
              "      <td>-0.001460</td>\n",
              "    </tr>\n",
              "    <tr>\n",
              "      <th>31322</th>\n",
              "      <td>433027808</td>\n",
              "      <td>4</td>\n",
              "      <td>1</td>\n",
              "      <td>2016-10</td>\n",
              "      <td>United Kingdom</td>\n",
              "      <td>We visited during October half term and it was...</td>\n",
              "      <td>Disneyland_Paris</td>\n",
              "      <td>-0.001481</td>\n",
              "    </tr>\n",
              "    <tr>\n",
              "      <th>37263</th>\n",
              "      <td>186692452</td>\n",
              "      <td>1</td>\n",
              "      <td>0</td>\n",
              "      <td>2013-11</td>\n",
              "      <td>United Kingdom</td>\n",
              "      <td>We were a party of five, fifty something grand...</td>\n",
              "      <td>Disneyland_Paris</td>\n",
              "      <td>-0.001496</td>\n",
              "    </tr>\n",
              "    <tr>\n",
              "      <th>23049</th>\n",
              "      <td>29081732</td>\n",
              "      <td>5</td>\n",
              "      <td>1</td>\n",
              "      <td>missing</td>\n",
              "      <td>United Kingdom</td>\n",
              "      <td>Here's the funny thing about my first experien...</td>\n",
              "      <td>Disneyland_Paris</td>\n",
              "      <td>-0.001515</td>\n",
              "    </tr>\n",
              "    <tr>\n",
              "      <th>37516</th>\n",
              "      <td>28348600</td>\n",
              "      <td>1</td>\n",
              "      <td>0</td>\n",
              "      <td>missing</td>\n",
              "      <td>United Kingdom</td>\n",
              "      <td>Disneyland Paris   frustrating, inefficient, i...</td>\n",
              "      <td>Disneyland_Paris</td>\n",
              "      <td>-0.001536</td>\n",
              "    </tr>\n",
              "    <tr>\n",
              "      <th>37163</th>\n",
              "      <td>247365824</td>\n",
              "      <td>1</td>\n",
              "      <td>0</td>\n",
              "      <td>2014-12</td>\n",
              "      <td>United Kingdom</td>\n",
              "      <td>We are regular visitors to Disneyland Paris at...</td>\n",
              "      <td>Disneyland_Paris</td>\n",
              "      <td>-0.001629</td>\n",
              "    </tr>\n",
              "  </tbody>\n",
              "</table>\n",
              "</div>"
            ],
            "text/plain": [
              "       review_id  rating  rating_binary year_month reviewer_location  \\\n",
              "36001   39696463       2              0    missing     United States   \n",
              "35970  106896552       2              0     2011-4    United Kingdom   \n",
              "22918  115605447       5              1     2011-7            France   \n",
              "35948  117955068       2              0     2011-8           Ireland   \n",
              "35281  402462585       2              0     2016-3    United Kingdom   \n",
              "31322  433027808       4              1    2016-10    United Kingdom   \n",
              "37263  186692452       1              0    2013-11    United Kingdom   \n",
              "23049   29081732       5              1    missing    United Kingdom   \n",
              "37516   28348600       1              0    missing    United Kingdom   \n",
              "37163  247365824       1              0    2014-12    United Kingdom   \n",
              "\n",
              "                                             review_text            branch  \\\n",
              "36001  I was allured by the invitation to have breakf...  Disneyland_Paris   \n",
              "35970  If you've never been to a Disney Park and are ...  Disneyland_Paris   \n",
              "22918  Now I'm a massive cynic about these types of t...  Disneyland_Paris   \n",
              "35948  Let me start by saying that I am a seasoned ve...  Disneyland_Paris   \n",
              "35281  This was our second visit to Disneyland but th...  Disneyland_Paris   \n",
              "31322  We visited during October half term and it was...  Disneyland_Paris   \n",
              "37263  We were a party of five, fifty something grand...  Disneyland_Paris   \n",
              "23049  Here's the funny thing about my first experien...  Disneyland_Paris   \n",
              "37516  Disneyland Paris   frustrating, inefficient, i...  Disneyland_Paris   \n",
              "37163  We are regular visitors to Disneyland Paris at...  Disneyland_Paris   \n",
              "\n",
              "       bing_liu_score  \n",
              "36001       -0.001067  \n",
              "35970       -0.001117  \n",
              "22918       -0.001441  \n",
              "35948       -0.001453  \n",
              "35281       -0.001460  \n",
              "31322       -0.001481  \n",
              "37263       -0.001496  \n",
              "23049       -0.001515  \n",
              "37516       -0.001536  \n",
              "37163       -0.001629  "
            ]
          },
          "metadata": {},
          "execution_count": 353
        }
      ]
    },
    {
      "cell_type": "code",
      "metadata": {
        "colab": {
          "base_uri": "https://localhost:8080/"
        },
        "id": "kmg09VGK4hZu",
        "outputId": "ad79275f-50e0-4147-867d-01a2413821cd"
      },
      "source": [
        "# count of negative Paris branch reviews.\n",
        "PA_bl_neg['branch'].value_counts()"
      ],
      "execution_count": null,
      "outputs": [
        {
          "output_type": "execute_result",
          "data": {
            "text/plain": [
              "Disneyland_Paris    1524\n",
              "Name: branch, dtype: int64"
            ]
          },
          "metadata": {},
          "execution_count": 354
        }
      ]
    },
    {
      "cell_type": "code",
      "metadata": {
        "id": "Jzn5N7CN4xVH"
      },
      "source": [
        "# Create df of all positive Paris branch reviews.\n",
        "PA_bl_pos = PA_bl[PA_bl['bing_liu_score'] > 0]\n",
        "PA_bl_pos.head(10)"
      ],
      "execution_count": null,
      "outputs": []
    },
    {
      "cell_type": "code",
      "metadata": {
        "colab": {
          "base_uri": "https://localhost:8080/"
        },
        "id": "QbyFyK4_4xvu",
        "outputId": "da42a858-1c27-45db-b2e9-991e728ef078"
      },
      "source": [
        "# Count all positive reviews of Paris branch.\n",
        "PA_bl_pos['branch'].value_counts()"
      ],
      "execution_count": null,
      "outputs": [
        {
          "output_type": "execute_result",
          "data": {
            "text/plain": [
              "Disneyland_Paris    9267\n",
              "Name: branch, dtype: int64"
            ]
          },
          "metadata": {},
          "execution_count": 356
        }
      ]
    },
    {
      "cell_type": "code",
      "metadata": {
        "id": "lcAPZTiDnwDz"
      },
      "source": [
        "# Create df for neutral reviews of the Paris branch.\n",
        "PA_bl_neu = PA_bl[PA_bl['bing_liu_score'] == 0]\n",
        "PA_bl_neu.head(10)"
      ],
      "execution_count": null,
      "outputs": []
    },
    {
      "cell_type": "code",
      "metadata": {
        "colab": {
          "base_uri": "https://localhost:8080/"
        },
        "id": "P0mctNYyocLp",
        "outputId": "36eb5996-6d06-463d-9e3b-560b555e8276"
      },
      "source": [
        "# Neutral Paris review count\n",
        "PA_bl_neu['branch'].value_counts()"
      ],
      "execution_count": null,
      "outputs": [
        {
          "output_type": "execute_result",
          "data": {
            "text/plain": [
              "Disneyland_Paris    756\n",
              "Name: branch, dtype: int64"
            ]
          },
          "metadata": {},
          "execution_count": 358
        }
      ]
    },
    {
      "cell_type": "markdown",
      "metadata": {
        "id": "Hsgl3zqlDFg9"
      },
      "source": [
        "**Hong Kong Bing Liu Analysis**\n"
      ]
    },
    {
      "cell_type": "code",
      "metadata": {
        "colab": {
          "base_uri": "https://localhost:8080/"
        },
        "id": "h0xe_1yCnWIh",
        "outputId": "a1226287-64a4-4dbe-8bca-606d0cf80b65"
      },
      "source": [
        "# Count of all Hong Kong branch reviews.\n",
        "HK_bl['branch'].value_counts()"
      ],
      "execution_count": null,
      "outputs": [
        {
          "output_type": "execute_result",
          "data": {
            "text/plain": [
              "Disneyland_HongKong    8255\n",
              "Name: branch, dtype: int64"
            ]
          },
          "metadata": {},
          "execution_count": 359
        }
      ]
    },
    {
      "cell_type": "code",
      "metadata": {
        "id": "WN7rN58AuqR-"
      },
      "source": [
        "# Create df of all negative reviews for Hong Kong branch.\n",
        "HK_bl_neg = HK_bl[HK_bl['bing_liu_score'] < 0]\n",
        "HK_bl_neg.head(10)"
      ],
      "execution_count": null,
      "outputs": []
    },
    {
      "cell_type": "code",
      "metadata": {
        "colab": {
          "base_uri": "https://localhost:8080/"
        },
        "id": "XcLihyUguqWm",
        "outputId": "6227b101-ecc1-45c3-c3a7-94d8288c0438"
      },
      "source": [
        "# There are 502 negative reviews for Disneyland Hong Kong.\n",
        "HK_bl_neg.count()"
      ],
      "execution_count": null,
      "outputs": [
        {
          "output_type": "execute_result",
          "data": {
            "text/plain": [
              "review_id            502\n",
              "rating               502\n",
              "rating_binary        502\n",
              "year_month           502\n",
              "reviewer_location    502\n",
              "review_text          502\n",
              "branch               502\n",
              "bing_liu_score       502\n",
              "dtype: int64"
            ]
          },
          "metadata": {},
          "execution_count": 361
        }
      ]
    },
    {
      "cell_type": "code",
      "metadata": {
        "id": "73mgd2a5uqZN"
      },
      "source": [
        "# Create df of only positive reviews for Hong Kong branch.\n",
        "HK_bl_pos = HK_bl[HK_bl['bing_liu_score'] > 0]\n",
        "HK_bl_pos.head(10)"
      ],
      "execution_count": null,
      "outputs": []
    },
    {
      "cell_type": "code",
      "metadata": {
        "colab": {
          "base_uri": "https://localhost:8080/"
        },
        "id": "Wqf-NMmRuqbz",
        "outputId": "0dd2b29d-faea-4795-a90b-87230410ed27"
      },
      "source": [
        "# There are 7188 positive reviews for Disneyland Hong Kong.\n",
        "HK_bl_pos.count()"
      ],
      "execution_count": null,
      "outputs": [
        {
          "output_type": "execute_result",
          "data": {
            "text/plain": [
              "review_id            7188\n",
              "rating               7188\n",
              "rating_binary        7188\n",
              "year_month           7188\n",
              "reviewer_location    7188\n",
              "review_text          7188\n",
              "branch               7188\n",
              "bing_liu_score       7188\n",
              "dtype: int64"
            ]
          },
          "metadata": {},
          "execution_count": 363
        }
      ]
    },
    {
      "cell_type": "code",
      "metadata": {
        "id": "mWUHYOceuqeX"
      },
      "source": [
        "# Create df for neutral reviews of Hong Kong branch.\n",
        "HK_bl_neu = HK_bl[HK_bl['bing_liu_score'] == 0]\n",
        "HK_bl_neu.head(10)"
      ],
      "execution_count": null,
      "outputs": []
    },
    {
      "cell_type": "code",
      "metadata": {
        "colab": {
          "base_uri": "https://localhost:8080/"
        },
        "id": "HN3fm3lJ2ek_",
        "outputId": "845e50e3-aa64-4f7a-ab3c-9fa1580bb15e"
      },
      "source": [
        "# There are 565 neutral reviews for Disneyland Hong Kong. \n",
        "HK_bl_neu.count()"
      ],
      "execution_count": null,
      "outputs": [
        {
          "output_type": "execute_result",
          "data": {
            "text/plain": [
              "review_id            565\n",
              "rating               565\n",
              "rating_binary        565\n",
              "year_month           565\n",
              "reviewer_location    565\n",
              "review_text          565\n",
              "branch               565\n",
              "bing_liu_score       565\n",
              "dtype: int64"
            ]
          },
          "metadata": {},
          "execution_count": 365
        }
      ]
    },
    {
      "cell_type": "markdown",
      "metadata": {
        "id": "c_4N7NsVDXD-"
      },
      "source": [
        "**Ratios**\n"
      ]
    },
    {
      "cell_type": "code",
      "metadata": {
        "colab": {
          "base_uri": "https://localhost:8080/"
        },
        "id": "2PinDdNDuqjm",
        "outputId": "a3ce9f78-c0a8-465e-9412-93e4e04a2696"
      },
      "source": [
        "# Disneyland Hong Kong ratio for positive reviews is number of positive HK reviews divided by number of total HK reviews.\n",
        "HK_ratio_p = 7188/8255\n",
        "print(f\"The percentage of positive reviews for Disneyland Hong Kong is: {HK_ratio_p} or 87%.\")\n"
      ],
      "execution_count": null,
      "outputs": [
        {
          "output_type": "stream",
          "name": "stdout",
          "text": [
            "The percentage of positive reviews for Disneyland Hong Kong is: 0.8707450030284676 or 87%.\n"
          ]
        }
      ]
    },
    {
      "cell_type": "code",
      "metadata": {
        "colab": {
          "base_uri": "https://localhost:8080/"
        },
        "id": "1oX0RrBS3Q2w",
        "outputId": "1007c0e1-7357-44ee-dab5-dbab270cee2d"
      },
      "source": [
        "# Disneyland Paris ratio for positive reviews is number of positive Paris reviews divided by number of total Paris reviews.\n",
        "PA_ratio_p = 14902/17745\n",
        "print(f\"The percentage of positive reviews for Disneyland Paris is: {PA_ratio_p} or 84%.\")\n"
      ],
      "execution_count": null,
      "outputs": [
        {
          "output_type": "stream",
          "name": "stdout",
          "text": [
            "The percentage of positive reviews for Disneyland Paris is: 0.8397858551704706 or 84%.\n"
          ]
        }
      ]
    },
    {
      "cell_type": "code",
      "metadata": {
        "colab": {
          "base_uri": "https://localhost:8080/"
        },
        "id": "kQ9WWSRG3Pz5",
        "outputId": "6cda7e2c-897b-43ae-eb69-e59dc9cefc0e"
      },
      "source": [
        "# Disneyland Hong Kong ratio for negative reviews is number of negative HK reviews divided by number of total HK reviews.\n",
        "HK_ratio_n = 502/8255\n",
        "print(f\"The percentage of negative reviews for Disneyland Hong Kong is: {HK_ratio_n} or 6%.\")"
      ],
      "execution_count": null,
      "outputs": [
        {
          "output_type": "stream",
          "name": "stdout",
          "text": [
            "The percentage of negative reviews for Disneyland Hong Kong is: 0.06081162931556632 or 6%.\n"
          ]
        }
      ]
    },
    {
      "cell_type": "code",
      "metadata": {
        "colab": {
          "base_uri": "https://localhost:8080/"
        },
        "id": "3zPYbls4uql3",
        "outputId": "a9b3bc21-a313-4442-c25a-1276a7686eff"
      },
      "source": [
        "# Disneyland Paris ratio for negative reviews is number of negative Paris reviews divided by number of total Paris reviews.\n",
        "PA_ratio_n = 1493/17745\n",
        "print(f\"The percentage of negative reviews for Disneyland Paris is: {PA_ratio_n} or 8%.\")\n"
      ],
      "execution_count": null,
      "outputs": [
        {
          "output_type": "stream",
          "name": "stdout",
          "text": [
            "The percentage of negative reviews for Disneyland Paris is: 0.08413637644406875 or 8%.\n"
          ]
        }
      ]
    },
    {
      "cell_type": "code",
      "metadata": {
        "colab": {
          "base_uri": "https://localhost:8080/"
        },
        "id": "ymJdvqL_xbqJ",
        "outputId": "bc00283e-2ad5-488c-d673-2a6b0ed043f1"
      },
      "source": [
        "# Disneyland Hong Kong ratio for neutral reviews is number of neutral HK reviews divided by number of total HK reviews.\n",
        "HK_ratio_n = 565/8255\n",
        "print(f\"The percentage of negative reviews for Disneyland Hong Kong is: {HK_ratio_n} or 7%.\")"
      ],
      "execution_count": null,
      "outputs": [
        {
          "output_type": "stream",
          "name": "stdout",
          "text": [
            "The percentage of negative reviews for Disneyland Hong Kong is: 0.06844336765596608 or 6%.\n"
          ]
        }
      ]
    },
    {
      "cell_type": "code",
      "metadata": {
        "colab": {
          "base_uri": "https://localhost:8080/"
        },
        "id": "sdFSnF3hxcCf",
        "outputId": "84f0b22a-ed65-4f95-d4b6-6be8c362a8c1"
      },
      "source": [
        "# Disneyland Paris ratio for neutral reviews is number of neutral Paris reviews divided by number of total Paris reviews.\n",
        "PA_ratio_n = 1350/17745\n",
        "print(f\"The percentage of negative reviews for Disneyland Paris is: {PA_ratio_n} or 8%.\")"
      ],
      "execution_count": null,
      "outputs": [
        {
          "output_type": "stream",
          "name": "stdout",
          "text": [
            "The percentage of negative reviews for Disneyland Paris is: 0.0760777683854607 or 8%.\n"
          ]
        }
      ]
    },
    {
      "cell_type": "markdown",
      "metadata": {
        "id": "IrNPIaPuCgBO"
      },
      "source": [
        "Since the CA branch recieves more than twice as many total reviews than the HK branch, I have decided that comparing ratios of positive and negative reviews would be more fair when determining which branch recieves more positive or negatives reviews. According to my analysis, Disneyland HK recieves slightly more positive reviews with a percentage of 87%. Disneyland CA has 84% of their total reviews being positive. Neutral reviews were included in the total review count, so it would be possible for there the same branch to recieve more positive and negative reviews than the other branch. However, this scenario did not occur. Disneyland CA did recieve more negative reviews than Disneyland HK. Disneyland CA had 8% of its total reviews being negative, while Disneyland HK had 6% of its total reviews be negative."
      ]
    },
    {
      "cell_type": "markdown",
      "metadata": {
        "id": "YpCzs3RED1dd"
      },
      "source": [
        "**Disneyland Hong Kong Reviews Pie Chart**\n"
      ]
    },
    {
      "cell_type": "code",
      "metadata": {
        "colab": {
          "base_uri": "https://localhost:8080/",
          "height": 248
        },
        "id": "u5GzB78xuqt1",
        "outputId": "836e778a-c224-4079-89dd-bc5c39bf6fac"
      },
      "source": [
        "HK_y = np.array([87, 6, 6])\n",
        "labels_HK = [\"Positive\", \"Negative\", \"Neutral\"]\n",
        "colors_HK = [\"green\", \"red\", \"yellow\"]\n",
        "explode_HK = [0.1, 0.1, 0.1]\n",
        "plt.pie(HK_y, labels = labels_HK, explode = explode_HK, colors = colors_HK)\n",
        "plt.legend(title = \"Disneyland Hong Kong Reviews:\")\n",
        "plt.show()"
      ],
      "execution_count": null,
      "outputs": [
        {
          "output_type": "display_data",
          "data": {
            "image/png": "[encoded data removed]",
            "text/plain": [
              "<Figure size 432x288 with 1 Axes>"
            ]
          },
          "metadata": {}
        }
      ]
    },
    {
      "cell_type": "markdown",
      "metadata": {
        "id": "gIGEPYtGEAXN"
      },
      "source": [
        "**Disneyland California Reviews Pie Chart**\n"
      ]
    },
    {
      "cell_type": "code",
      "metadata": {
        "colab": {
          "base_uri": "https://localhost:8080/",
          "height": 248
        },
        "id": "vSYv7tNcuqwl",
        "outputId": "2afeff9b-83c1-4942-b672-44302faa3fbb"
      },
      "source": [
        "PA_y = np.array([84, 8, 8])\n",
        "labels_PA1 = [\"Positive\", \"Negative\", \"Neutral\"]\n",
        "colors_PA = [\"green\", \"red\", \"yellow\"]\n",
        "explode_PA = [0.1, 0.1, 0.1]\n",
        "plt.pie(PA_y, explode = explode_PA, colors = colors_PA, labels = labels_PA1)\n",
        "plt.legend(title = \"Disneyland Paris Reviews:\")\n",
        "plt.show()"
      ],
      "execution_count": null,
      "outputs": [
        {
          "output_type": "display_data",
          "data": {
            "image/png": "[encoded data removed]",
            "text/plain": [
              "<Figure size 432x288 with 1 Axes>"
            ]
          },
          "metadata": {}
        }
      ]
    },
    {
      "cell_type": "markdown",
      "metadata": {
        "id": "5myh05uIRinV"
      },
      "source": [
        "**3**"
      ]
    },
    {
      "cell_type": "code",
      "metadata": {
        "id": "X_B3A40cuqzF"
      },
      "source": [
        "# review original dataframe\n",
        "d_rev.head(10)"
      ],
      "execution_count": null,
      "outputs": []
    },
    {
      "cell_type": "code",
      "metadata": {
        "id": "dQgPbG0pWjc8"
      },
      "source": [
        "# filter dataframe for Paris\n",
        "e = d_rev[d_rev['branch'] == 'Disneyland_Paris']\n",
        "e.head(10)"
      ],
      "execution_count": null,
      "outputs": []
    },
    {
      "cell_type": "code",
      "metadata": {
        "id": "8rgnI9-Fuq11"
      },
      "source": [
        "# concat dataframe for Paris and Hong Kong\n",
        "pr_hk = pd.concat([e,c])"
      ],
      "execution_count": null,
      "outputs": []
    },
    {
      "cell_type": "code",
      "metadata": {
        "colab": {
          "base_uri": "https://localhost:8080/"
        },
        "id": "Cik-4UpdW1iS",
        "outputId": "82b7ac46-d59c-4e4e-c030-be733bc722f9"
      },
      "source": [
        "num_rows = len(pr_hk['branch'])\n",
        "# ratio of reviews by branch in new merged df\n",
        "pr_hk.value_counts('branch')/num_rows"
      ],
      "execution_count": null,
      "outputs": [
        {
          "output_type": "execute_result",
          "data": {
            "text/plain": [
              "branch\n",
              "Disneyland_Paris       0.583123\n",
              "Disneyland_HongKong    0.416877\n",
              "dtype: float64"
            ]
          },
          "metadata": {},
          "execution_count": 378
        }
      ]
    },
    {
      "cell_type": "code",
      "metadata": {
        "id": "AXMQ3mX9uq4V"
      },
      "source": [
        "# get dummies for concat df\n",
        "dummies = pd.get_dummies(pr_hk['branch'])\n",
        "pr_hk1 = pd.concat([pr_hk, dummies], axis=1)\n",
        "pr_hk1"
      ],
      "execution_count": null,
      "outputs": []
    },
    {
      "cell_type": "code",
      "metadata": {
        "colab": {
          "base_uri": "https://localhost:8080/"
        },
        "id": "2vDJ15psuq7H",
        "outputId": "3cd2f673-7c3a-4b03-f691-fa2aa63ca824"
      },
      "source": [
        "# count number of reviews for each branch\n",
        "pr_hk1['branch'].value_counts()"
      ],
      "execution_count": null,
      "outputs": [
        {
          "output_type": "execute_result",
          "data": {
            "text/plain": [
              "Disneyland_Paris       11547\n",
              "Disneyland_HongKong     8255\n",
              "Name: branch, dtype: int64"
            ]
          },
          "metadata": {},
          "execution_count": 380
        }
      ]
    },
    {
      "cell_type": "code",
      "metadata": {
        "colab": {
          "base_uri": "https://localhost:8080/",
          "height": 359
        },
        "id": "reET85nul509",
        "outputId": "e8445376-35a8-4632-8fe1-9ccebad0b8a7"
      },
      "source": [
        "# review new dataframe\n",
        "pr_hk1.head(10)"
      ],
      "execution_count": null,
      "outputs": [
        {
          "output_type": "execute_result",
          "data": {
            "text/html": [
              "<div>\n",
              "<style scoped>\n",
              "    .dataframe tbody tr th:only-of-type {\n",
              "        vertical-align: middle;\n",
              "    }\n",
              "\n",
              "    .dataframe tbody tr th {\n",
              "        vertical-align: top;\n",
              "    }\n",
              "\n",
              "    .dataframe thead th {\n",
              "        text-align: right;\n",
              "    }\n",
              "</style>\n",
              "<table border=\"1\" class=\"dataframe\">\n",
              "  <thead>\n",
              "    <tr style=\"text-align: right;\">\n",
              "      <th></th>\n",
              "      <th>review_id</th>\n",
              "      <th>rating</th>\n",
              "      <th>rating_binary</th>\n",
              "      <th>year_month</th>\n",
              "      <th>reviewer_location</th>\n",
              "      <th>review_text</th>\n",
              "      <th>branch</th>\n",
              "      <th>Disneyland_HongKong</th>\n",
              "      <th>Disneyland_Paris</th>\n",
              "    </tr>\n",
              "  </thead>\n",
              "  <tbody>\n",
              "    <tr>\n",
              "      <th>17035</th>\n",
              "      <td>670721950</td>\n",
              "      <td>5</td>\n",
              "      <td>1</td>\n",
              "      <td>2019-3</td>\n",
              "      <td>United Arab Emirates</td>\n",
              "      <td>We've been to Disneyland Hongkong and Tokyo, s...</td>\n",
              "      <td>Disneyland_Paris</td>\n",
              "      <td>0</td>\n",
              "      <td>1</td>\n",
              "    </tr>\n",
              "    <tr>\n",
              "      <th>17036</th>\n",
              "      <td>670606796</td>\n",
              "      <td>5</td>\n",
              "      <td>1</td>\n",
              "      <td>2019-4</td>\n",
              "      <td>United Kingdom</td>\n",
              "      <td>What a fantastic place, the queues were decent...</td>\n",
              "      <td>Disneyland_Paris</td>\n",
              "      <td>0</td>\n",
              "      <td>1</td>\n",
              "    </tr>\n",
              "    <tr>\n",
              "      <th>17037</th>\n",
              "      <td>670535589</td>\n",
              "      <td>5</td>\n",
              "      <td>1</td>\n",
              "      <td>missing</td>\n",
              "      <td>France</td>\n",
              "      <td>A Trip to Disney makes you all warm and fuzzy ...</td>\n",
              "      <td>Disneyland_Paris</td>\n",
              "      <td>0</td>\n",
              "      <td>1</td>\n",
              "    </tr>\n",
              "    <tr>\n",
              "      <th>17038</th>\n",
              "      <td>670400930</td>\n",
              "      <td>5</td>\n",
              "      <td>1</td>\n",
              "      <td>2019-4</td>\n",
              "      <td>United Kingdom</td>\n",
              "      <td>Such a magical experience. I recommend making ...</td>\n",
              "      <td>Disneyland_Paris</td>\n",
              "      <td>0</td>\n",
              "      <td>1</td>\n",
              "    </tr>\n",
              "    <tr>\n",
              "      <th>17039</th>\n",
              "      <td>670289145</td>\n",
              "      <td>5</td>\n",
              "      <td>1</td>\n",
              "      <td>missing</td>\n",
              "      <td>United Kingdom</td>\n",
              "      <td>My boyfriend took me here for my birthday this...</td>\n",
              "      <td>Disneyland_Paris</td>\n",
              "      <td>0</td>\n",
              "      <td>1</td>\n",
              "    </tr>\n",
              "    <tr>\n",
              "      <th>17040</th>\n",
              "      <td>670260744</td>\n",
              "      <td>5</td>\n",
              "      <td>1</td>\n",
              "      <td>2019-4</td>\n",
              "      <td>United Kingdom</td>\n",
              "      <td>Everything here is just amazing. Take your own...</td>\n",
              "      <td>Disneyland_Paris</td>\n",
              "      <td>0</td>\n",
              "      <td>1</td>\n",
              "    </tr>\n",
              "    <tr>\n",
              "      <th>17041</th>\n",
              "      <td>669948652</td>\n",
              "      <td>5</td>\n",
              "      <td>1</td>\n",
              "      <td>2019-4</td>\n",
              "      <td>Netherlands</td>\n",
              "      <td>Not the same as Disney in the states, none of ...</td>\n",
              "      <td>Disneyland_Paris</td>\n",
              "      <td>0</td>\n",
              "      <td>1</td>\n",
              "    </tr>\n",
              "    <tr>\n",
              "      <th>17042</th>\n",
              "      <td>669869964</td>\n",
              "      <td>5</td>\n",
              "      <td>1</td>\n",
              "      <td>2019-4</td>\n",
              "      <td>Malta</td>\n",
              "      <td>This is a place everyone deserves to go at lea...</td>\n",
              "      <td>Disneyland_Paris</td>\n",
              "      <td>0</td>\n",
              "      <td>1</td>\n",
              "    </tr>\n",
              "    <tr>\n",
              "      <th>17043</th>\n",
              "      <td>669707947</td>\n",
              "      <td>5</td>\n",
              "      <td>1</td>\n",
              "      <td>2019-4</td>\n",
              "      <td>Ireland</td>\n",
              "      <td>3rd time hereIt gets betterPlenty to do for al...</td>\n",
              "      <td>Disneyland_Paris</td>\n",
              "      <td>0</td>\n",
              "      <td>1</td>\n",
              "    </tr>\n",
              "    <tr>\n",
              "      <th>17044</th>\n",
              "      <td>669618354</td>\n",
              "      <td>5</td>\n",
              "      <td>1</td>\n",
              "      <td>2019-4</td>\n",
              "      <td>Saudi Arabia</td>\n",
              "      <td>I had been there twice with my  grandson, I wi...</td>\n",
              "      <td>Disneyland_Paris</td>\n",
              "      <td>0</td>\n",
              "      <td>1</td>\n",
              "    </tr>\n",
              "  </tbody>\n",
              "</table>\n",
              "</div>"
            ],
            "text/plain": [
              "       review_id  rating  rating_binary year_month     reviewer_location  \\\n",
              "17035  670721950       5              1     2019-3  United Arab Emirates   \n",
              "17036  670606796       5              1     2019-4        United Kingdom   \n",
              "17037  670535589       5              1    missing                France   \n",
              "17038  670400930       5              1     2019-4        United Kingdom   \n",
              "17039  670289145       5              1    missing        United Kingdom   \n",
              "17040  670260744       5              1     2019-4        United Kingdom   \n",
              "17041  669948652       5              1     2019-4           Netherlands   \n",
              "17042  669869964       5              1     2019-4                 Malta   \n",
              "17043  669707947       5              1     2019-4               Ireland   \n",
              "17044  669618354       5              1     2019-4          Saudi Arabia   \n",
              "\n",
              "                                             review_text            branch  \\\n",
              "17035  We've been to Disneyland Hongkong and Tokyo, s...  Disneyland_Paris   \n",
              "17036  What a fantastic place, the queues were decent...  Disneyland_Paris   \n",
              "17037  A Trip to Disney makes you all warm and fuzzy ...  Disneyland_Paris   \n",
              "17038  Such a magical experience. I recommend making ...  Disneyland_Paris   \n",
              "17039  My boyfriend took me here for my birthday this...  Disneyland_Paris   \n",
              "17040  Everything here is just amazing. Take your own...  Disneyland_Paris   \n",
              "17041  Not the same as Disney in the states, none of ...  Disneyland_Paris   \n",
              "17042  This is a place everyone deserves to go at lea...  Disneyland_Paris   \n",
              "17043  3rd time hereIt gets betterPlenty to do for al...  Disneyland_Paris   \n",
              "17044  I had been there twice with my  grandson, I wi...  Disneyland_Paris   \n",
              "\n",
              "       Disneyland_HongKong  Disneyland_Paris  \n",
              "17035                    0                 1  \n",
              "17036                    0                 1  \n",
              "17037                    0                 1  \n",
              "17038                    0                 1  \n",
              "17039                    0                 1  \n",
              "17040                    0                 1  \n",
              "17041                    0                 1  \n",
              "17042                    0                 1  \n",
              "17043                    0                 1  \n",
              "17044                    0                 1  "
            ]
          },
          "metadata": {},
          "execution_count": 381
        }
      ]
    },
    {
      "cell_type": "code",
      "metadata": {
        "id": "3elXp9uAuq9e"
      },
      "source": [
        "# tokenize reviews\n",
        "re_tokenizer = RegexpTokenizer(\"[\\\\w']+\") \n",
        "pr_hk1['review_text_tok'] = pr_hk1['review_text'].apply(re_tokenizer.tokenize)\n",
        "#  cleaning setup\n",
        "punc = string.punctuation\n",
        "digits = string.digits \n",
        "stopwords_nltk = nltk.corpus.stopwords.words('english')\n",
        "# cleaning\n",
        "pr_hk1['review_text_cleaned'] = pr_hk1['review_text_tok'].apply(lambda x: [word.lower() for word in x])\n",
        "pr_hk1['review_text_cleaned'] = pr_hk1['review_text_cleaned'].apply(lambda x: [word for word in x if word not in digits]) \n",
        "pr_hk1['review_text_cleaned'] = pr_hk1['review_text_cleaned'].apply(lambda x: [word for word in x if word not in punc])\n",
        "pr_hk1['review_text_cleaned'] = pr_hk1['review_text_cleaned'].apply(lambda x: [word for word in x if word not in stopwords_nltk])\n"
      ],
      "execution_count": null,
      "outputs": []
    },
    {
      "cell_type": "code",
      "metadata": {
        "colab": {
          "base_uri": "https://localhost:8080/",
          "height": 529
        },
        "id": "FlgEv_jqahSm",
        "outputId": "0312d5c9-bcb2-45bd-943b-ea5c72df23ad"
      },
      "source": [
        "#review new cleaned df\n",
        "pr_hk1.head(10)"
      ],
      "execution_count": null,
      "outputs": [
        {
          "output_type": "execute_result",
          "data": {
            "text/html": [
              "<div>\n",
              "<style scoped>\n",
              "    .dataframe tbody tr th:only-of-type {\n",
              "        vertical-align: middle;\n",
              "    }\n",
              "\n",
              "    .dataframe tbody tr th {\n",
              "        vertical-align: top;\n",
              "    }\n",
              "\n",
              "    .dataframe thead th {\n",
              "        text-align: right;\n",
              "    }\n",
              "</style>\n",
              "<table border=\"1\" class=\"dataframe\">\n",
              "  <thead>\n",
              "    <tr style=\"text-align: right;\">\n",
              "      <th></th>\n",
              "      <th>review_id</th>\n",
              "      <th>rating</th>\n",
              "      <th>rating_binary</th>\n",
              "      <th>year_month</th>\n",
              "      <th>reviewer_location</th>\n",
              "      <th>review_text</th>\n",
              "      <th>branch</th>\n",
              "      <th>Disneyland_HongKong</th>\n",
              "      <th>Disneyland_Paris</th>\n",
              "      <th>review_text_tok</th>\n",
              "      <th>review_text_cleaned</th>\n",
              "    </tr>\n",
              "  </thead>\n",
              "  <tbody>\n",
              "    <tr>\n",
              "      <th>17035</th>\n",
              "      <td>670721950</td>\n",
              "      <td>5</td>\n",
              "      <td>1</td>\n",
              "      <td>2019-3</td>\n",
              "      <td>United Arab Emirates</td>\n",
              "      <td>We've been to Disneyland Hongkong and Tokyo, s...</td>\n",
              "      <td>Disneyland_Paris</td>\n",
              "      <td>0</td>\n",
              "      <td>1</td>\n",
              "      <td>[We've, been, to, Disneyland, Hongkong, and, T...</td>\n",
              "      <td>[we've, disneyland, hongkong, tokyo, far, one,...</td>\n",
              "    </tr>\n",
              "    <tr>\n",
              "      <th>17036</th>\n",
              "      <td>670606796</td>\n",
              "      <td>5</td>\n",
              "      <td>1</td>\n",
              "      <td>2019-4</td>\n",
              "      <td>United Kingdom</td>\n",
              "      <td>What a fantastic place, the queues were decent...</td>\n",
              "      <td>Disneyland_Paris</td>\n",
              "      <td>0</td>\n",
              "      <td>1</td>\n",
              "      <td>[What, a, fantastic, place, the, queues, were,...</td>\n",
              "      <td>[fantastic, place, queues, decent, best, time,...</td>\n",
              "    </tr>\n",
              "    <tr>\n",
              "      <th>17037</th>\n",
              "      <td>670535589</td>\n",
              "      <td>5</td>\n",
              "      <td>1</td>\n",
              "      <td>missing</td>\n",
              "      <td>France</td>\n",
              "      <td>A Trip to Disney makes you all warm and fuzzy ...</td>\n",
              "      <td>Disneyland_Paris</td>\n",
              "      <td>0</td>\n",
              "      <td>1</td>\n",
              "      <td>[A, Trip, to, Disney, makes, you, all, warm, a...</td>\n",
              "      <td>[trip, disney, makes, warm, fuzzy, actual, kid...</td>\n",
              "    </tr>\n",
              "    <tr>\n",
              "      <th>17038</th>\n",
              "      <td>670400930</td>\n",
              "      <td>5</td>\n",
              "      <td>1</td>\n",
              "      <td>2019-4</td>\n",
              "      <td>United Kingdom</td>\n",
              "      <td>Such a magical experience. I recommend making ...</td>\n",
              "      <td>Disneyland_Paris</td>\n",
              "      <td>0</td>\n",
              "      <td>1</td>\n",
              "      <td>[Such, a, magical, experience, I, recommend, m...</td>\n",
              "      <td>[magical, experience, recommend, making, us, f...</td>\n",
              "    </tr>\n",
              "    <tr>\n",
              "      <th>17039</th>\n",
              "      <td>670289145</td>\n",
              "      <td>5</td>\n",
              "      <td>1</td>\n",
              "      <td>missing</td>\n",
              "      <td>United Kingdom</td>\n",
              "      <td>My boyfriend took me here for my birthday this...</td>\n",
              "      <td>Disneyland_Paris</td>\n",
              "      <td>0</td>\n",
              "      <td>1</td>\n",
              "      <td>[My, boyfriend, took, me, here, for, my, birth...</td>\n",
              "      <td>[boyfriend, took, birthday, year, god, he's, d...</td>\n",
              "    </tr>\n",
              "    <tr>\n",
              "      <th>17040</th>\n",
              "      <td>670260744</td>\n",
              "      <td>5</td>\n",
              "      <td>1</td>\n",
              "      <td>2019-4</td>\n",
              "      <td>United Kingdom</td>\n",
              "      <td>Everything here is just amazing. Take your own...</td>\n",
              "      <td>Disneyland_Paris</td>\n",
              "      <td>0</td>\n",
              "      <td>1</td>\n",
              "      <td>[Everything, here, is, just, amazing, Take, yo...</td>\n",
              "      <td>[everything, amazing, take, lunch, save, time,...</td>\n",
              "    </tr>\n",
              "    <tr>\n",
              "      <th>17041</th>\n",
              "      <td>669948652</td>\n",
              "      <td>5</td>\n",
              "      <td>1</td>\n",
              "      <td>2019-4</td>\n",
              "      <td>Netherlands</td>\n",
              "      <td>Not the same as Disney in the states, none of ...</td>\n",
              "      <td>Disneyland_Paris</td>\n",
              "      <td>0</td>\n",
              "      <td>1</td>\n",
              "      <td>[Not, the, same, as, Disney, in, the, states, ...</td>\n",
              "      <td>[disney, states, none, usual, foods, none, les...</td>\n",
              "    </tr>\n",
              "    <tr>\n",
              "      <th>17042</th>\n",
              "      <td>669869964</td>\n",
              "      <td>5</td>\n",
              "      <td>1</td>\n",
              "      <td>2019-4</td>\n",
              "      <td>Malta</td>\n",
              "      <td>This is a place everyone deserves to go at lea...</td>\n",
              "      <td>Disneyland_Paris</td>\n",
              "      <td>0</td>\n",
              "      <td>1</td>\n",
              "      <td>[This, is, a, place, everyone, deserves, to, g...</td>\n",
              "      <td>[place, everyone, deserves, go, least, life, t...</td>\n",
              "    </tr>\n",
              "    <tr>\n",
              "      <th>17043</th>\n",
              "      <td>669707947</td>\n",
              "      <td>5</td>\n",
              "      <td>1</td>\n",
              "      <td>2019-4</td>\n",
              "      <td>Ireland</td>\n",
              "      <td>3rd time hereIt gets betterPlenty to do for al...</td>\n",
              "      <td>Disneyland_Paris</td>\n",
              "      <td>0</td>\n",
              "      <td>1</td>\n",
              "      <td>[3rd, time, hereIt, gets, betterPlenty, to, do...</td>\n",
              "      <td>[3rd, time, hereit, gets, betterplenty, allsho...</td>\n",
              "    </tr>\n",
              "    <tr>\n",
              "      <th>17044</th>\n",
              "      <td>669618354</td>\n",
              "      <td>5</td>\n",
              "      <td>1</td>\n",
              "      <td>2019-4</td>\n",
              "      <td>Saudi Arabia</td>\n",
              "      <td>I had been there twice with my  grandson, I wi...</td>\n",
              "      <td>Disneyland_Paris</td>\n",
              "      <td>0</td>\n",
              "      <td>1</td>\n",
              "      <td>[I, had, been, there, twice, with, my, grandso...</td>\n",
              "      <td>[twice, grandson, never, give, grandsons, neve...</td>\n",
              "    </tr>\n",
              "  </tbody>\n",
              "</table>\n",
              "</div>"
            ],
            "text/plain": [
              "       review_id  rating  rating_binary year_month     reviewer_location  \\\n",
              "17035  670721950       5              1     2019-3  United Arab Emirates   \n",
              "17036  670606796       5              1     2019-4        United Kingdom   \n",
              "17037  670535589       5              1    missing                France   \n",
              "17038  670400930       5              1     2019-4        United Kingdom   \n",
              "17039  670289145       5              1    missing        United Kingdom   \n",
              "17040  670260744       5              1     2019-4        United Kingdom   \n",
              "17041  669948652       5              1     2019-4           Netherlands   \n",
              "17042  669869964       5              1     2019-4                 Malta   \n",
              "17043  669707947       5              1     2019-4               Ireland   \n",
              "17044  669618354       5              1     2019-4          Saudi Arabia   \n",
              "\n",
              "                                             review_text            branch  \\\n",
              "17035  We've been to Disneyland Hongkong and Tokyo, s...  Disneyland_Paris   \n",
              "17036  What a fantastic place, the queues were decent...  Disneyland_Paris   \n",
              "17037  A Trip to Disney makes you all warm and fuzzy ...  Disneyland_Paris   \n",
              "17038  Such a magical experience. I recommend making ...  Disneyland_Paris   \n",
              "17039  My boyfriend took me here for my birthday this...  Disneyland_Paris   \n",
              "17040  Everything here is just amazing. Take your own...  Disneyland_Paris   \n",
              "17041  Not the same as Disney in the states, none of ...  Disneyland_Paris   \n",
              "17042  This is a place everyone deserves to go at lea...  Disneyland_Paris   \n",
              "17043  3rd time hereIt gets betterPlenty to do for al...  Disneyland_Paris   \n",
              "17044  I had been there twice with my  grandson, I wi...  Disneyland_Paris   \n",
              "\n",
              "       Disneyland_HongKong  Disneyland_Paris  \\\n",
              "17035                    0                 1   \n",
              "17036                    0                 1   \n",
              "17037                    0                 1   \n",
              "17038                    0                 1   \n",
              "17039                    0                 1   \n",
              "17040                    0                 1   \n",
              "17041                    0                 1   \n",
              "17042                    0                 1   \n",
              "17043                    0                 1   \n",
              "17044                    0                 1   \n",
              "\n",
              "                                         review_text_tok  \\\n",
              "17035  [We've, been, to, Disneyland, Hongkong, and, T...   \n",
              "17036  [What, a, fantastic, place, the, queues, were,...   \n",
              "17037  [A, Trip, to, Disney, makes, you, all, warm, a...   \n",
              "17038  [Such, a, magical, experience, I, recommend, m...   \n",
              "17039  [My, boyfriend, took, me, here, for, my, birth...   \n",
              "17040  [Everything, here, is, just, amazing, Take, yo...   \n",
              "17041  [Not, the, same, as, Disney, in, the, states, ...   \n",
              "17042  [This, is, a, place, everyone, deserves, to, g...   \n",
              "17043  [3rd, time, hereIt, gets, betterPlenty, to, do...   \n",
              "17044  [I, had, been, there, twice, with, my, grandso...   \n",
              "\n",
              "                                     review_text_cleaned  \n",
              "17035  [we've, disneyland, hongkong, tokyo, far, one,...  \n",
              "17036  [fantastic, place, queues, decent, best, time,...  \n",
              "17037  [trip, disney, makes, warm, fuzzy, actual, kid...  \n",
              "17038  [magical, experience, recommend, making, us, f...  \n",
              "17039  [boyfriend, took, birthday, year, god, he's, d...  \n",
              "17040  [everything, amazing, take, lunch, save, time,...  \n",
              "17041  [disney, states, none, usual, foods, none, les...  \n",
              "17042  [place, everyone, deserves, go, least, life, t...  \n",
              "17043  [3rd, time, hereit, gets, betterplenty, allsho...  \n",
              "17044  [twice, grandson, never, give, grandsons, neve...  "
            ]
          },
          "metadata": {},
          "execution_count": 383
        }
      ]
    },
    {
      "cell_type": "code",
      "metadata": {
        "id": "q0HEPXUnurAV"
      },
      "source": [
        "# Set up training and test sets\n",
        "# 80%; 20%\n",
        "# Stratify on Disneyland_Paris\n",
        "# Y = Disneyland_Paris\n",
        "# X =  tfidf weighted vectors\n",
        "\n",
        "X_train, X_test, Y_train, Y_test = train_test_split(pr_hk1['review_text_cleaned'], \n",
        "                                                    pr_hk1['Disneyland_Paris'],\n",
        "                                                    test_size = 0.2,\n",
        "                                                    stratify = pr_hk1['Disneyland_Paris'])"
      ],
      "execution_count": null,
      "outputs": []
    },
    {
      "cell_type": "code",
      "metadata": {
        "id": "Fmh4jew2urC2"
      },
      "source": [
        "# view objects for X_train\n",
        "X_train"
      ],
      "execution_count": null,
      "outputs": []
    },
    {
      "cell_type": "code",
      "metadata": {
        "id": "0TBbBFkEurFe"
      },
      "source": [
        "# view objects for Y_train\n",
        "Y_train"
      ],
      "execution_count": null,
      "outputs": []
    },
    {
      "cell_type": "code",
      "metadata": {
        "id": "30v5MwffurIF"
      },
      "source": [
        "# transform each item in the X list into strings\n",
        "X_train_str = [' '.join(map(str, l)) for l in X_train]\n",
        "X_test_str = [' '.join(map(str, l)) for l in X_test]"
      ],
      "execution_count": null,
      "outputs": []
    },
    {
      "cell_type": "code",
      "metadata": {
        "id": "nSOIzWhnurKv"
      },
      "source": [
        "# Making tfidf vectors here\n",
        "vectorizer = TfidfVectorizer() \n",
        "X_train_tfidf = vectorizer.fit_transform(X_train_str)\n",
        "X_test_tfidf = vectorizer.transform(X_test_str)"
      ],
      "execution_count": null,
      "outputs": []
    },
    {
      "cell_type": "code",
      "metadata": {
        "colab": {
          "base_uri": "https://localhost:8080/"
        },
        "id": "s6rtCAmzurNH",
        "outputId": "42ffadad-467b-4f9f-fd5f-309c22496ca3"
      },
      "source": [
        "# look at the object now\n",
        "X_train_tfidf"
      ],
      "execution_count": null,
      "outputs": [
        {
          "output_type": "execute_result",
          "data": {
            "text/plain": [
              "<15841x27596 sparse matrix of type '<class 'numpy.float64'>'\n",
              "\twith 912138 stored elements in Compressed Sparse Row format>"
            ]
          },
          "metadata": {},
          "execution_count": 389
        }
      ]
    },
    {
      "cell_type": "markdown",
      "metadata": {
        "id": "6GzR7kJafcCh"
      },
      "source": [
        "**Binary Classification**"
      ]
    },
    {
      "cell_type": "code",
      "metadata": {
        "colab": {
          "base_uri": "https://localhost:8080/"
        },
        "id": "NKMpXwaxurP0",
        "outputId": "6cfeb53b-9462-47cb-cb51-209efe7125e9"
      },
      "source": [
        "# Here we are training the SVM model\n",
        "svm_model = LinearSVC(random_state = 72)\n",
        "# another optio nis...\n",
        "#svm_model = LinearSVC()\n",
        "svm_model.fit(X_train_tfidf, Y_train)"
      ],
      "execution_count": null,
      "outputs": [
        {
          "output_type": "execute_result",
          "data": {
            "text/plain": [
              "LinearSVC(random_state=72)"
            ]
          },
          "metadata": {},
          "execution_count": 390
        }
      ]
    },
    {
      "cell_type": "code",
      "metadata": {
        "colab": {
          "base_uri": "https://localhost:8080/"
        },
        "id": "MuUvX_5hurR9",
        "outputId": "bec0ed7d-b473-4631-9127-a307f543f9eb"
      },
      "source": [
        "# Create predictions on our test set\n",
        "Y_pred_svm = svm_model.predict(X_test_tfidf)\n",
        "Y_pred_svm"
      ],
      "execution_count": null,
      "outputs": [
        {
          "output_type": "execute_result",
          "data": {
            "text/plain": [
              "array([0, 1, 0, ..., 0, 0, 1], dtype=uint8)"
            ]
          },
          "metadata": {},
          "execution_count": 391
        }
      ]
    },
    {
      "cell_type": "code",
      "metadata": {
        "colab": {
          "base_uri": "https://localhost:8080/",
          "height": 279
        },
        "id": "9t2piHdHfR6E",
        "outputId": "3c187dfc-29e7-47e7-91d1-857cbfab13a6"
      },
      "source": [
        "# This is a confusion matrix. This shows us true positives, true negatives, false positives and false negatives.\n",
        "cm = confusion_matrix(Y_test, Y_pred_svm, labels=svm_model.classes_)\n",
        "cm_display = ConfusionMatrixDisplay(cm, display_labels=svm_model.classes_).plot()\n"
      ],
      "execution_count": null,
      "outputs": [
        {
          "output_type": "display_data",
          "data": {
            "image/png": "[encoded data removed]",
            "text/plain": [
              "<Figure size 432x288 with 2 Axes>"
            ]
          },
          "metadata": {
            "needs_background": "light"
          }
        }
      ]
    },
    {
      "cell_type": "code",
      "metadata": {
        "id": "NnjCRwvDfSJK",
        "colab": {
          "base_uri": "https://localhost:8080/",
          "height": 266
        },
        "outputId": "86cd8472-7aba-4173-dc79-21e14c63a78a"
      },
      "source": [
        "# These are performance metrics. These are ways to investigate the accuracy of your model through multiple calculations of parts of the confusion matrix.\n",
        "# We will save the dataframe and add each different statistical model's metric results in order to compare and contrast model effectiveness.\n",
        "index = ['Precision', 'Recall', 'Accuracy', 'F1 score', 'AU ROC score', 'AU PRC score', 'MCC']\n",
        "performance_metrics = pd.DataFrame([precision_score(Y_test, Y_pred_svm), \n",
        "                                    recall_score(Y_test, Y_pred_svm),\n",
        "                                    accuracy_score(Y_test, Y_pred_svm),\n",
        "                                    f1_score(Y_test, Y_pred_svm),\n",
        "                                    roc_auc_score(Y_test, Y_pred_svm),\n",
        "                                    average_precision_score(Y_test, Y_pred_svm),\n",
        "                                    matthews_corrcoef(Y_test, Y_pred_svm)], index)\n",
        "\n",
        "performance_metrics.columns = ['SVM']\n",
        "\n",
        "performance_metrics"
      ],
      "execution_count": null,
      "outputs": [
        {
          "output_type": "execute_result",
          "data": {
            "text/html": [
              "<div>\n",
              "<style scoped>\n",
              "    .dataframe tbody tr th:only-of-type {\n",
              "        vertical-align: middle;\n",
              "    }\n",
              "\n",
              "    .dataframe tbody tr th {\n",
              "        vertical-align: top;\n",
              "    }\n",
              "\n",
              "    .dataframe thead th {\n",
              "        text-align: right;\n",
              "    }\n",
              "</style>\n",
              "<table border=\"1\" class=\"dataframe\">\n",
              "  <thead>\n",
              "    <tr style=\"text-align: right;\">\n",
              "      <th></th>\n",
              "      <th>SVM</th>\n",
              "    </tr>\n",
              "  </thead>\n",
              "  <tbody>\n",
              "    <tr>\n",
              "      <th>Precision</th>\n",
              "      <td>0.918228</td>\n",
              "    </tr>\n",
              "    <tr>\n",
              "      <th>Recall</th>\n",
              "      <td>0.933333</td>\n",
              "    </tr>\n",
              "    <tr>\n",
              "      <th>Accuracy</th>\n",
              "      <td>0.912648</td>\n",
              "    </tr>\n",
              "    <tr>\n",
              "      <th>F1 score</th>\n",
              "      <td>0.925719</td>\n",
              "    </tr>\n",
              "    <tr>\n",
              "      <th>AU ROC score</th>\n",
              "      <td>0.908520</td>\n",
              "    </tr>\n",
              "    <tr>\n",
              "      <th>AU PRC score</th>\n",
              "      <td>0.895892</td>\n",
              "    </tr>\n",
              "    <tr>\n",
              "      <th>MCC</th>\n",
              "      <td>0.819892</td>\n",
              "    </tr>\n",
              "  </tbody>\n",
              "</table>\n",
              "</div>"
            ],
            "text/plain": [
              "                   SVM\n",
              "Precision     0.918228\n",
              "Recall        0.933333\n",
              "Accuracy      0.912648\n",
              "F1 score      0.925719\n",
              "AU ROC score  0.908520\n",
              "AU PRC score  0.895892\n",
              "MCC           0.819892"
            ]
          },
          "metadata": {},
          "execution_count": 393
        }
      ]
    },
    {
      "cell_type": "markdown",
      "metadata": {
        "id": "iVt9aXichCfL"
      },
      "source": [
        "**Binary Classification Using Logistic Regression**"
      ]
    },
    {
      "cell_type": "code",
      "metadata": {
        "id": "B2Sw0-8DfS3C"
      },
      "source": [
        "# Here we are training the logisitic regression model.\n",
        "logit_model = LogisticRegression(random_state = 72)\n",
        "logit_model.fit(X_train_tfidf, Y_train)\n",
        "\n",
        "# Lets generate predictions for our test set.\n",
        "Y_pred_logit = logit_model.predict(X_test_tfidf)"
      ],
      "execution_count": null,
      "outputs": []
    },
    {
      "cell_type": "code",
      "metadata": {
        "colab": {
          "base_uri": "https://localhost:8080/",
          "height": 266
        },
        "id": "RtZ213RhfTCS",
        "outputId": "796b3723-7c0c-4ed7-dffc-681b22a0014f"
      },
      "source": [
        "# Now we add our performance metrics for the logistic regression model to our dataframe.\n",
        "index = ['Precision', 'Recall', 'Accuracy', 'F1 score', 'AU ROC score', 'AU PRC score', 'MCC']\n",
        "logit_perf = pd.DataFrame([precision_score(Y_test, Y_pred_logit), \n",
        "                                    recall_score(Y_test, Y_pred_logit),\n",
        "                                    accuracy_score(Y_test, Y_pred_logit),\n",
        "                                    f1_score(Y_test, Y_pred_logit),\n",
        "                                    roc_auc_score(Y_test, Y_pred_logit),\n",
        "                                    average_precision_score(Y_test, Y_pred_logit),\n",
        "                                    matthews_corrcoef(Y_test, Y_pred_logit)], index=index)\n",
        "\n",
        "performance_metrics['Logistic regression'] = pd.Series(logit_perf[0])\n",
        "performance_metrics"
      ],
      "execution_count": null,
      "outputs": [
        {
          "output_type": "execute_result",
          "data": {
            "text/html": [
              "<div>\n",
              "<style scoped>\n",
              "    .dataframe tbody tr th:only-of-type {\n",
              "        vertical-align: middle;\n",
              "    }\n",
              "\n",
              "    .dataframe tbody tr th {\n",
              "        vertical-align: top;\n",
              "    }\n",
              "\n",
              "    .dataframe thead th {\n",
              "        text-align: right;\n",
              "    }\n",
              "</style>\n",
              "<table border=\"1\" class=\"dataframe\">\n",
              "  <thead>\n",
              "    <tr style=\"text-align: right;\">\n",
              "      <th></th>\n",
              "      <th>SVM</th>\n",
              "      <th>Logistic regression</th>\n",
              "    </tr>\n",
              "  </thead>\n",
              "  <tbody>\n",
              "    <tr>\n",
              "      <th>Precision</th>\n",
              "      <td>0.918228</td>\n",
              "      <td>0.903774</td>\n",
              "    </tr>\n",
              "    <tr>\n",
              "      <th>Recall</th>\n",
              "      <td>0.933333</td>\n",
              "      <td>0.943290</td>\n",
              "    </tr>\n",
              "    <tr>\n",
              "      <th>Accuracy</th>\n",
              "      <td>0.912648</td>\n",
              "      <td>0.908356</td>\n",
              "    </tr>\n",
              "    <tr>\n",
              "      <th>F1 score</th>\n",
              "      <td>0.925719</td>\n",
              "      <td>0.923110</td>\n",
              "    </tr>\n",
              "    <tr>\n",
              "      <th>AU ROC score</th>\n",
              "      <td>0.908520</td>\n",
              "      <td>0.901385</td>\n",
              "    </tr>\n",
              "    <tr>\n",
              "      <th>AU PRC score</th>\n",
              "      <td>0.895892</td>\n",
              "      <td>0.885594</td>\n",
              "    </tr>\n",
              "    <tr>\n",
              "      <th>MCC</th>\n",
              "      <td>0.819892</td>\n",
              "      <td>0.810972</td>\n",
              "    </tr>\n",
              "  </tbody>\n",
              "</table>\n",
              "</div>"
            ],
            "text/plain": [
              "                   SVM  Logistic regression\n",
              "Precision     0.918228             0.903774\n",
              "Recall        0.933333             0.943290\n",
              "Accuracy      0.912648             0.908356\n",
              "F1 score      0.925719             0.923110\n",
              "AU ROC score  0.908520             0.901385\n",
              "AU PRC score  0.895892             0.885594\n",
              "MCC           0.819892             0.810972"
            ]
          },
          "metadata": {},
          "execution_count": 395
        }
      ]
    },
    {
      "cell_type": "markdown",
      "metadata": {
        "id": "E0rIZ3zmhOrj"
      },
      "source": [
        "**Binary Classification Using Naive Bayes**"
      ]
    },
    {
      "cell_type": "code",
      "metadata": {
        "id": "VpaR92nnfTMy"
      },
      "source": [
        "# Here we are training the Naive Bayes model.\n",
        "nb_model = BernoulliNB()\n",
        "nb_model.fit(X_train_tfidf.toarray(), Y_train)\n",
        "\n",
        "# Lets generate predictions for our test set.\n",
        "Y_pred_nb = nb_model.predict(X_test_tfidf.toarray())"
      ],
      "execution_count": null,
      "outputs": []
    },
    {
      "cell_type": "code",
      "metadata": {
        "colab": {
          "base_uri": "https://localhost:8080/",
          "height": 266
        },
        "id": "e5jJ1qLXfTXq",
        "outputId": "9c451dbd-0fca-49e4-ef51-59d99e60e62b"
      },
      "source": [
        "# Now we add our performance metrics for the Naive Bayes model to our dataframe.\n",
        "index = ['Precision', 'Recall', 'Accuracy', 'F1 score', 'AU ROC score', 'AU PRC score', 'MCC']\n",
        "nb_perf = pd.DataFrame([precision_score(Y_test, Y_pred_nb), \n",
        "                                    recall_score(Y_test, Y_pred_nb),\n",
        "                                    accuracy_score(Y_test, Y_pred_nb),\n",
        "                                    f1_score(Y_test, Y_pred_nb),\n",
        "                                    roc_auc_score(Y_test, Y_pred_nb),\n",
        "                                    average_precision_score(Y_test, Y_pred_nb),\n",
        "                                    matthews_corrcoef(Y_test, Y_pred_nb)], index=index)\n",
        "\n",
        "performance_metrics['Naive Bayes'] = pd.Series(nb_perf[0])\n",
        "performance_metrics"
      ],
      "execution_count": null,
      "outputs": [
        {
          "output_type": "execute_result",
          "data": {
            "text/html": [
              "<div>\n",
              "<style scoped>\n",
              "    .dataframe tbody tr th:only-of-type {\n",
              "        vertical-align: middle;\n",
              "    }\n",
              "\n",
              "    .dataframe tbody tr th {\n",
              "        vertical-align: top;\n",
              "    }\n",
              "\n",
              "    .dataframe thead th {\n",
              "        text-align: right;\n",
              "    }\n",
              "</style>\n",
              "<table border=\"1\" class=\"dataframe\">\n",
              "  <thead>\n",
              "    <tr style=\"text-align: right;\">\n",
              "      <th></th>\n",
              "      <th>SVM</th>\n",
              "      <th>Logistic regression</th>\n",
              "      <th>Naive Bayes</th>\n",
              "    </tr>\n",
              "  </thead>\n",
              "  <tbody>\n",
              "    <tr>\n",
              "      <th>Precision</th>\n",
              "      <td>0.918228</td>\n",
              "      <td>0.903774</td>\n",
              "      <td>0.935528</td>\n",
              "    </tr>\n",
              "    <tr>\n",
              "      <th>Recall</th>\n",
              "      <td>0.933333</td>\n",
              "      <td>0.943290</td>\n",
              "      <td>0.590476</td>\n",
              "    </tr>\n",
              "    <tr>\n",
              "      <th>Accuracy</th>\n",
              "      <td>0.912648</td>\n",
              "      <td>0.908356</td>\n",
              "      <td>0.737440</td>\n",
              "    </tr>\n",
              "    <tr>\n",
              "      <th>F1 score</th>\n",
              "      <td>0.925719</td>\n",
              "      <td>0.923110</td>\n",
              "      <td>0.723992</td>\n",
              "    </tr>\n",
              "    <tr>\n",
              "      <th>AU ROC score</th>\n",
              "      <td>0.908520</td>\n",
              "      <td>0.901385</td>\n",
              "      <td>0.766770</td>\n",
              "    </tr>\n",
              "    <tr>\n",
              "      <th>AU PRC score</th>\n",
              "      <td>0.895892</td>\n",
              "      <td>0.885594</td>\n",
              "      <td>0.791236</td>\n",
              "    </tr>\n",
              "    <tr>\n",
              "      <th>MCC</th>\n",
              "      <td>0.819892</td>\n",
              "      <td>0.810972</td>\n",
              "      <td>0.545429</td>\n",
              "    </tr>\n",
              "  </tbody>\n",
              "</table>\n",
              "</div>"
            ],
            "text/plain": [
              "                   SVM  Logistic regression  Naive Bayes\n",
              "Precision     0.918228             0.903774     0.935528\n",
              "Recall        0.933333             0.943290     0.590476\n",
              "Accuracy      0.912648             0.908356     0.737440\n",
              "F1 score      0.925719             0.923110     0.723992\n",
              "AU ROC score  0.908520             0.901385     0.766770\n",
              "AU PRC score  0.895892             0.885594     0.791236\n",
              "MCC           0.819892             0.810972     0.545429"
            ]
          },
          "metadata": {},
          "execution_count": 397
        }
      ]
    },
    {
      "cell_type": "markdown",
      "metadata": {
        "id": "JpTNd6johbpq"
      },
      "source": [
        "**Binary Classification Using Random Forest**"
      ]
    },
    {
      "cell_type": "code",
      "metadata": {
        "id": "5_pUDKyofTiS"
      },
      "source": [
        "# Here we are training the Naive Bayes model.\n",
        "rf_model = RandomForestClassifier(random_state = 72)\n",
        "rf_model.fit(X_train_tfidf, Y_train)\n",
        "\n",
        "# Generate predictions on the test set\n",
        "Y_pred_rf = rf_model.predict(X_test_tfidf)"
      ],
      "execution_count": null,
      "outputs": []
    },
    {
      "cell_type": "code",
      "metadata": {
        "colab": {
          "base_uri": "https://localhost:8080/",
          "height": 266
        },
        "id": "siCxVVkdfTsJ",
        "outputId": "75e3b7d7-c06c-4838-f7d2-39cc95d1194c"
      },
      "source": [
        "\n",
        "# Now we add our performance metrics for the Random Forest model to our dataframe.\n",
        "index = ['Precision', 'Recall', 'Accuracy', 'F1 score', 'AU ROC score', 'AU PRC score', 'MCC']\n",
        "rf_perf = pd.DataFrame([precision_score(Y_test, Y_pred_rf), \n",
        "                                    recall_score(Y_test, Y_pred_rf),\n",
        "                                    accuracy_score(Y_test, Y_pred_rf),\n",
        "                                    f1_score(Y_test, Y_pred_rf),\n",
        "                                    roc_auc_score(Y_test, Y_pred_rf),\n",
        "                                    average_precision_score(Y_test, Y_pred_rf),\n",
        "                                    matthews_corrcoef(Y_test, Y_pred_rf)], index=index)\n",
        "# merge dataframe\n",
        "performance_metrics['Random Forest'] = pd.Series(rf_perf[0])\n",
        "performance_metrics"
      ],
      "execution_count": null,
      "outputs": [
        {
          "output_type": "execute_result",
          "data": {
            "text/html": [
              "<div>\n",
              "<style scoped>\n",
              "    .dataframe tbody tr th:only-of-type {\n",
              "        vertical-align: middle;\n",
              "    }\n",
              "\n",
              "    .dataframe tbody tr th {\n",
              "        vertical-align: top;\n",
              "    }\n",
              "\n",
              "    .dataframe thead th {\n",
              "        text-align: right;\n",
              "    }\n",
              "</style>\n",
              "<table border=\"1\" class=\"dataframe\">\n",
              "  <thead>\n",
              "    <tr style=\"text-align: right;\">\n",
              "      <th></th>\n",
              "      <th>SVM</th>\n",
              "      <th>Logistic regression</th>\n",
              "      <th>Naive Bayes</th>\n",
              "      <th>Random Forest</th>\n",
              "    </tr>\n",
              "  </thead>\n",
              "  <tbody>\n",
              "    <tr>\n",
              "      <th>Precision</th>\n",
              "      <td>0.918228</td>\n",
              "      <td>0.903774</td>\n",
              "      <td>0.935528</td>\n",
              "      <td>0.868390</td>\n",
              "    </tr>\n",
              "    <tr>\n",
              "      <th>Recall</th>\n",
              "      <td>0.933333</td>\n",
              "      <td>0.943290</td>\n",
              "      <td>0.590476</td>\n",
              "      <td>0.945455</td>\n",
              "    </tr>\n",
              "    <tr>\n",
              "      <th>Accuracy</th>\n",
              "      <td>0.912648</td>\n",
              "      <td>0.908356</td>\n",
              "      <td>0.737440</td>\n",
              "      <td>0.884625</td>\n",
              "    </tr>\n",
              "    <tr>\n",
              "      <th>F1 score</th>\n",
              "      <td>0.925719</td>\n",
              "      <td>0.923110</td>\n",
              "      <td>0.723992</td>\n",
              "      <td>0.905285</td>\n",
              "    </tr>\n",
              "    <tr>\n",
              "      <th>AU ROC score</th>\n",
              "      <td>0.908520</td>\n",
              "      <td>0.901385</td>\n",
              "      <td>0.766770</td>\n",
              "      <td>0.872485</td>\n",
              "    </tr>\n",
              "    <tr>\n",
              "      <th>AU PRC score</th>\n",
              "      <td>0.895892</td>\n",
              "      <td>0.885594</td>\n",
              "      <td>0.791236</td>\n",
              "      <td>0.852833</td>\n",
              "    </tr>\n",
              "    <tr>\n",
              "      <th>MCC</th>\n",
              "      <td>0.819892</td>\n",
              "      <td>0.810972</td>\n",
              "      <td>0.545429</td>\n",
              "      <td>0.762896</td>\n",
              "    </tr>\n",
              "  </tbody>\n",
              "</table>\n",
              "</div>"
            ],
            "text/plain": [
              "                   SVM  Logistic regression  Naive Bayes  Random Forest\n",
              "Precision     0.918228             0.903774     0.935528       0.868390\n",
              "Recall        0.933333             0.943290     0.590476       0.945455\n",
              "Accuracy      0.912648             0.908356     0.737440       0.884625\n",
              "F1 score      0.925719             0.923110     0.723992       0.905285\n",
              "AU ROC score  0.908520             0.901385     0.766770       0.872485\n",
              "AU PRC score  0.895892             0.885594     0.791236       0.852833\n",
              "MCC           0.819892             0.810972     0.545429       0.762896"
            ]
          },
          "metadata": {},
          "execution_count": 399
        }
      ]
    },
    {
      "cell_type": "markdown",
      "metadata": {
        "id": "K9rvUa09icKN"
      },
      "source": [
        "I would say that 'accuracy' and 'precision' would be the 2 most insightful performance metrics in assessing model performance. The 'accuracy' metric informs us of how often the classifier is correct. This is a fundamentally important performance metric. 'Precision' is another very useful performance metric because it informs us of how accurate our model is at predicting yes. This helps us understand how prone to making false positives our model is."
      ]
    },
    {
      "cell_type": "markdown",
      "metadata": {
        "id": "9ym-LzGMhswL"
      },
      "source": [
        "**Binary Classification Using BERT**\n",
        "(Google model released in 2018)"
      ]
    },
    {
      "cell_type": "code",
      "metadata": {
        "colab": {
          "base_uri": "https://localhost:8080/"
        },
        "id": "5Q04cPnifT5q",
        "outputId": "d7cc1b18-4e94-48c9-b2b3-0cc2fd7196b1"
      },
      "source": [
        "# Here we initialize distilBERT model and tokenizer.\n",
        "\n",
        "\n",
        "model = TFDistilBertForSequenceClassification.from_pretrained(\"distilbert-base-uncased\")\n",
        "tokenizer = DistilBertTokenizer.from_pretrained(\"distilbert-base-uncased\")\n",
        "\n",
        "\n"
      ],
      "execution_count": null,
      "outputs": [
        {
          "output_type": "stream",
          "name": "stderr",
          "text": [
            "Some layers from the model checkpoint at distilbert-base-uncased were not used when initializing TFDistilBertForSequenceClassification: ['activation_13', 'vocab_projector', 'vocab_transform', 'vocab_layer_norm']\n",
            "- This IS expected if you are initializing TFDistilBertForSequenceClassification from the checkpoint of a model trained on another task or with another architecture (e.g. initializing a BertForSequenceClassification model from a BertForPreTraining model).\n",
            "- This IS NOT expected if you are initializing TFDistilBertForSequenceClassification from the checkpoint of a model that you expect to be exactly identical (initializing a BertForSequenceClassification model from a BertForSequenceClassification model).\n",
            "Some layers of TFDistilBertForSequenceClassification were not initialized from the model checkpoint at distilbert-base-uncased and are newly initialized: ['dropout_79', 'classifier', 'pre_classifier']\n",
            "You should probably TRAIN this model on a down-stream task to be able to use it for predictions and inference.\n"
          ]
        }
      ]
    },
    {
      "cell_type": "code",
      "metadata": {
        "colab": {
          "base_uri": "https://localhost:8080/",
          "height": 529
        },
        "id": "GloN-eT9daau",
        "outputId": "a9963966-7488-4aa5-ca77-1698fae4571a"
      },
      "source": [
        "# review the dataframe\n",
        "pr_hk1.head(10)"
      ],
      "execution_count": null,
      "outputs": [
        {
          "output_type": "execute_result",
          "data": {
            "text/html": [
              "<div>\n",
              "<style scoped>\n",
              "    .dataframe tbody tr th:only-of-type {\n",
              "        vertical-align: middle;\n",
              "    }\n",
              "\n",
              "    .dataframe tbody tr th {\n",
              "        vertical-align: top;\n",
              "    }\n",
              "\n",
              "    .dataframe thead th {\n",
              "        text-align: right;\n",
              "    }\n",
              "</style>\n",
              "<table border=\"1\" class=\"dataframe\">\n",
              "  <thead>\n",
              "    <tr style=\"text-align: right;\">\n",
              "      <th></th>\n",
              "      <th>review_id</th>\n",
              "      <th>rating</th>\n",
              "      <th>rating_binary</th>\n",
              "      <th>year_month</th>\n",
              "      <th>reviewer_location</th>\n",
              "      <th>review_text</th>\n",
              "      <th>branch</th>\n",
              "      <th>Disneyland_HongKong</th>\n",
              "      <th>Disneyland_Paris</th>\n",
              "      <th>review_text_tok</th>\n",
              "      <th>review_text_cleaned</th>\n",
              "    </tr>\n",
              "  </thead>\n",
              "  <tbody>\n",
              "    <tr>\n",
              "      <th>17035</th>\n",
              "      <td>670721950</td>\n",
              "      <td>5</td>\n",
              "      <td>1</td>\n",
              "      <td>2019-3</td>\n",
              "      <td>United Arab Emirates</td>\n",
              "      <td>We've been to Disneyland Hongkong and Tokyo, s...</td>\n",
              "      <td>Disneyland_Paris</td>\n",
              "      <td>0</td>\n",
              "      <td>1</td>\n",
              "      <td>[We've, been, to, Disneyland, Hongkong, and, T...</td>\n",
              "      <td>[we've, disneyland, hongkong, tokyo, far, one,...</td>\n",
              "    </tr>\n",
              "    <tr>\n",
              "      <th>17036</th>\n",
              "      <td>670606796</td>\n",
              "      <td>5</td>\n",
              "      <td>1</td>\n",
              "      <td>2019-4</td>\n",
              "      <td>United Kingdom</td>\n",
              "      <td>What a fantastic place, the queues were decent...</td>\n",
              "      <td>Disneyland_Paris</td>\n",
              "      <td>0</td>\n",
              "      <td>1</td>\n",
              "      <td>[What, a, fantastic, place, the, queues, were,...</td>\n",
              "      <td>[fantastic, place, queues, decent, best, time,...</td>\n",
              "    </tr>\n",
              "    <tr>\n",
              "      <th>17037</th>\n",
              "      <td>670535589</td>\n",
              "      <td>5</td>\n",
              "      <td>1</td>\n",
              "      <td>missing</td>\n",
              "      <td>France</td>\n",
              "      <td>A Trip to Disney makes you all warm and fuzzy ...</td>\n",
              "      <td>Disneyland_Paris</td>\n",
              "      <td>0</td>\n",
              "      <td>1</td>\n",
              "      <td>[A, Trip, to, Disney, makes, you, all, warm, a...</td>\n",
              "      <td>[trip, disney, makes, warm, fuzzy, actual, kid...</td>\n",
              "    </tr>\n",
              "    <tr>\n",
              "      <th>17038</th>\n",
              "      <td>670400930</td>\n",
              "      <td>5</td>\n",
              "      <td>1</td>\n",
              "      <td>2019-4</td>\n",
              "      <td>United Kingdom</td>\n",
              "      <td>Such a magical experience. I recommend making ...</td>\n",
              "      <td>Disneyland_Paris</td>\n",
              "      <td>0</td>\n",
              "      <td>1</td>\n",
              "      <td>[Such, a, magical, experience, I, recommend, m...</td>\n",
              "      <td>[magical, experience, recommend, making, us, f...</td>\n",
              "    </tr>\n",
              "    <tr>\n",
              "      <th>17039</th>\n",
              "      <td>670289145</td>\n",
              "      <td>5</td>\n",
              "      <td>1</td>\n",
              "      <td>missing</td>\n",
              "      <td>United Kingdom</td>\n",
              "      <td>My boyfriend took me here for my birthday this...</td>\n",
              "      <td>Disneyland_Paris</td>\n",
              "      <td>0</td>\n",
              "      <td>1</td>\n",
              "      <td>[My, boyfriend, took, me, here, for, my, birth...</td>\n",
              "      <td>[boyfriend, took, birthday, year, god, he's, d...</td>\n",
              "    </tr>\n",
              "    <tr>\n",
              "      <th>17040</th>\n",
              "      <td>670260744</td>\n",
              "      <td>5</td>\n",
              "      <td>1</td>\n",
              "      <td>2019-4</td>\n",
              "      <td>United Kingdom</td>\n",
              "      <td>Everything here is just amazing. Take your own...</td>\n",
              "      <td>Disneyland_Paris</td>\n",
              "      <td>0</td>\n",
              "      <td>1</td>\n",
              "      <td>[Everything, here, is, just, amazing, Take, yo...</td>\n",
              "      <td>[everything, amazing, take, lunch, save, time,...</td>\n",
              "    </tr>\n",
              "    <tr>\n",
              "      <th>17041</th>\n",
              "      <td>669948652</td>\n",
              "      <td>5</td>\n",
              "      <td>1</td>\n",
              "      <td>2019-4</td>\n",
              "      <td>Netherlands</td>\n",
              "      <td>Not the same as Disney in the states, none of ...</td>\n",
              "      <td>Disneyland_Paris</td>\n",
              "      <td>0</td>\n",
              "      <td>1</td>\n",
              "      <td>[Not, the, same, as, Disney, in, the, states, ...</td>\n",
              "      <td>[disney, states, none, usual, foods, none, les...</td>\n",
              "    </tr>\n",
              "    <tr>\n",
              "      <th>17042</th>\n",
              "      <td>669869964</td>\n",
              "      <td>5</td>\n",
              "      <td>1</td>\n",
              "      <td>2019-4</td>\n",
              "      <td>Malta</td>\n",
              "      <td>This is a place everyone deserves to go at lea...</td>\n",
              "      <td>Disneyland_Paris</td>\n",
              "      <td>0</td>\n",
              "      <td>1</td>\n",
              "      <td>[This, is, a, place, everyone, deserves, to, g...</td>\n",
              "      <td>[place, everyone, deserves, go, least, life, t...</td>\n",
              "    </tr>\n",
              "    <tr>\n",
              "      <th>17043</th>\n",
              "      <td>669707947</td>\n",
              "      <td>5</td>\n",
              "      <td>1</td>\n",
              "      <td>2019-4</td>\n",
              "      <td>Ireland</td>\n",
              "      <td>3rd time hereIt gets betterPlenty to do for al...</td>\n",
              "      <td>Disneyland_Paris</td>\n",
              "      <td>0</td>\n",
              "      <td>1</td>\n",
              "      <td>[3rd, time, hereIt, gets, betterPlenty, to, do...</td>\n",
              "      <td>[3rd, time, hereit, gets, betterplenty, allsho...</td>\n",
              "    </tr>\n",
              "    <tr>\n",
              "      <th>17044</th>\n",
              "      <td>669618354</td>\n",
              "      <td>5</td>\n",
              "      <td>1</td>\n",
              "      <td>2019-4</td>\n",
              "      <td>Saudi Arabia</td>\n",
              "      <td>I had been there twice with my  grandson, I wi...</td>\n",
              "      <td>Disneyland_Paris</td>\n",
              "      <td>0</td>\n",
              "      <td>1</td>\n",
              "      <td>[I, had, been, there, twice, with, my, grandso...</td>\n",
              "      <td>[twice, grandson, never, give, grandsons, neve...</td>\n",
              "    </tr>\n",
              "  </tbody>\n",
              "</table>\n",
              "</div>"
            ],
            "text/plain": [
              "       review_id  rating  rating_binary year_month     reviewer_location  \\\n",
              "17035  670721950       5              1     2019-3  United Arab Emirates   \n",
              "17036  670606796       5              1     2019-4        United Kingdom   \n",
              "17037  670535589       5              1    missing                France   \n",
              "17038  670400930       5              1     2019-4        United Kingdom   \n",
              "17039  670289145       5              1    missing        United Kingdom   \n",
              "17040  670260744       5              1     2019-4        United Kingdom   \n",
              "17041  669948652       5              1     2019-4           Netherlands   \n",
              "17042  669869964       5              1     2019-4                 Malta   \n",
              "17043  669707947       5              1     2019-4               Ireland   \n",
              "17044  669618354       5              1     2019-4          Saudi Arabia   \n",
              "\n",
              "                                             review_text            branch  \\\n",
              "17035  We've been to Disneyland Hongkong and Tokyo, s...  Disneyland_Paris   \n",
              "17036  What a fantastic place, the queues were decent...  Disneyland_Paris   \n",
              "17037  A Trip to Disney makes you all warm and fuzzy ...  Disneyland_Paris   \n",
              "17038  Such a magical experience. I recommend making ...  Disneyland_Paris   \n",
              "17039  My boyfriend took me here for my birthday this...  Disneyland_Paris   \n",
              "17040  Everything here is just amazing. Take your own...  Disneyland_Paris   \n",
              "17041  Not the same as Disney in the states, none of ...  Disneyland_Paris   \n",
              "17042  This is a place everyone deserves to go at lea...  Disneyland_Paris   \n",
              "17043  3rd time hereIt gets betterPlenty to do for al...  Disneyland_Paris   \n",
              "17044  I had been there twice with my  grandson, I wi...  Disneyland_Paris   \n",
              "\n",
              "       Disneyland_HongKong  Disneyland_Paris  \\\n",
              "17035                    0                 1   \n",
              "17036                    0                 1   \n",
              "17037                    0                 1   \n",
              "17038                    0                 1   \n",
              "17039                    0                 1   \n",
              "17040                    0                 1   \n",
              "17041                    0                 1   \n",
              "17042                    0                 1   \n",
              "17043                    0                 1   \n",
              "17044                    0                 1   \n",
              "\n",
              "                                         review_text_tok  \\\n",
              "17035  [We've, been, to, Disneyland, Hongkong, and, T...   \n",
              "17036  [What, a, fantastic, place, the, queues, were,...   \n",
              "17037  [A, Trip, to, Disney, makes, you, all, warm, a...   \n",
              "17038  [Such, a, magical, experience, I, recommend, m...   \n",
              "17039  [My, boyfriend, took, me, here, for, my, birth...   \n",
              "17040  [Everything, here, is, just, amazing, Take, yo...   \n",
              "17041  [Not, the, same, as, Disney, in, the, states, ...   \n",
              "17042  [This, is, a, place, everyone, deserves, to, g...   \n",
              "17043  [3rd, time, hereIt, gets, betterPlenty, to, do...   \n",
              "17044  [I, had, been, there, twice, with, my, grandso...   \n",
              "\n",
              "                                     review_text_cleaned  \n",
              "17035  [we've, disneyland, hongkong, tokyo, far, one,...  \n",
              "17036  [fantastic, place, queues, decent, best, time,...  \n",
              "17037  [trip, disney, makes, warm, fuzzy, actual, kid...  \n",
              "17038  [magical, experience, recommend, making, us, f...  \n",
              "17039  [boyfriend, took, birthday, year, god, he's, d...  \n",
              "17040  [everything, amazing, take, lunch, save, time,...  \n",
              "17041  [disney, states, none, usual, foods, none, les...  \n",
              "17042  [place, everyone, deserves, go, least, life, t...  \n",
              "17043  [3rd, time, hereit, gets, betterplenty, allsho...  \n",
              "17044  [twice, grandson, never, give, grandsons, neve...  "
            ]
          },
          "metadata": {},
          "execution_count": 401
        }
      ]
    },
    {
      "cell_type": "code",
      "metadata": {
        "id": "1Wfy5M4LhwPb"
      },
      "source": [
        "# This is the same dataset but just with non-cleaned tokens\n",
        "X_train, X_test, Y_train, Y_test = train_test_split(pr_hk1['review_text_tok'], \n",
        "                                                    pr_hk1['Disneyland_Paris'],\n",
        "                                                    test_size = 0.2,\n",
        "                                                    stratify = pr_hk1['Disneyland_Paris']) # Stratify ensures equal distribution of 0/1 in training and test sets  \n",
        "\n",
        "# Bring X and Y into a single entity for train and test the dataframes\n",
        "# We re-string now\n",
        "train = pd.concat([X_train, Y_train], axis=1).reset_index()\n",
        "train['review_text_tok'] = train['review_text_tok'].apply(lambda x: \" \".join(x))\n",
        "\n",
        "test = pd.concat([X_test, Y_test], axis=1).reset_index()\n",
        "test['review_text_tok'] = test['review_text_tok'].apply(lambda x: \" \".join(x))\n",
        "\n",
        "train"
      ],
      "execution_count": null,
      "outputs": []
    },
    {
      "cell_type": "code",
      "metadata": {
        "colab": {
          "base_uri": "https://localhost:8080/"
        },
        "id": "JPgtpZi0hwgi",
        "outputId": "8393c29f-d9e6-487f-f47c-5f385a03eddd"
      },
      "source": [
        "# max length for arguments will be 200  \n",
        "print((train['review_text_tok'].str.len()).max())\n",
        "print((test['review_text_tok'].str.len()).max())"
      ],
      "execution_count": null,
      "outputs": [
        {
          "output_type": "stream",
          "name": "stdout",
          "text": [
            "20084\n",
            "10182\n"
          ]
        }
      ]
    },
    {
      "cell_type": "code",
      "metadata": {
        "id": "tGBh_2ushwtp"
      },
      "source": [
        "# this will convert the data that we have into input examples for test and train\n",
        "def convert_data_to_examples(train, test, DATA_COLUMN, LABEL_COLUMN): \n",
        "  train_InputExamples = train.apply(lambda x: InputExample(guid=None, \n",
        "                                                          text_a = x[DATA_COLUMN], \n",
        "                                                          text_b = None,\n",
        "                                                          label = x[LABEL_COLUMN]), axis = 1)\n",
        "\n",
        "  test_InputExamples = test.apply(lambda x: InputExample(guid=None, \n",
        "                                                          text_a = x[DATA_COLUMN], \n",
        "                                                          text_b = None,\n",
        "                                                          label = x[LABEL_COLUMN]), axis = 1)\n",
        "  \n",
        "  return train_InputExamples, test_InputExamples"
      ],
      "execution_count": null,
      "outputs": []
    },
    {
      "cell_type": "code",
      "metadata": {
        "id": "ZaHmO-EMhw_6"
      },
      "source": [
        "# These are the column identifiers\n",
        "DATA_COLUMN = 'review_text_tok'\n",
        "LABEL_COLUMN = 'Disneyland_Paris'"
      ],
      "execution_count": null,
      "outputs": []
    },
    {
      "cell_type": "code",
      "metadata": {
        "id": "5-YO2dv8hxMR"
      },
      "source": [
        "# These are InputExample objects\n",
        "train_InputExamples, test_InputExamples = convert_data_to_examples(train, test, DATA_COLUMN, LABEL_COLUMN)"
      ],
      "execution_count": null,
      "outputs": []
    },
    {
      "cell_type": "code",
      "metadata": {
        "id": "tHva3R7Uhutq"
      },
      "source": [
        "# Here is the corresponding function\n",
        "def convert_examples_to_tf_dataset(examples, tokenizer, max_length=200):\n",
        "    features = [] \n",
        "\n",
        "    for e in examples:\n",
        "        input_dict = tokenizer.encode_plus(\n",
        "            e.text_a,\n",
        "            add_special_tokens=True,\n",
        "            max_length=max_length, # truncates if len(s) > max_length\n",
        "            return_token_type_ids=True,\n",
        "            return_attention_mask=True,\n",
        "            pad_to_max_length=True, \n",
        "            truncation=True)\n",
        "\n",
        "        input_ids, token_type_ids, attention_mask = (input_dict[\"input_ids\"],\n",
        "            input_dict[\"token_type_ids\"], input_dict['attention_mask'])\n",
        "\n",
        "        features.append(\n",
        "            InputFeatures(\n",
        "                input_ids=input_ids, attention_mask=attention_mask, token_type_ids=token_type_ids, label=e.label))\n",
        "\n",
        "    def gen():\n",
        "        for f in features:\n",
        "            yield (\n",
        "                {\n",
        "                    \"input_ids\": f.input_ids,\n",
        "                    \"attention_mask\": f.attention_mask,\n",
        "                    \"token_type_ids\": f.token_type_ids,\n",
        "                },\n",
        "                f.label,\n",
        "            )\n",
        "\n",
        "    return tf.data.Dataset.from_generator(\n",
        "        gen,\n",
        "        ({\"input_ids\": tf.int32, \"attention_mask\": tf.int32, \"token_type_ids\": tf.int32}, tf.int64),\n",
        "        (\n",
        "            {\n",
        "                \"input_ids\": tf.TensorShape([None]),\n",
        "                \"attention_mask\": tf.TensorShape([None]),\n",
        "                \"token_type_ids\": tf.TensorShape([None]),\n",
        "            },\n",
        "            tf.TensorShape([]),),)\n"
      ],
      "execution_count": null,
      "outputs": []
    },
    {
      "cell_type": "code",
      "metadata": {
        "colab": {
          "base_uri": "https://localhost:8080/"
        },
        "id": "j55Ix1ttiKHC",
        "outputId": "7af037cb-d99b-4fce-d46d-0212932a04e1"
      },
      "source": [
        "# Call the function above on training and test InputExample objects\n",
        "train_data = convert_examples_to_tf_dataset(list(train_InputExamples), tokenizer)\n",
        "train_data = train_data.shuffle(100).batch(32).repeat(2)\n",
        "\n",
        "test_data = convert_examples_to_tf_dataset(list(test_InputExamples), tokenizer)\n",
        "test_data = test_data.batch(32)\n",
        "\n"
      ],
      "execution_count": null,
      "outputs": [
        {
          "output_type": "stream",
          "name": "stderr",
          "text": [
            "/usr/local/lib/python3.7/dist-packages/transformers/tokenization_utils_base.py:2218: FutureWarning: The `pad_to_max_length` argument is deprecated and will be removed in a future version, use `padding=True` or `padding='longest'` to pad to the longest sequence in the batch, or use `padding='max_length'` to pad to a max length. In this case, you can give a specific length with `max_length` (e.g. `max_length=45`) or leave max_length to None to pad to the maximal input size of the model (e.g. 512 for Bert).\n",
            "  FutureWarning,\n"
          ]
        }
      ]
    },
    {
      "cell_type": "code",
      "metadata": {
        "colab": {
          "base_uri": "https://localhost:8080/"
        },
        "id": "U0B7X-W7iKyR",
        "outputId": "3c1e7d71-643a-46e2-86c7-3714ea90d4b6"
      },
      "source": [
        "# Here we compile BERT with GPU\n",
        "model.compile(optimizer=tf.keras.optimizers.Adam(learning_rate=2e-5, epsilon=1e-08, clipnorm=1.0), \n",
        "              loss=tf.keras.losses.SparseCategoricalCrossentropy(from_logits=True), \n",
        "              metrics=[tf.keras.metrics.SparseCategoricalAccuracy('accuracy')])\n",
        "\n",
        "model.fit(train_data, epochs=2, validation_data=test_data)"
      ],
      "execution_count": null,
      "outputs": [
        {
          "output_type": "stream",
          "name": "stdout",
          "text": [
            "Epoch 1/2\n",
            "992/992 [==============================] - 410s 401ms/step - loss: 0.2176 - accuracy: 0.9039 - val_loss: 0.1714 - val_accuracy: 0.9255\n",
            "Epoch 2/2\n",
            "992/992 [==============================] - 395s 399ms/step - loss: 0.0739 - accuracy: 0.9714 - val_loss: 0.2535 - val_accuracy: 0.9182\n"
          ]
        },
        {
          "output_type": "execute_result",
          "data": {
            "text/plain": [
              "<keras.callbacks.History at 0x7f2ae59572d0>"
            ]
          },
          "metadata": {},
          "execution_count": 412
        }
      ]
    },
    {
      "cell_type": "code",
      "metadata": {
        "id": "i7oplcKOiK_B"
      },
      "source": [
        "# Generate predictions for test set\n",
        "# Create list of strings for input into next step\n",
        "X_test_strings = test['review_text_tok'].tolist()"
      ],
      "execution_count": null,
      "outputs": []
    },
    {
      "cell_type": "code",
      "metadata": {
        "id": "QM84zSPOe3j2"
      },
      "source": [
        "X_test_strings"
      ],
      "execution_count": null,
      "outputs": []
    },
    {
      "cell_type": "code",
      "metadata": {
        "id": "Qi-_omJYYL2-"
      },
      "source": [
        "from tensorflow.python.ops.numpy_ops import np_config\n",
        "np_config.enable_numpy_behavior()"
      ],
      "execution_count": null,
      "outputs": []
    },
    {
      "cell_type": "code",
      "metadata": {
        "colab": {
          "base_uri": "https://localhost:8080/",
          "height": 359
        },
        "id": "cwYZcThrau-1",
        "outputId": "7eda691c-4d8b-43a7-d530-ebc3be239f66"
      },
      "source": [
        "test.head(10)"
      ],
      "execution_count": null,
      "outputs": [
        {
          "output_type": "execute_result",
          "data": {
            "text/html": [
              "<div>\n",
              "<style scoped>\n",
              "    .dataframe tbody tr th:only-of-type {\n",
              "        vertical-align: middle;\n",
              "    }\n",
              "\n",
              "    .dataframe tbody tr th {\n",
              "        vertical-align: top;\n",
              "    }\n",
              "\n",
              "    .dataframe thead th {\n",
              "        text-align: right;\n",
              "    }\n",
              "</style>\n",
              "<table border=\"1\" class=\"dataframe\">\n",
              "  <thead>\n",
              "    <tr style=\"text-align: right;\">\n",
              "      <th></th>\n",
              "      <th>index</th>\n",
              "      <th>review_text_tok</th>\n",
              "      <th>Disneyland_Paris</th>\n",
              "    </tr>\n",
              "  </thead>\n",
              "  <tbody>\n",
              "    <tr>\n",
              "      <th>0</th>\n",
              "      <td>17195</td>\n",
              "      <td>Has a fantastic New Year at the park with the ...</td>\n",
              "      <td>1</td>\n",
              "    </tr>\n",
              "    <tr>\n",
              "      <th>1</th>\n",
              "      <td>2512</td>\n",
              "      <td>Having been to all the Disneylands World I can...</td>\n",
              "      <td>0</td>\n",
              "    </tr>\n",
              "    <tr>\n",
              "      <th>2</th>\n",
              "      <td>35936</td>\n",
              "      <td>Overall this is not a true representation of a...</td>\n",
              "      <td>1</td>\n",
              "    </tr>\n",
              "    <tr>\n",
              "      <th>3</th>\n",
              "      <td>22208</td>\n",
              "      <td>This the reason you go for and it does not dis...</td>\n",
              "      <td>1</td>\n",
              "    </tr>\n",
              "    <tr>\n",
              "      <th>4</th>\n",
              "      <td>25259</td>\n",
              "      <td>I enjoyed their parade so much It was a magica...</td>\n",
              "      <td>0</td>\n",
              "    </tr>\n",
              "    <tr>\n",
              "      <th>5</th>\n",
              "      <td>32171</td>\n",
              "      <td>I have been to Disneyland in California severa...</td>\n",
              "      <td>1</td>\n",
              "    </tr>\n",
              "    <tr>\n",
              "      <th>6</th>\n",
              "      <td>21928</td>\n",
              "      <td>Even though its a little delayed my childhood ...</td>\n",
              "      <td>1</td>\n",
              "    </tr>\n",
              "    <tr>\n",
              "      <th>7</th>\n",
              "      <td>25369</td>\n",
              "      <td>A grand attraction for kids but visit in winte...</td>\n",
              "      <td>0</td>\n",
              "    </tr>\n",
              "    <tr>\n",
              "      <th>8</th>\n",
              "      <td>17087</td>\n",
              "      <td>What an amazing experience Be sure to carry a ...</td>\n",
              "      <td>1</td>\n",
              "    </tr>\n",
              "    <tr>\n",
              "      <th>9</th>\n",
              "      <td>18673</td>\n",
              "      <td>I visited Disneyland Paris for the 8th time th...</td>\n",
              "      <td>1</td>\n",
              "    </tr>\n",
              "  </tbody>\n",
              "</table>\n",
              "</div>"
            ],
            "text/plain": [
              "   index                                    review_text_tok  Disneyland_Paris\n",
              "0  17195  Has a fantastic New Year at the park with the ...                 1\n",
              "1   2512  Having been to all the Disneylands World I can...                 0\n",
              "2  35936  Overall this is not a true representation of a...                 1\n",
              "3  22208  This the reason you go for and it does not dis...                 1\n",
              "4  25259  I enjoyed their parade so much It was a magica...                 0\n",
              "5  32171  I have been to Disneyland in California severa...                 1\n",
              "6  21928  Even though its a little delayed my childhood ...                 1\n",
              "7  25369  A grand attraction for kids but visit in winte...                 0\n",
              "8  17087  What an amazing experience Be sure to carry a ...                 1\n",
              "9  18673  I visited Disneyland Paris for the 8th time th...                 1"
            ]
          },
          "metadata": {},
          "execution_count": 417
        }
      ]
    },
    {
      "cell_type": "markdown",
      "metadata": {
        "id": "QQNMkdOqud--"
      },
      "source": [
        "**Cannot figure get the cell below to not run.**\n",
        "\n",
        "error: ResourceExhaustedError: Exception encountered when calling layer \"LayerNorm\" (type LayerNormalization).\n",
        "\n",
        "failed to allocate memory [Op:SquaredDifference]\n",
        "\n",
        "Call arguments received:\n",
        "  • inputs=tf.Tensor(shape=(3961, 200, 768), dtype=float32)"
      ]
    },
    {
      "cell_type": "code",
      "metadata": {
        "colab": {
          "base_uri": "https://localhost:8080/",
          "height": 459
        },
        "id": "ZvVcfzcQiLKp",
        "outputId": "dee8ebb1-7844-41a0-ceed-b5cc9a29953f"
      },
      "source": [
        "# Use the model to predict whether the branch is Paris for the test set\n",
        "tf_batch = tokenizer(X_test_strings, max_length=200, padding=True, truncation=True, return_tensors='tf')\n",
        "tf_outputs = model(tf_batch)\n",
        "tf_predictions = tf.nn.softmax(tf_outputs[0], axis=-1)\n",
        "\n",
        "Y_pred_bert = tf.argmax(tf_predictions, axis=1)\n",
        "Y_pred_bert = Y_pred_bert.numpy()\n",
        "Y_pred_bert"
      ],
      "execution_count": null,
      "outputs": [
        {
          "output_type": "error",
          "ename": "ResourceExhaustedError",
          "evalue": "ignored",
          "traceback": [
            "\u001b[0;31m---------------------------------------------------------------------------\u001b[0m",
            "\u001b[0;31mResourceExhaustedError\u001b[0m                    Traceback (most recent call last)",
            "\u001b[0;32m<ipython-input-418-b8dd6eb0e191>\u001b[0m in \u001b[0;36m<module>\u001b[0;34m()\u001b[0m\n\u001b[1;32m      1\u001b[0m \u001b[0;31m# Use the model to predict whether the branch is Paris for the test set\u001b[0m\u001b[0;34m\u001b[0m\u001b[0;34m\u001b[0m\u001b[0;34m\u001b[0m\u001b[0m\n\u001b[1;32m      2\u001b[0m \u001b[0mtf_batch\u001b[0m \u001b[0;34m=\u001b[0m \u001b[0mtokenizer\u001b[0m\u001b[0;34m(\u001b[0m\u001b[0mX_test_strings\u001b[0m\u001b[0;34m,\u001b[0m \u001b[0mmax_length\u001b[0m\u001b[0;34m=\u001b[0m\u001b[0;36m200\u001b[0m\u001b[0;34m,\u001b[0m \u001b[0mpadding\u001b[0m\u001b[0;34m=\u001b[0m\u001b[0;32mTrue\u001b[0m\u001b[0;34m,\u001b[0m \u001b[0mtruncation\u001b[0m\u001b[0;34m=\u001b[0m\u001b[0;32mTrue\u001b[0m\u001b[0;34m,\u001b[0m \u001b[0mreturn_tensors\u001b[0m\u001b[0;34m=\u001b[0m\u001b[0;34m'tf'\u001b[0m\u001b[0;34m)\u001b[0m\u001b[0;34m\u001b[0m\u001b[0;34m\u001b[0m\u001b[0m\n\u001b[0;32m----> 3\u001b[0;31m \u001b[0mtf_outputs\u001b[0m \u001b[0;34m=\u001b[0m \u001b[0mmodel\u001b[0m\u001b[0;34m(\u001b[0m\u001b[0mtf_batch\u001b[0m\u001b[0;34m)\u001b[0m\u001b[0;34m\u001b[0m\u001b[0;34m\u001b[0m\u001b[0m\n\u001b[0m\u001b[1;32m      4\u001b[0m \u001b[0mtf_predictions\u001b[0m \u001b[0;34m=\u001b[0m \u001b[0mtf\u001b[0m\u001b[0;34m.\u001b[0m\u001b[0mnn\u001b[0m\u001b[0;34m.\u001b[0m\u001b[0msoftmax\u001b[0m\u001b[0;34m(\u001b[0m\u001b[0mtf_outputs\u001b[0m\u001b[0;34m[\u001b[0m\u001b[0;36m0\u001b[0m\u001b[0;34m]\u001b[0m\u001b[0;34m,\u001b[0m \u001b[0maxis\u001b[0m\u001b[0;34m=\u001b[0m\u001b[0;34m-\u001b[0m\u001b[0;36m1\u001b[0m\u001b[0;34m)\u001b[0m\u001b[0;34m\u001b[0m\u001b[0;34m\u001b[0m\u001b[0m\n\u001b[1;32m      5\u001b[0m \u001b[0;34m\u001b[0m\u001b[0m\n",
            "\u001b[0;32m/usr/local/lib/python3.7/dist-packages/keras/utils/traceback_utils.py\u001b[0m in \u001b[0;36merror_handler\u001b[0;34m(*args, **kwargs)\u001b[0m\n\u001b[1;32m     65\u001b[0m     \u001b[0;32mexcept\u001b[0m \u001b[0mException\u001b[0m \u001b[0;32mas\u001b[0m \u001b[0me\u001b[0m\u001b[0;34m:\u001b[0m  \u001b[0;31m# pylint: disable=broad-except\u001b[0m\u001b[0;34m\u001b[0m\u001b[0;34m\u001b[0m\u001b[0m\n\u001b[1;32m     66\u001b[0m       \u001b[0mfiltered_tb\u001b[0m \u001b[0;34m=\u001b[0m \u001b[0m_process_traceback_frames\u001b[0m\u001b[0;34m(\u001b[0m\u001b[0me\u001b[0m\u001b[0;34m.\u001b[0m\u001b[0m__traceback__\u001b[0m\u001b[0;34m)\u001b[0m\u001b[0;34m\u001b[0m\u001b[0;34m\u001b[0m\u001b[0m\n\u001b[0;32m---> 67\u001b[0;31m       \u001b[0;32mraise\u001b[0m \u001b[0me\u001b[0m\u001b[0;34m.\u001b[0m\u001b[0mwith_traceback\u001b[0m\u001b[0;34m(\u001b[0m\u001b[0mfiltered_tb\u001b[0m\u001b[0;34m)\u001b[0m \u001b[0;32mfrom\u001b[0m \u001b[0;32mNone\u001b[0m\u001b[0;34m\u001b[0m\u001b[0;34m\u001b[0m\u001b[0m\n\u001b[0m\u001b[1;32m     68\u001b[0m     \u001b[0;32mfinally\u001b[0m\u001b[0;34m:\u001b[0m\u001b[0;34m\u001b[0m\u001b[0;34m\u001b[0m\u001b[0m\n\u001b[1;32m     69\u001b[0m       \u001b[0;32mdel\u001b[0m \u001b[0mfiltered_tb\u001b[0m\u001b[0;34m\u001b[0m\u001b[0;34m\u001b[0m\u001b[0m\n",
            "\u001b[0;32m/usr/local/lib/python3.7/dist-packages/transformers/models/distilbert/modeling_tf_distilbert.py\u001b[0m in \u001b[0;36mcall\u001b[0;34m(self, input_ids, attention_mask, head_mask, inputs_embeds, output_attentions, output_hidden_states, return_dict, labels, training, **kwargs)\u001b[0m\n\u001b[1;32m    806\u001b[0m             \u001b[0moutput_hidden_states\u001b[0m\u001b[0;34m=\u001b[0m\u001b[0minputs\u001b[0m\u001b[0;34m[\u001b[0m\u001b[0;34m\"output_hidden_states\"\u001b[0m\u001b[0;34m]\u001b[0m\u001b[0;34m,\u001b[0m\u001b[0;34m\u001b[0m\u001b[0;34m\u001b[0m\u001b[0m\n\u001b[1;32m    807\u001b[0m             \u001b[0mreturn_dict\u001b[0m\u001b[0;34m=\u001b[0m\u001b[0minputs\u001b[0m\u001b[0;34m[\u001b[0m\u001b[0;34m\"return_dict\"\u001b[0m\u001b[0;34m]\u001b[0m\u001b[0;34m,\u001b[0m\u001b[0;34m\u001b[0m\u001b[0;34m\u001b[0m\u001b[0m\n\u001b[0;32m--> 808\u001b[0;31m             \u001b[0mtraining\u001b[0m\u001b[0;34m=\u001b[0m\u001b[0minputs\u001b[0m\u001b[0;34m[\u001b[0m\u001b[0;34m\"training\"\u001b[0m\u001b[0;34m]\u001b[0m\u001b[0;34m,\u001b[0m\u001b[0;34m\u001b[0m\u001b[0;34m\u001b[0m\u001b[0m\n\u001b[0m\u001b[1;32m    809\u001b[0m         )\n\u001b[1;32m    810\u001b[0m         \u001b[0mhidden_state\u001b[0m \u001b[0;34m=\u001b[0m \u001b[0mdistilbert_output\u001b[0m\u001b[0;34m[\u001b[0m\u001b[0;36m0\u001b[0m\u001b[0;34m]\u001b[0m  \u001b[0;31m# (bs, seq_len, dim)\u001b[0m\u001b[0;34m\u001b[0m\u001b[0;34m\u001b[0m\u001b[0m\n",
            "\u001b[0;32m/usr/local/lib/python3.7/dist-packages/transformers/models/distilbert/modeling_tf_distilbert.py\u001b[0m in \u001b[0;36mcall\u001b[0;34m(self, input_ids, attention_mask, head_mask, inputs_embeds, output_attentions, output_hidden_states, return_dict, training, **kwargs)\u001b[0m\n\u001b[1;32m    414\u001b[0m \u001b[0;34m\u001b[0m\u001b[0m\n\u001b[1;32m    415\u001b[0m         embedding_output = self.embeddings(\n\u001b[0;32m--> 416\u001b[0;31m             \u001b[0minputs\u001b[0m\u001b[0;34m[\u001b[0m\u001b[0;34m\"input_ids\"\u001b[0m\u001b[0;34m]\u001b[0m\u001b[0;34m,\u001b[0m \u001b[0minputs_embeds\u001b[0m\u001b[0;34m=\u001b[0m\u001b[0minputs\u001b[0m\u001b[0;34m[\u001b[0m\u001b[0;34m\"inputs_embeds\"\u001b[0m\u001b[0;34m]\u001b[0m\u001b[0;34m\u001b[0m\u001b[0;34m\u001b[0m\u001b[0m\n\u001b[0m\u001b[1;32m    417\u001b[0m         )  # (bs, seq_length, dim)\n\u001b[1;32m    418\u001b[0m         tfmr_output = self.transformer(\n",
            "\u001b[0;32m/usr/local/lib/python3.7/dist-packages/transformers/models/distilbert/modeling_tf_distilbert.py\u001b[0m in \u001b[0;36mcall\u001b[0;34m(self, input_ids, position_ids, inputs_embeds, training)\u001b[0m\n\u001b[1;32m    120\u001b[0m         \u001b[0mposition_embeds\u001b[0m \u001b[0;34m=\u001b[0m \u001b[0mtf\u001b[0m\u001b[0;34m.\u001b[0m\u001b[0mtile\u001b[0m\u001b[0;34m(\u001b[0m\u001b[0minput\u001b[0m\u001b[0;34m=\u001b[0m\u001b[0mposition_embeds\u001b[0m\u001b[0;34m,\u001b[0m \u001b[0mmultiples\u001b[0m\u001b[0;34m=\u001b[0m\u001b[0;34m(\u001b[0m\u001b[0minput_shape\u001b[0m\u001b[0;34m[\u001b[0m\u001b[0;36m0\u001b[0m\u001b[0;34m]\u001b[0m\u001b[0;34m,\u001b[0m \u001b[0;36m1\u001b[0m\u001b[0;34m,\u001b[0m \u001b[0;36m1\u001b[0m\u001b[0;34m)\u001b[0m\u001b[0;34m)\u001b[0m\u001b[0;34m\u001b[0m\u001b[0;34m\u001b[0m\u001b[0m\n\u001b[1;32m    121\u001b[0m         \u001b[0mfinal_embeddings\u001b[0m \u001b[0;34m=\u001b[0m \u001b[0mself\u001b[0m\u001b[0;34m.\u001b[0m\u001b[0membeddings_sum\u001b[0m\u001b[0;34m(\u001b[0m\u001b[0minputs\u001b[0m\u001b[0;34m=\u001b[0m\u001b[0;34m[\u001b[0m\u001b[0minputs_embeds\u001b[0m\u001b[0;34m,\u001b[0m \u001b[0mposition_embeds\u001b[0m\u001b[0;34m]\u001b[0m\u001b[0;34m)\u001b[0m\u001b[0;34m\u001b[0m\u001b[0;34m\u001b[0m\u001b[0m\n\u001b[0;32m--> 122\u001b[0;31m         \u001b[0mfinal_embeddings\u001b[0m \u001b[0;34m=\u001b[0m \u001b[0mself\u001b[0m\u001b[0;34m.\u001b[0m\u001b[0mLayerNorm\u001b[0m\u001b[0;34m(\u001b[0m\u001b[0minputs\u001b[0m\u001b[0;34m=\u001b[0m\u001b[0mfinal_embeddings\u001b[0m\u001b[0;34m)\u001b[0m\u001b[0;34m\u001b[0m\u001b[0;34m\u001b[0m\u001b[0m\n\u001b[0m\u001b[1;32m    123\u001b[0m         \u001b[0mfinal_embeddings\u001b[0m \u001b[0;34m=\u001b[0m \u001b[0mself\u001b[0m\u001b[0;34m.\u001b[0m\u001b[0mdropout\u001b[0m\u001b[0;34m(\u001b[0m\u001b[0minputs\u001b[0m\u001b[0;34m=\u001b[0m\u001b[0mfinal_embeddings\u001b[0m\u001b[0;34m,\u001b[0m \u001b[0mtraining\u001b[0m\u001b[0;34m=\u001b[0m\u001b[0mtraining\u001b[0m\u001b[0;34m)\u001b[0m\u001b[0;34m\u001b[0m\u001b[0;34m\u001b[0m\u001b[0m\n\u001b[1;32m    124\u001b[0m \u001b[0;34m\u001b[0m\u001b[0m\n",
            "\u001b[0;31mResourceExhaustedError\u001b[0m: Exception encountered when calling layer \"LayerNorm\" (type LayerNormalization).\n\nfailed to allocate memory [Op:SquaredDifference]\n\nCall arguments received:\n  • inputs=tf.Tensor(shape=(3961, 200, 768), dtype=float32)"
          ]
        }
      ]
    },
    {
      "cell_type": "code",
      "metadata": {
        "colab": {
          "base_uri": "https://localhost:8080/",
          "height": 561
        },
        "id": "Rj2vmBzHiLXZ",
        "outputId": "def521a3-0660-46d7-e388-e816bbdb804a"
      },
      "source": [
        "# Set up the Paris column as a numpy array to feed into sklearn's performance metric functions\n",
        "Y_test = test['Disneyland_Paris'].to_numpy()\n",
        "Y_test"
      ],
      "execution_count": null,
      "outputs": [
        {
          "output_type": "error",
          "ename": "KeyError",
          "evalue": "ignored",
          "traceback": [
            "\u001b[0;31m---------------------------------------------------------------------------\u001b[0m",
            "\u001b[0;31mKeyError\u001b[0m                                  Traceback (most recent call last)",
            "\u001b[0;32m/usr/local/lib/python3.7/dist-packages/pandas/core/indexes/base.py\u001b[0m in \u001b[0;36mget_loc\u001b[0;34m(self, key, method, tolerance)\u001b[0m\n\u001b[1;32m   2897\u001b[0m             \u001b[0;32mtry\u001b[0m\u001b[0;34m:\u001b[0m\u001b[0;34m\u001b[0m\u001b[0;34m\u001b[0m\u001b[0m\n\u001b[0;32m-> 2898\u001b[0;31m                 \u001b[0;32mreturn\u001b[0m \u001b[0mself\u001b[0m\u001b[0;34m.\u001b[0m\u001b[0m_engine\u001b[0m\u001b[0;34m.\u001b[0m\u001b[0mget_loc\u001b[0m\u001b[0;34m(\u001b[0m\u001b[0mcasted_key\u001b[0m\u001b[0;34m)\u001b[0m\u001b[0;34m\u001b[0m\u001b[0;34m\u001b[0m\u001b[0m\n\u001b[0m\u001b[1;32m   2899\u001b[0m             \u001b[0;32mexcept\u001b[0m \u001b[0mKeyError\u001b[0m \u001b[0;32mas\u001b[0m \u001b[0merr\u001b[0m\u001b[0;34m:\u001b[0m\u001b[0;34m\u001b[0m\u001b[0;34m\u001b[0m\u001b[0m\n",
            "\u001b[0;32mpandas/_libs/index.pyx\u001b[0m in \u001b[0;36mpandas._libs.index.IndexEngine.get_loc\u001b[0;34m()\u001b[0m\n",
            "\u001b[0;32mpandas/_libs/index.pyx\u001b[0m in \u001b[0;36mpandas._libs.index.IndexEngine.get_loc\u001b[0;34m()\u001b[0m\n",
            "\u001b[0;32mpandas/_libs/hashtable_class_helper.pxi\u001b[0m in \u001b[0;36mpandas._libs.hashtable.PyObjectHashTable.get_item\u001b[0;34m()\u001b[0m\n",
            "\u001b[0;32mpandas/_libs/hashtable_class_helper.pxi\u001b[0m in \u001b[0;36mpandas._libs.hashtable.PyObjectHashTable.get_item\u001b[0;34m()\u001b[0m\n",
            "\u001b[0;31mKeyError\u001b[0m: 'Disneyland_HongKong'",
            "\nThe above exception was the direct cause of the following exception:\n",
            "\u001b[0;31mKeyError\u001b[0m                                  Traceback (most recent call last)",
            "\u001b[0;32m<ipython-input-115-b069871f258e>\u001b[0m in \u001b[0;36m<module>\u001b[0;34m()\u001b[0m\n\u001b[1;32m      1\u001b[0m \u001b[0;31m# Set up the Country column as a numpy array to feed into sklearn's performance metric functions\u001b[0m\u001b[0;34m\u001b[0m\u001b[0;34m\u001b[0m\u001b[0;34m\u001b[0m\u001b[0m\n\u001b[0;32m----> 2\u001b[0;31m \u001b[0mY_test\u001b[0m \u001b[0;34m=\u001b[0m \u001b[0mtest\u001b[0m\u001b[0;34m[\u001b[0m\u001b[0;34m'Disneyland_HongKong'\u001b[0m\u001b[0;34m]\u001b[0m\u001b[0;34m.\u001b[0m\u001b[0mto_numpy\u001b[0m\u001b[0;34m(\u001b[0m\u001b[0;34m)\u001b[0m\u001b[0;34m\u001b[0m\u001b[0;34m\u001b[0m\u001b[0m\n\u001b[0m\u001b[1;32m      3\u001b[0m \u001b[0mY_test\u001b[0m\u001b[0;34m\u001b[0m\u001b[0;34m\u001b[0m\u001b[0m\n",
            "\u001b[0;32m/usr/local/lib/python3.7/dist-packages/pandas/core/frame.py\u001b[0m in \u001b[0;36m__getitem__\u001b[0;34m(self, key)\u001b[0m\n\u001b[1;32m   2904\u001b[0m             \u001b[0;32mif\u001b[0m \u001b[0mself\u001b[0m\u001b[0;34m.\u001b[0m\u001b[0mcolumns\u001b[0m\u001b[0;34m.\u001b[0m\u001b[0mnlevels\u001b[0m \u001b[0;34m>\u001b[0m \u001b[0;36m1\u001b[0m\u001b[0;34m:\u001b[0m\u001b[0;34m\u001b[0m\u001b[0;34m\u001b[0m\u001b[0m\n\u001b[1;32m   2905\u001b[0m                 \u001b[0;32mreturn\u001b[0m \u001b[0mself\u001b[0m\u001b[0;34m.\u001b[0m\u001b[0m_getitem_multilevel\u001b[0m\u001b[0;34m(\u001b[0m\u001b[0mkey\u001b[0m\u001b[0;34m)\u001b[0m\u001b[0;34m\u001b[0m\u001b[0;34m\u001b[0m\u001b[0m\n\u001b[0;32m-> 2906\u001b[0;31m             \u001b[0mindexer\u001b[0m \u001b[0;34m=\u001b[0m \u001b[0mself\u001b[0m\u001b[0;34m.\u001b[0m\u001b[0mcolumns\u001b[0m\u001b[0;34m.\u001b[0m\u001b[0mget_loc\u001b[0m\u001b[0;34m(\u001b[0m\u001b[0mkey\u001b[0m\u001b[0;34m)\u001b[0m\u001b[0;34m\u001b[0m\u001b[0;34m\u001b[0m\u001b[0m\n\u001b[0m\u001b[1;32m   2907\u001b[0m             \u001b[0;32mif\u001b[0m \u001b[0mis_integer\u001b[0m\u001b[0;34m(\u001b[0m\u001b[0mindexer\u001b[0m\u001b[0;34m)\u001b[0m\u001b[0;34m:\u001b[0m\u001b[0;34m\u001b[0m\u001b[0;34m\u001b[0m\u001b[0m\n\u001b[1;32m   2908\u001b[0m                 \u001b[0mindexer\u001b[0m \u001b[0;34m=\u001b[0m \u001b[0;34m[\u001b[0m\u001b[0mindexer\u001b[0m\u001b[0;34m]\u001b[0m\u001b[0;34m\u001b[0m\u001b[0;34m\u001b[0m\u001b[0m\n",
            "\u001b[0;32m/usr/local/lib/python3.7/dist-packages/pandas/core/indexes/base.py\u001b[0m in \u001b[0;36mget_loc\u001b[0;34m(self, key, method, tolerance)\u001b[0m\n\u001b[1;32m   2898\u001b[0m                 \u001b[0;32mreturn\u001b[0m \u001b[0mself\u001b[0m\u001b[0;34m.\u001b[0m\u001b[0m_engine\u001b[0m\u001b[0;34m.\u001b[0m\u001b[0mget_loc\u001b[0m\u001b[0;34m(\u001b[0m\u001b[0mcasted_key\u001b[0m\u001b[0;34m)\u001b[0m\u001b[0;34m\u001b[0m\u001b[0;34m\u001b[0m\u001b[0m\n\u001b[1;32m   2899\u001b[0m             \u001b[0;32mexcept\u001b[0m \u001b[0mKeyError\u001b[0m \u001b[0;32mas\u001b[0m \u001b[0merr\u001b[0m\u001b[0;34m:\u001b[0m\u001b[0;34m\u001b[0m\u001b[0;34m\u001b[0m\u001b[0m\n\u001b[0;32m-> 2900\u001b[0;31m                 \u001b[0;32mraise\u001b[0m \u001b[0mKeyError\u001b[0m\u001b[0;34m(\u001b[0m\u001b[0mkey\u001b[0m\u001b[0;34m)\u001b[0m \u001b[0;32mfrom\u001b[0m \u001b[0merr\u001b[0m\u001b[0;34m\u001b[0m\u001b[0;34m\u001b[0m\u001b[0m\n\u001b[0m\u001b[1;32m   2901\u001b[0m \u001b[0;34m\u001b[0m\u001b[0m\n\u001b[1;32m   2902\u001b[0m         \u001b[0;32mif\u001b[0m \u001b[0mtolerance\u001b[0m \u001b[0;32mis\u001b[0m \u001b[0;32mnot\u001b[0m \u001b[0;32mNone\u001b[0m\u001b[0;34m:\u001b[0m\u001b[0;34m\u001b[0m\u001b[0;34m\u001b[0m\u001b[0m\n",
            "\u001b[0;31mKeyError\u001b[0m: 'Disneyland_HongKong'"
          ]
        }
      ]
    },
    {
      "cell_type": "code",
      "metadata": {
        "colab": {
          "base_uri": "https://localhost:8080/",
          "height": 231
        },
        "id": "s8qmqw3siLtK",
        "outputId": "9430ac1b-a45c-49f5-cc06-e9914b5154e4"
      },
      "source": [
        "# Add to performance_metrics dataframe\n",
        "index = ['Precision', 'Recall', 'Accuracy', 'F1 score', 'AU ROC score', 'AU PRC score', 'MCC']\n",
        "bert_perf = pd.DataFrame([precision_score(Y_test, Y_pred_bert), \n",
        "                                    recall_score(Y_test, Y_pred_bert),\n",
        "                                    accuracy_score(Y_test, Y_pred_bert),\n",
        "                                    f1_score(Y_test, Y_pred_bert),\n",
        "                                    roc_auc_score(Y_test, Y_pred_bert),\n",
        "                                    average_precision_score(Y_test, Y_pred_bert),\n",
        "                                    matthews_corrcoef(Y_test, Y_pred_bert)], index=index)\n",
        "\n",
        "performance_metrics['BERT'] = pd.Series(bert_perf[0])\n",
        "performance_metrics"
      ],
      "execution_count": null,
      "outputs": [
        {
          "output_type": "error",
          "ename": "NameError",
          "evalue": "ignored",
          "traceback": [
            "\u001b[0;31m---------------------------------------------------------------------------\u001b[0m",
            "\u001b[0;31mNameError\u001b[0m                                 Traceback (most recent call last)",
            "\u001b[0;32m<ipython-input-94-5a6d8b846ca7>\u001b[0m in \u001b[0;36m<module>\u001b[0;34m()\u001b[0m\n\u001b[1;32m      1\u001b[0m \u001b[0;31m# Add to performance_metrics dataframe\u001b[0m\u001b[0;34m\u001b[0m\u001b[0;34m\u001b[0m\u001b[0;34m\u001b[0m\u001b[0m\n\u001b[1;32m      2\u001b[0m \u001b[0mindex\u001b[0m \u001b[0;34m=\u001b[0m \u001b[0;34m[\u001b[0m\u001b[0;34m'Precision'\u001b[0m\u001b[0;34m,\u001b[0m \u001b[0;34m'Recall'\u001b[0m\u001b[0;34m,\u001b[0m \u001b[0;34m'Accuracy'\u001b[0m\u001b[0;34m,\u001b[0m \u001b[0;34m'F1 score'\u001b[0m\u001b[0;34m,\u001b[0m \u001b[0;34m'AU ROC score'\u001b[0m\u001b[0;34m,\u001b[0m \u001b[0;34m'AU PRC score'\u001b[0m\u001b[0;34m,\u001b[0m \u001b[0;34m'MCC'\u001b[0m\u001b[0;34m]\u001b[0m\u001b[0;34m\u001b[0m\u001b[0;34m\u001b[0m\u001b[0m\n\u001b[0;32m----> 3\u001b[0;31m bert_perf = pd.DataFrame([precision_score(Y_test, Y_pred_bert), \n\u001b[0m\u001b[1;32m      4\u001b[0m                                     \u001b[0mrecall_score\u001b[0m\u001b[0;34m(\u001b[0m\u001b[0mY_test\u001b[0m\u001b[0;34m,\u001b[0m \u001b[0mY_pred_bert\u001b[0m\u001b[0;34m)\u001b[0m\u001b[0;34m,\u001b[0m\u001b[0;34m\u001b[0m\u001b[0;34m\u001b[0m\u001b[0m\n\u001b[1;32m      5\u001b[0m                                     \u001b[0maccuracy_score\u001b[0m\u001b[0;34m(\u001b[0m\u001b[0mY_test\u001b[0m\u001b[0;34m,\u001b[0m \u001b[0mY_pred_bert\u001b[0m\u001b[0;34m)\u001b[0m\u001b[0;34m,\u001b[0m\u001b[0;34m\u001b[0m\u001b[0;34m\u001b[0m\u001b[0m\n",
            "\u001b[0;31mNameError\u001b[0m: name 'Y_pred_bert' is not defined"
          ]
        }
      ]
    },
    {
      "cell_type": "markdown",
      "metadata": {
        "id": "2SXce9HVG0in"
      },
      "source": [
        "**Text Generation**"
      ]
    },
    {
      "cell_type": "code",
      "metadata": {
        "id": "o4xpiynvG5TO",
        "colab": {
          "base_uri": "https://localhost:8080/",
          "height": 529
        },
        "outputId": "ee27d62e-0195-41bb-9e1a-54c584530a77"
      },
      "source": [
        "# view datarame \n",
        "pr_hk1.head(10)"
      ],
      "execution_count": null,
      "outputs": [
        {
          "output_type": "execute_result",
          "data": {
            "text/html": [
              "<div>\n",
              "<style scoped>\n",
              "    .dataframe tbody tr th:only-of-type {\n",
              "        vertical-align: middle;\n",
              "    }\n",
              "\n",
              "    .dataframe tbody tr th {\n",
              "        vertical-align: top;\n",
              "    }\n",
              "\n",
              "    .dataframe thead th {\n",
              "        text-align: right;\n",
              "    }\n",
              "</style>\n",
              "<table border=\"1\" class=\"dataframe\">\n",
              "  <thead>\n",
              "    <tr style=\"text-align: right;\">\n",
              "      <th></th>\n",
              "      <th>review_id</th>\n",
              "      <th>rating</th>\n",
              "      <th>rating_binary</th>\n",
              "      <th>year_month</th>\n",
              "      <th>reviewer_location</th>\n",
              "      <th>review_text</th>\n",
              "      <th>branch</th>\n",
              "      <th>Disneyland_HongKong</th>\n",
              "      <th>Disneyland_Paris</th>\n",
              "      <th>review_text_tok</th>\n",
              "      <th>review_text_cleaned</th>\n",
              "    </tr>\n",
              "  </thead>\n",
              "  <tbody>\n",
              "    <tr>\n",
              "      <th>17035</th>\n",
              "      <td>670721950</td>\n",
              "      <td>5</td>\n",
              "      <td>1</td>\n",
              "      <td>2019-3</td>\n",
              "      <td>United Arab Emirates</td>\n",
              "      <td>We've been to Disneyland Hongkong and Tokyo, s...</td>\n",
              "      <td>Disneyland_Paris</td>\n",
              "      <td>0</td>\n",
              "      <td>1</td>\n",
              "      <td>[We've, been, to, Disneyland, Hongkong, and, T...</td>\n",
              "      <td>[we've, disneyland, hongkong, tokyo, far, one,...</td>\n",
              "    </tr>\n",
              "    <tr>\n",
              "      <th>17036</th>\n",
              "      <td>670606796</td>\n",
              "      <td>5</td>\n",
              "      <td>1</td>\n",
              "      <td>2019-4</td>\n",
              "      <td>United Kingdom</td>\n",
              "      <td>What a fantastic place, the queues were decent...</td>\n",
              "      <td>Disneyland_Paris</td>\n",
              "      <td>0</td>\n",
              "      <td>1</td>\n",
              "      <td>[What, a, fantastic, place, the, queues, were,...</td>\n",
              "      <td>[fantastic, place, queues, decent, best, time,...</td>\n",
              "    </tr>\n",
              "    <tr>\n",
              "      <th>17037</th>\n",
              "      <td>670535589</td>\n",
              "      <td>5</td>\n",
              "      <td>1</td>\n",
              "      <td>missing</td>\n",
              "      <td>France</td>\n",
              "      <td>A Trip to Disney makes you all warm and fuzzy ...</td>\n",
              "      <td>Disneyland_Paris</td>\n",
              "      <td>0</td>\n",
              "      <td>1</td>\n",
              "      <td>[A, Trip, to, Disney, makes, you, all, warm, a...</td>\n",
              "      <td>[trip, disney, makes, warm, fuzzy, actual, kid...</td>\n",
              "    </tr>\n",
              "    <tr>\n",
              "      <th>17038</th>\n",
              "      <td>670400930</td>\n",
              "      <td>5</td>\n",
              "      <td>1</td>\n",
              "      <td>2019-4</td>\n",
              "      <td>United Kingdom</td>\n",
              "      <td>Such a magical experience. I recommend making ...</td>\n",
              "      <td>Disneyland_Paris</td>\n",
              "      <td>0</td>\n",
              "      <td>1</td>\n",
              "      <td>[Such, a, magical, experience, I, recommend, m...</td>\n",
              "      <td>[magical, experience, recommend, making, us, f...</td>\n",
              "    </tr>\n",
              "    <tr>\n",
              "      <th>17039</th>\n",
              "      <td>670289145</td>\n",
              "      <td>5</td>\n",
              "      <td>1</td>\n",
              "      <td>missing</td>\n",
              "      <td>United Kingdom</td>\n",
              "      <td>My boyfriend took me here for my birthday this...</td>\n",
              "      <td>Disneyland_Paris</td>\n",
              "      <td>0</td>\n",
              "      <td>1</td>\n",
              "      <td>[My, boyfriend, took, me, here, for, my, birth...</td>\n",
              "      <td>[boyfriend, took, birthday, year, god, he's, d...</td>\n",
              "    </tr>\n",
              "    <tr>\n",
              "      <th>17040</th>\n",
              "      <td>670260744</td>\n",
              "      <td>5</td>\n",
              "      <td>1</td>\n",
              "      <td>2019-4</td>\n",
              "      <td>United Kingdom</td>\n",
              "      <td>Everything here is just amazing. Take your own...</td>\n",
              "      <td>Disneyland_Paris</td>\n",
              "      <td>0</td>\n",
              "      <td>1</td>\n",
              "      <td>[Everything, here, is, just, amazing, Take, yo...</td>\n",
              "      <td>[everything, amazing, take, lunch, save, time,...</td>\n",
              "    </tr>\n",
              "    <tr>\n",
              "      <th>17041</th>\n",
              "      <td>669948652</td>\n",
              "      <td>5</td>\n",
              "      <td>1</td>\n",
              "      <td>2019-4</td>\n",
              "      <td>Netherlands</td>\n",
              "      <td>Not the same as Disney in the states, none of ...</td>\n",
              "      <td>Disneyland_Paris</td>\n",
              "      <td>0</td>\n",
              "      <td>1</td>\n",
              "      <td>[Not, the, same, as, Disney, in, the, states, ...</td>\n",
              "      <td>[disney, states, none, usual, foods, none, les...</td>\n",
              "    </tr>\n",
              "    <tr>\n",
              "      <th>17042</th>\n",
              "      <td>669869964</td>\n",
              "      <td>5</td>\n",
              "      <td>1</td>\n",
              "      <td>2019-4</td>\n",
              "      <td>Malta</td>\n",
              "      <td>This is a place everyone deserves to go at lea...</td>\n",
              "      <td>Disneyland_Paris</td>\n",
              "      <td>0</td>\n",
              "      <td>1</td>\n",
              "      <td>[This, is, a, place, everyone, deserves, to, g...</td>\n",
              "      <td>[place, everyone, deserves, go, least, life, t...</td>\n",
              "    </tr>\n",
              "    <tr>\n",
              "      <th>17043</th>\n",
              "      <td>669707947</td>\n",
              "      <td>5</td>\n",
              "      <td>1</td>\n",
              "      <td>2019-4</td>\n",
              "      <td>Ireland</td>\n",
              "      <td>3rd time hereIt gets betterPlenty to do for al...</td>\n",
              "      <td>Disneyland_Paris</td>\n",
              "      <td>0</td>\n",
              "      <td>1</td>\n",
              "      <td>[3rd, time, hereIt, gets, betterPlenty, to, do...</td>\n",
              "      <td>[3rd, time, hereit, gets, betterplenty, allsho...</td>\n",
              "    </tr>\n",
              "    <tr>\n",
              "      <th>17044</th>\n",
              "      <td>669618354</td>\n",
              "      <td>5</td>\n",
              "      <td>1</td>\n",
              "      <td>2019-4</td>\n",
              "      <td>Saudi Arabia</td>\n",
              "      <td>I had been there twice with my  grandson, I wi...</td>\n",
              "      <td>Disneyland_Paris</td>\n",
              "      <td>0</td>\n",
              "      <td>1</td>\n",
              "      <td>[I, had, been, there, twice, with, my, grandso...</td>\n",
              "      <td>[twice, grandson, never, give, grandsons, neve...</td>\n",
              "    </tr>\n",
              "  </tbody>\n",
              "</table>\n",
              "</div>"
            ],
            "text/plain": [
              "       review_id  rating  rating_binary year_month     reviewer_location  \\\n",
              "17035  670721950       5              1     2019-3  United Arab Emirates   \n",
              "17036  670606796       5              1     2019-4        United Kingdom   \n",
              "17037  670535589       5              1    missing                France   \n",
              "17038  670400930       5              1     2019-4        United Kingdom   \n",
              "17039  670289145       5              1    missing        United Kingdom   \n",
              "17040  670260744       5              1     2019-4        United Kingdom   \n",
              "17041  669948652       5              1     2019-4           Netherlands   \n",
              "17042  669869964       5              1     2019-4                 Malta   \n",
              "17043  669707947       5              1     2019-4               Ireland   \n",
              "17044  669618354       5              1     2019-4          Saudi Arabia   \n",
              "\n",
              "                                             review_text            branch  \\\n",
              "17035  We've been to Disneyland Hongkong and Tokyo, s...  Disneyland_Paris   \n",
              "17036  What a fantastic place, the queues were decent...  Disneyland_Paris   \n",
              "17037  A Trip to Disney makes you all warm and fuzzy ...  Disneyland_Paris   \n",
              "17038  Such a magical experience. I recommend making ...  Disneyland_Paris   \n",
              "17039  My boyfriend took me here for my birthday this...  Disneyland_Paris   \n",
              "17040  Everything here is just amazing. Take your own...  Disneyland_Paris   \n",
              "17041  Not the same as Disney in the states, none of ...  Disneyland_Paris   \n",
              "17042  This is a place everyone deserves to go at lea...  Disneyland_Paris   \n",
              "17043  3rd time hereIt gets betterPlenty to do for al...  Disneyland_Paris   \n",
              "17044  I had been there twice with my  grandson, I wi...  Disneyland_Paris   \n",
              "\n",
              "       Disneyland_HongKong  Disneyland_Paris  \\\n",
              "17035                    0                 1   \n",
              "17036                    0                 1   \n",
              "17037                    0                 1   \n",
              "17038                    0                 1   \n",
              "17039                    0                 1   \n",
              "17040                    0                 1   \n",
              "17041                    0                 1   \n",
              "17042                    0                 1   \n",
              "17043                    0                 1   \n",
              "17044                    0                 1   \n",
              "\n",
              "                                         review_text_tok  \\\n",
              "17035  [We've, been, to, Disneyland, Hongkong, and, T...   \n",
              "17036  [What, a, fantastic, place, the, queues, were,...   \n",
              "17037  [A, Trip, to, Disney, makes, you, all, warm, a...   \n",
              "17038  [Such, a, magical, experience, I, recommend, m...   \n",
              "17039  [My, boyfriend, took, me, here, for, my, birth...   \n",
              "17040  [Everything, here, is, just, amazing, Take, yo...   \n",
              "17041  [Not, the, same, as, Disney, in, the, states, ...   \n",
              "17042  [This, is, a, place, everyone, deserves, to, g...   \n",
              "17043  [3rd, time, hereIt, gets, betterPlenty, to, do...   \n",
              "17044  [I, had, been, there, twice, with, my, grandso...   \n",
              "\n",
              "                                     review_text_cleaned  \n",
              "17035  [we've, disneyland, hongkong, tokyo, far, one,...  \n",
              "17036  [fantastic, place, queues, decent, best, time,...  \n",
              "17037  [trip, disney, makes, warm, fuzzy, actual, kid...  \n",
              "17038  [magical, experience, recommend, making, us, f...  \n",
              "17039  [boyfriend, took, birthday, year, god, he's, d...  \n",
              "17040  [everything, amazing, take, lunch, save, time,...  \n",
              "17041  [disney, states, none, usual, foods, none, les...  \n",
              "17042  [place, everyone, deserves, go, least, life, t...  \n",
              "17043  [3rd, time, hereit, gets, betterplenty, allsho...  \n",
              "17044  [twice, grandson, never, give, grandsons, neve...  "
            ]
          },
          "metadata": {},
          "execution_count": 237
        }
      ]
    },
    {
      "cell_type": "code",
      "metadata": {
        "id": "MdCEEythG50v"
      },
      "source": [
        "# filter dataframe for Paris only\n",
        "Paris = pr_hk1[pr_hk1['branch'] == 'Disneyland_Paris'].copy() \n"
      ],
      "execution_count": null,
      "outputs": []
    },
    {
      "cell_type": "code",
      "metadata": {
        "id": "7J1pPHHYG5_w",
        "colab": {
          "base_uri": "https://localhost:8080/",
          "height": 529
        },
        "outputId": "3f707852-9bd7-4396-89c1-18141c0c7b59"
      },
      "source": [
        "Paris.head(10)"
      ],
      "execution_count": null,
      "outputs": [
        {
          "output_type": "execute_result",
          "data": {
            "text/html": [
              "<div>\n",
              "<style scoped>\n",
              "    .dataframe tbody tr th:only-of-type {\n",
              "        vertical-align: middle;\n",
              "    }\n",
              "\n",
              "    .dataframe tbody tr th {\n",
              "        vertical-align: top;\n",
              "    }\n",
              "\n",
              "    .dataframe thead th {\n",
              "        text-align: right;\n",
              "    }\n",
              "</style>\n",
              "<table border=\"1\" class=\"dataframe\">\n",
              "  <thead>\n",
              "    <tr style=\"text-align: right;\">\n",
              "      <th></th>\n",
              "      <th>review_id</th>\n",
              "      <th>rating</th>\n",
              "      <th>rating_binary</th>\n",
              "      <th>year_month</th>\n",
              "      <th>reviewer_location</th>\n",
              "      <th>review_text</th>\n",
              "      <th>branch</th>\n",
              "      <th>Disneyland_HongKong</th>\n",
              "      <th>Disneyland_Paris</th>\n",
              "      <th>review_text_tok</th>\n",
              "      <th>review_text_cleaned</th>\n",
              "    </tr>\n",
              "  </thead>\n",
              "  <tbody>\n",
              "    <tr>\n",
              "      <th>17035</th>\n",
              "      <td>670721950</td>\n",
              "      <td>5</td>\n",
              "      <td>1</td>\n",
              "      <td>2019-3</td>\n",
              "      <td>United Arab Emirates</td>\n",
              "      <td>We've been to Disneyland Hongkong and Tokyo, s...</td>\n",
              "      <td>Disneyland_Paris</td>\n",
              "      <td>0</td>\n",
              "      <td>1</td>\n",
              "      <td>[We've, been, to, Disneyland, Hongkong, and, T...</td>\n",
              "      <td>[we've, disneyland, hongkong, tokyo, far, one,...</td>\n",
              "    </tr>\n",
              "    <tr>\n",
              "      <th>17036</th>\n",
              "      <td>670606796</td>\n",
              "      <td>5</td>\n",
              "      <td>1</td>\n",
              "      <td>2019-4</td>\n",
              "      <td>United Kingdom</td>\n",
              "      <td>What a fantastic place, the queues were decent...</td>\n",
              "      <td>Disneyland_Paris</td>\n",
              "      <td>0</td>\n",
              "      <td>1</td>\n",
              "      <td>[What, a, fantastic, place, the, queues, were,...</td>\n",
              "      <td>[fantastic, place, queues, decent, best, time,...</td>\n",
              "    </tr>\n",
              "    <tr>\n",
              "      <th>17037</th>\n",
              "      <td>670535589</td>\n",
              "      <td>5</td>\n",
              "      <td>1</td>\n",
              "      <td>missing</td>\n",
              "      <td>France</td>\n",
              "      <td>A Trip to Disney makes you all warm and fuzzy ...</td>\n",
              "      <td>Disneyland_Paris</td>\n",
              "      <td>0</td>\n",
              "      <td>1</td>\n",
              "      <td>[A, Trip, to, Disney, makes, you, all, warm, a...</td>\n",
              "      <td>[trip, disney, makes, warm, fuzzy, actual, kid...</td>\n",
              "    </tr>\n",
              "    <tr>\n",
              "      <th>17038</th>\n",
              "      <td>670400930</td>\n",
              "      <td>5</td>\n",
              "      <td>1</td>\n",
              "      <td>2019-4</td>\n",
              "      <td>United Kingdom</td>\n",
              "      <td>Such a magical experience. I recommend making ...</td>\n",
              "      <td>Disneyland_Paris</td>\n",
              "      <td>0</td>\n",
              "      <td>1</td>\n",
              "      <td>[Such, a, magical, experience, I, recommend, m...</td>\n",
              "      <td>[magical, experience, recommend, making, us, f...</td>\n",
              "    </tr>\n",
              "    <tr>\n",
              "      <th>17039</th>\n",
              "      <td>670289145</td>\n",
              "      <td>5</td>\n",
              "      <td>1</td>\n",
              "      <td>missing</td>\n",
              "      <td>United Kingdom</td>\n",
              "      <td>My boyfriend took me here for my birthday this...</td>\n",
              "      <td>Disneyland_Paris</td>\n",
              "      <td>0</td>\n",
              "      <td>1</td>\n",
              "      <td>[My, boyfriend, took, me, here, for, my, birth...</td>\n",
              "      <td>[boyfriend, took, birthday, year, god, he's, d...</td>\n",
              "    </tr>\n",
              "    <tr>\n",
              "      <th>17040</th>\n",
              "      <td>670260744</td>\n",
              "      <td>5</td>\n",
              "      <td>1</td>\n",
              "      <td>2019-4</td>\n",
              "      <td>United Kingdom</td>\n",
              "      <td>Everything here is just amazing. Take your own...</td>\n",
              "      <td>Disneyland_Paris</td>\n",
              "      <td>0</td>\n",
              "      <td>1</td>\n",
              "      <td>[Everything, here, is, just, amazing, Take, yo...</td>\n",
              "      <td>[everything, amazing, take, lunch, save, time,...</td>\n",
              "    </tr>\n",
              "    <tr>\n",
              "      <th>17041</th>\n",
              "      <td>669948652</td>\n",
              "      <td>5</td>\n",
              "      <td>1</td>\n",
              "      <td>2019-4</td>\n",
              "      <td>Netherlands</td>\n",
              "      <td>Not the same as Disney in the states, none of ...</td>\n",
              "      <td>Disneyland_Paris</td>\n",
              "      <td>0</td>\n",
              "      <td>1</td>\n",
              "      <td>[Not, the, same, as, Disney, in, the, states, ...</td>\n",
              "      <td>[disney, states, none, usual, foods, none, les...</td>\n",
              "    </tr>\n",
              "    <tr>\n",
              "      <th>17042</th>\n",
              "      <td>669869964</td>\n",
              "      <td>5</td>\n",
              "      <td>1</td>\n",
              "      <td>2019-4</td>\n",
              "      <td>Malta</td>\n",
              "      <td>This is a place everyone deserves to go at lea...</td>\n",
              "      <td>Disneyland_Paris</td>\n",
              "      <td>0</td>\n",
              "      <td>1</td>\n",
              "      <td>[This, is, a, place, everyone, deserves, to, g...</td>\n",
              "      <td>[place, everyone, deserves, go, least, life, t...</td>\n",
              "    </tr>\n",
              "    <tr>\n",
              "      <th>17043</th>\n",
              "      <td>669707947</td>\n",
              "      <td>5</td>\n",
              "      <td>1</td>\n",
              "      <td>2019-4</td>\n",
              "      <td>Ireland</td>\n",
              "      <td>3rd time hereIt gets betterPlenty to do for al...</td>\n",
              "      <td>Disneyland_Paris</td>\n",
              "      <td>0</td>\n",
              "      <td>1</td>\n",
              "      <td>[3rd, time, hereIt, gets, betterPlenty, to, do...</td>\n",
              "      <td>[3rd, time, hereit, gets, betterplenty, allsho...</td>\n",
              "    </tr>\n",
              "    <tr>\n",
              "      <th>17044</th>\n",
              "      <td>669618354</td>\n",
              "      <td>5</td>\n",
              "      <td>1</td>\n",
              "      <td>2019-4</td>\n",
              "      <td>Saudi Arabia</td>\n",
              "      <td>I had been there twice with my  grandson, I wi...</td>\n",
              "      <td>Disneyland_Paris</td>\n",
              "      <td>0</td>\n",
              "      <td>1</td>\n",
              "      <td>[I, had, been, there, twice, with, my, grandso...</td>\n",
              "      <td>[twice, grandson, never, give, grandsons, neve...</td>\n",
              "    </tr>\n",
              "  </tbody>\n",
              "</table>\n",
              "</div>"
            ],
            "text/plain": [
              "       review_id  rating  rating_binary year_month     reviewer_location  \\\n",
              "17035  670721950       5              1     2019-3  United Arab Emirates   \n",
              "17036  670606796       5              1     2019-4        United Kingdom   \n",
              "17037  670535589       5              1    missing                France   \n",
              "17038  670400930       5              1     2019-4        United Kingdom   \n",
              "17039  670289145       5              1    missing        United Kingdom   \n",
              "17040  670260744       5              1     2019-4        United Kingdom   \n",
              "17041  669948652       5              1     2019-4           Netherlands   \n",
              "17042  669869964       5              1     2019-4                 Malta   \n",
              "17043  669707947       5              1     2019-4               Ireland   \n",
              "17044  669618354       5              1     2019-4          Saudi Arabia   \n",
              "\n",
              "                                             review_text            branch  \\\n",
              "17035  We've been to Disneyland Hongkong and Tokyo, s...  Disneyland_Paris   \n",
              "17036  What a fantastic place, the queues were decent...  Disneyland_Paris   \n",
              "17037  A Trip to Disney makes you all warm and fuzzy ...  Disneyland_Paris   \n",
              "17038  Such a magical experience. I recommend making ...  Disneyland_Paris   \n",
              "17039  My boyfriend took me here for my birthday this...  Disneyland_Paris   \n",
              "17040  Everything here is just amazing. Take your own...  Disneyland_Paris   \n",
              "17041  Not the same as Disney in the states, none of ...  Disneyland_Paris   \n",
              "17042  This is a place everyone deserves to go at lea...  Disneyland_Paris   \n",
              "17043  3rd time hereIt gets betterPlenty to do for al...  Disneyland_Paris   \n",
              "17044  I had been there twice with my  grandson, I wi...  Disneyland_Paris   \n",
              "\n",
              "       Disneyland_HongKong  Disneyland_Paris  \\\n",
              "17035                    0                 1   \n",
              "17036                    0                 1   \n",
              "17037                    0                 1   \n",
              "17038                    0                 1   \n",
              "17039                    0                 1   \n",
              "17040                    0                 1   \n",
              "17041                    0                 1   \n",
              "17042                    0                 1   \n",
              "17043                    0                 1   \n",
              "17044                    0                 1   \n",
              "\n",
              "                                         review_text_tok  \\\n",
              "17035  [We've, been, to, Disneyland, Hongkong, and, T...   \n",
              "17036  [What, a, fantastic, place, the, queues, were,...   \n",
              "17037  [A, Trip, to, Disney, makes, you, all, warm, a...   \n",
              "17038  [Such, a, magical, experience, I, recommend, m...   \n",
              "17039  [My, boyfriend, took, me, here, for, my, birth...   \n",
              "17040  [Everything, here, is, just, amazing, Take, yo...   \n",
              "17041  [Not, the, same, as, Disney, in, the, states, ...   \n",
              "17042  [This, is, a, place, everyone, deserves, to, g...   \n",
              "17043  [3rd, time, hereIt, gets, betterPlenty, to, do...   \n",
              "17044  [I, had, been, there, twice, with, my, grandso...   \n",
              "\n",
              "                                     review_text_cleaned  \n",
              "17035  [we've, disneyland, hongkong, tokyo, far, one,...  \n",
              "17036  [fantastic, place, queues, decent, best, time,...  \n",
              "17037  [trip, disney, makes, warm, fuzzy, actual, kid...  \n",
              "17038  [magical, experience, recommend, making, us, f...  \n",
              "17039  [boyfriend, took, birthday, year, god, he's, d...  \n",
              "17040  [everything, amazing, take, lunch, save, time,...  \n",
              "17041  [disney, states, none, usual, foods, none, les...  \n",
              "17042  [place, everyone, deserves, go, least, life, t...  \n",
              "17043  [3rd, time, hereit, gets, betterplenty, allsho...  \n",
              "17044  [twice, grandson, never, give, grandsons, neve...  "
            ]
          },
          "metadata": {},
          "execution_count": 239
        }
      ]
    },
    {
      "cell_type": "code",
      "metadata": {
        "id": "bfw0V2IPG6Gi",
        "colab": {
          "base_uri": "https://localhost:8080/"
        },
        "outputId": "4fd60426-6137-404f-985a-ded7fddc536a"
      },
      "source": [
        "# count null values for Paris\n",
        "Paris.isnull().sum()"
      ],
      "execution_count": null,
      "outputs": [
        {
          "output_type": "execute_result",
          "data": {
            "text/plain": [
              "review_id              0\n",
              "rating                 0\n",
              "rating_binary          0\n",
              "year_month             0\n",
              "reviewer_location      0\n",
              "review_text            0\n",
              "branch                 0\n",
              "Disneyland_HongKong    0\n",
              "Disneyland_Paris       0\n",
              "review_text_tok        0\n",
              "review_text_cleaned    0\n",
              "dtype: int64"
            ]
          },
          "metadata": {},
          "execution_count": 240
        }
      ]
    },
    {
      "cell_type": "code",
      "metadata": {
        "id": "IjXf9GP0G6Lp"
      },
      "source": [
        "# subset df\n",
        "Paris_subset = Paris.sample(n = 300, random_state = 50)\n",
        "Paris_subset = Paris_subset.reset_index(drop = True)"
      ],
      "execution_count": null,
      "outputs": []
    },
    {
      "cell_type": "code",
      "metadata": {
        "id": "Zetya7PYG6P8"
      },
      "source": [
        "# English splitter model\n",
        "splitter = NNSplit.load('en') "
      ],
      "execution_count": null,
      "outputs": []
    },
    {
      "cell_type": "code",
      "metadata": {
        "id": "tqcSbXvgG6UT"
      },
      "source": [
        "# split list\n",
        "split_list = []\n",
        "# for loop with split list\n",
        "for row in Paris_subset['review_text']:\n",
        "  splits = splitter.split([row])[0]\n",
        "  split_list.append(splits)"
      ],
      "execution_count": null,
      "outputs": []
    },
    {
      "cell_type": "code",
      "metadata": {
        "id": "e5wlMemLG6Y5"
      },
      "source": [
        "# append to dataframe\n",
        "df_1 = list()\n",
        "\n",
        "for line in split_list:\n",
        "  for split in line:\n",
        "    df_1.append(str(split))\n",
        "\n",
        "df_1 = pd.DataFrame(df_1)\n",
        "df_1.columns = ['review_text_line']"
      ],
      "execution_count": null,
      "outputs": []
    },
    {
      "cell_type": "code",
      "metadata": {
        "id": "poN2dI0RG6c3",
        "colab": {
          "base_uri": "https://localhost:8080/",
          "height": 376
        },
        "outputId": "f7a76ac8-499a-4e0c-a477-1de55c368da1"
      },
      "source": [
        "# testing what we have\n",
        "print(df_1.loc[4][0])\n",
        "\n",
        "df_1.tail(10)"
      ],
      "execution_count": null,
      "outputs": [
        {
          "output_type": "stream",
          "name": "stdout",
          "text": [
            "The reality is it is going to be busy, it is going to be cold and you are going to have to queue as this is a fantastic place. \n"
          ]
        },
        {
          "output_type": "execute_result",
          "data": {
            "text/html": [
              "<div>\n",
              "<style scoped>\n",
              "    .dataframe tbody tr th:only-of-type {\n",
              "        vertical-align: middle;\n",
              "    }\n",
              "\n",
              "    .dataframe tbody tr th {\n",
              "        vertical-align: top;\n",
              "    }\n",
              "\n",
              "    .dataframe thead th {\n",
              "        text-align: right;\n",
              "    }\n",
              "</style>\n",
              "<table border=\"1\" class=\"dataframe\">\n",
              "  <thead>\n",
              "    <tr style=\"text-align: right;\">\n",
              "      <th></th>\n",
              "      <th>review_text_line</th>\n",
              "    </tr>\n",
              "  </thead>\n",
              "  <tbody>\n",
              "    <tr>\n",
              "      <th>3248</th>\n",
              "      <td>there isn't much in the way of white knuckle r...</td>\n",
              "    </tr>\n",
              "    <tr>\n",
              "      <th>3249</th>\n",
              "      <td>Do expect to queue and as a British citizen do...</td>\n",
              "    </tr>\n",
              "    <tr>\n",
              "      <th>3250</th>\n",
              "      <td>People will push past you and your children wi...</td>\n",
              "    </tr>\n",
              "    <tr>\n",
              "      <th>3251</th>\n",
              "      <td>If there is a long queue I would suggest getti...</td>\n",
              "    </tr>\n",
              "    <tr>\n",
              "      <th>3252</th>\n",
              "      <td>The food is as you would expect, over priced n...</td>\n",
              "    </tr>\n",
              "    <tr>\n",
              "      <th>3253</th>\n",
              "      <td>There is great attention to detail in the park...</td>\n",
              "    </tr>\n",
              "    <tr>\n",
              "      <th>3254</th>\n",
              "      <td>For the lunchtime parade and closing show, peo...</td>\n",
              "    </tr>\n",
              "    <tr>\n",
              "      <th>3255</th>\n",
              "      <td>The lunchtime parade is short and ok, not that...</td>\n",
              "    </tr>\n",
              "    <tr>\n",
              "      <th>3256</th>\n",
              "      <td>The closing show however is fantastic, much be...</td>\n",
              "    </tr>\n",
              "    <tr>\n",
              "      <th>3257</th>\n",
              "      <td>All in all a great day, wear comfy shoes as lo...</td>\n",
              "    </tr>\n",
              "  </tbody>\n",
              "</table>\n",
              "</div>"
            ],
            "text/plain": [
              "                                       review_text_line\n",
              "3248  there isn't much in the way of white knuckle r...\n",
              "3249  Do expect to queue and as a British citizen do...\n",
              "3250  People will push past you and your children wi...\n",
              "3251  If there is a long queue I would suggest getti...\n",
              "3252  The food is as you would expect, over priced n...\n",
              "3253  There is great attention to detail in the park...\n",
              "3254  For the lunchtime parade and closing show, peo...\n",
              "3255  The lunchtime parade is short and ok, not that...\n",
              "3256  The closing show however is fantastic, much be...\n",
              "3257  All in all a great day, wear comfy shoes as lo..."
            ]
          },
          "metadata": {},
          "execution_count": 245
        }
      ]
    },
    {
      "cell_type": "code",
      "metadata": {
        "id": "1q7LXk8VG6gu"
      },
      "source": [
        "# tokenization of reviews\n",
        "re_tokenizer = RegexpTokenizer(\"[\\\\w']+\")\n",
        "df_1['review_text_token'] = df_1['review_text_line'].apply(re_tokenizer.tokenize)"
      ],
      "execution_count": null,
      "outputs": []
    },
    {
      "cell_type": "code",
      "metadata": {
        "id": "Sk2EqQjDG6k8"
      },
      "source": [
        "# lowercase all characters in reviews\n",
        "df_1['review_text_token'] = df_1['review_text_token'].apply(lambda x: [word.lower() for word in x])"
      ],
      "execution_count": null,
      "outputs": []
    },
    {
      "cell_type": "code",
      "metadata": {
        "id": "STFi7rz5G6pZ",
        "colab": {
          "base_uri": "https://localhost:8080/",
          "height": 142
        },
        "outputId": "3f46a41c-2d68-4c44-c6da-b48c4a160da8"
      },
      "source": [
        "# create tri grams\n",
        "df_1['trigrams'] = df_1['review_text_token'].apply(lambda row: list(nltk.trigrams(row, ))) # Use the tokenized text\n",
        "df_1.head(3)"
      ],
      "execution_count": null,
      "outputs": [
        {
          "output_type": "execute_result",
          "data": {
            "text/html": [
              "<div>\n",
              "<style scoped>\n",
              "    .dataframe tbody tr th:only-of-type {\n",
              "        vertical-align: middle;\n",
              "    }\n",
              "\n",
              "    .dataframe tbody tr th {\n",
              "        vertical-align: top;\n",
              "    }\n",
              "\n",
              "    .dataframe thead th {\n",
              "        text-align: right;\n",
              "    }\n",
              "</style>\n",
              "<table border=\"1\" class=\"dataframe\">\n",
              "  <thead>\n",
              "    <tr style=\"text-align: right;\">\n",
              "      <th></th>\n",
              "      <th>review_text_line</th>\n",
              "      <th>review_text_token</th>\n",
              "      <th>trigrams</th>\n",
              "    </tr>\n",
              "  </thead>\n",
              "  <tbody>\n",
              "    <tr>\n",
              "      <th>0</th>\n",
              "      <td>This was our third visit to Disneyland Paris a...</td>\n",
              "      <td>[this, was, our, third, visit, to, disneyland,...</td>\n",
              "      <td>[(this, was, our), (was, our, third), (our, th...</td>\n",
              "    </tr>\n",
              "    <tr>\n",
              "      <th>1</th>\n",
              "      <td>We arrived on Boxing day for a 3 night, 4 day ...</td>\n",
              "      <td>[we, arrived, on, boxing, day, for, a, 3, nigh...</td>\n",
              "      <td>[(we, arrived, on), (arrived, on, boxing), (on...</td>\n",
              "    </tr>\n",
              "    <tr>\n",
              "      <th>2</th>\n",
              "      <td>The whole place was very christmassy, the deco...</td>\n",
              "      <td>[the, whole, place, was, very, christmassy, th...</td>\n",
              "      <td>[(the, whole, place), (whole, place, was), (pl...</td>\n",
              "    </tr>\n",
              "  </tbody>\n",
              "</table>\n",
              "</div>"
            ],
            "text/plain": [
              "                                    review_text_line  \\\n",
              "0  This was our third visit to Disneyland Paris a...   \n",
              "1  We arrived on Boxing day for a 3 night, 4 day ...   \n",
              "2  The whole place was very christmassy, the deco...   \n",
              "\n",
              "                                   review_text_token  \\\n",
              "0  [this, was, our, third, visit, to, disneyland,...   \n",
              "1  [we, arrived, on, boxing, day, for, a, 3, nigh...   \n",
              "2  [the, whole, place, was, very, christmassy, th...   \n",
              "\n",
              "                                            trigrams  \n",
              "0  [(this, was, our), (was, our, third), (our, th...  \n",
              "1  [(we, arrived, on), (arrived, on, boxing), (on...  \n",
              "2  [(the, whole, place), (whole, place, was), (pl...  "
            ]
          },
          "metadata": {},
          "execution_count": 248
        }
      ]
    },
    {
      "cell_type": "code",
      "metadata": {
        "id": "YJTUtsGQG6tD",
        "colab": {
          "base_uri": "https://localhost:8080/"
        },
        "outputId": "eb2642cd-8008-4fb9-d62d-efa2358f77a1"
      },
      "source": [
        "# trigrams are transformed into a list\n",
        "trigrams_list = lines_df['trigrams'].tolist() # Convert column to list of lists\n",
        "trigrams_list = list(chain(*trigrams_list)) # Flatten the lists to a single list\n",
        "trigrams_list"
      ],
      "execution_count": null,
      "outputs": [
        {
          "output_type": "execute_result",
          "data": {
            "text/plain": [
              "[('this', 'was', 'our'),\n",
              " ('was', 'our', 'third'),\n",
              " ('our', 'third', 'visit'),\n",
              " ('third', 'visit', 'to'),\n",
              " ('visit', 'to', 'disneyland'),\n",
              " ('to', 'disneyland', 'paris'),\n",
              " ('disneyland', 'paris', 'and'),\n",
              " ('paris', 'and', 'our'),\n",
              " ('and', 'our', 'first'),\n",
              " ('our', 'first', 'over'),\n",
              " ('first', 'over', 'the'),\n",
              " ('over', 'the', 'christmas'),\n",
              " ('the', 'christmas', 'period'),\n",
              " ('we', 'arrived', 'on'),\n",
              " ('arrived', 'on', 'boxing'),\n",
              " ('on', 'boxing', 'day'),\n",
              " ('boxing', 'day', 'for'),\n",
              " ('day', 'for', 'a'),\n",
              " ('for', 'a', '3'),\n",
              " ('a', '3', 'night'),\n",
              " ('3', 'night', '4'),\n",
              " ('night', '4', 'day'),\n",
              " ('4', 'day', 'break'),\n",
              " ('day', 'break', 'staying'),\n",
              " ('break', 'staying', 'at'),\n",
              " ('staying', 'at', 'the'),\n",
              " ('at', 'the', 'disney'),\n",
              " ('the', 'disney', 'davy'),\n",
              " ('disney', 'davy', 'crockett'),\n",
              " ('davy', 'crockett', 'ranch'),\n",
              " ('the', 'whole', 'place'),\n",
              " ('whole', 'place', 'was'),\n",
              " ('place', 'was', 'very'),\n",
              " ('was', 'very', 'christmassy'),\n",
              " ('very', 'christmassy', 'the'),\n",
              " ('christmassy', 'the', 'decorations'),\n",
              " ('the', 'decorations', 'lights'),\n",
              " ('decorations', 'lights', 'parades'),\n",
              " ('lights', 'parades', 'and'),\n",
              " ('parades', 'and', 'the'),\n",
              " ('and', 'the', 'finale'),\n",
              " ('the', 'finale', 'were'),\n",
              " ('finale', 'were', 'simply'),\n",
              " ('were', 'simply', 'amazing'),\n",
              " ('i', 'think', 'a'),\n",
              " ('think', 'a', 'lot'),\n",
              " ('a', 'lot', 'of'),\n",
              " ('lot', 'of', 'the'),\n",
              " ('of', 'the', 'reviews'),\n",
              " ('the', 'reviews', 'on'),\n",
              " ('reviews', 'on', 'here'),\n",
              " ('on', 'here', 'are'),\n",
              " ('here', 'are', 'ridiculous'),\n",
              " ('are', 'ridiculous', 'and'),\n",
              " ('ridiculous', 'and', 'too'),\n",
              " ('and', 'too', 'harsh'),\n",
              " ('the', 'reality', 'is'),\n",
              " ('reality', 'is', 'it'),\n",
              " ('is', 'it', 'is'),\n",
              " ('it', 'is', 'going'),\n",
              " ('is', 'going', 'to'),\n",
              " ('going', 'to', 'be'),\n",
              " ('to', 'be', 'busy'),\n",
              " ('be', 'busy', 'it'),\n",
              " ('busy', 'it', 'is'),\n",
              " ('it', 'is', 'going'),\n",
              " ('is', 'going', 'to'),\n",
              " ('going', 'to', 'be'),\n",
              " ('to', 'be', 'cold'),\n",
              " ('be', 'cold', 'and'),\n",
              " ('cold', 'and', 'you'),\n",
              " ('and', 'you', 'are'),\n",
              " ('you', 'are', 'going'),\n",
              " ('are', 'going', 'to'),\n",
              " ('going', 'to', 'have'),\n",
              " ('to', 'have', 'to'),\n",
              " ('have', 'to', 'queue'),\n",
              " ('to', 'queue', 'as'),\n",
              " ('queue', 'as', 'this'),\n",
              " ('as', 'this', 'is'),\n",
              " ('this', 'is', 'a'),\n",
              " ('is', 'a', 'fantastic'),\n",
              " ('a', 'fantastic', 'place'),\n",
              " ('however', 'with', 'good'),\n",
              " ('with', 'good', 'planning'),\n",
              " ('good', 'planning', 'you'),\n",
              " ('planning', 'you', 'can'),\n",
              " ('you', 'can', 'get'),\n",
              " ('can', 'get', 'the'),\n",
              " ('get', 'the', 'most'),\n",
              " ('the', 'most', 'out'),\n",
              " ('most', 'out', 'of'),\n",
              " ('out', 'of', 'your'),\n",
              " ('of', 'your', 'time'),\n",
              " ('your', 'time', 'here'),\n",
              " ('and', 'if', 'you'),\n",
              " ('if', 'you', 'are'),\n",
              " ('you', 'are', 'staying'),\n",
              " ('are', 'staying', 'in'),\n",
              " ('staying', 'in', 'a'),\n",
              " ('in', 'a', 'disney'),\n",
              " ('a', 'disney', 'hotel'),\n",
              " ('disney', 'hotel', 'you'),\n",
              " ('hotel', 'you', 'have'),\n",
              " ('you', 'have', 'over'),\n",
              " ('have', 'over', '14'),\n",
              " ('over', '14', 'hours'),\n",
              " ('14', 'hours', 'in'),\n",
              " ('hours', 'in', 'a'),\n",
              " ('in', 'a', 'day'),\n",
              " ('a', 'day', 'to'),\n",
              " ('day', 'to', 'squeeze'),\n",
              " ('to', 'squeeze', 'in'),\n",
              " ('squeeze', 'in', 'as'),\n",
              " ('in', 'as', 'much'),\n",
              " ('as', 'much', 'as'),\n",
              " ('much', 'as', 'you'),\n",
              " ('as', 'you', 'can'),\n",
              " ('you', 'can', '8am'),\n",
              " ('can', '8am', '10'),\n",
              " ('8am', '10', '20'),\n",
              " ('10', '20', 'pm'),\n",
              " ('20', 'pm', 'when'),\n",
              " ('pm', 'when', 'the'),\n",
              " ('when', 'the', 'show'),\n",
              " ('the', 'show', 'ends'),\n",
              " ('top', 'tip', '1'),\n",
              " ('tip', '1', 'make'),\n",
              " ('1', 'make', 'good'),\n",
              " ('make', 'good', 'use'),\n",
              " ('good', 'use', 'of'),\n",
              " ('use', 'of', 'the'),\n",
              " ('of', 'the', 'fastpass'),\n",
              " ('the', 'fastpass', 'tickets'),\n",
              " ('there', 'are', 'around'),\n",
              " ('are', 'around', '5'),\n",
              " ('around', '5', 'rides'),\n",
              " ('5', 'rides', 'in'),\n",
              " ('rides', 'in', 'each'),\n",
              " ('in', 'each', 'park'),\n",
              " ('each', 'park', 'that'),\n",
              " ('park', 'that', 'let'),\n",
              " ('that', 'let', 'you'),\n",
              " ('let', 'you', 'use'),\n",
              " ('you', 'use', 'a'),\n",
              " ('use', 'a', 'fastpass'),\n",
              " ('the', 'first', 'thing'),\n",
              " ('first', 'thing', 'you'),\n",
              " ('thing', 'you', 'do'),\n",
              " ('you', 'do', 'when'),\n",
              " ('do', 'when', 'you'),\n",
              " ('when', 'you', 'arrive'),\n",
              " ('you', 'arrive', 'at'),\n",
              " ('arrive', 'at', 'the'),\n",
              " ('at', 'the', 'park'),\n",
              " ('the', 'park', 'is'),\n",
              " ('park', 'is', 'get'),\n",
              " ('is', 'get', 'a'),\n",
              " ('get', 'a', 'fastpass'),\n",
              " ('a', 'fastpass', 'for'),\n",
              " ('fastpass', 'for', 'the'),\n",
              " ('for', 'the', 'ride'),\n",
              " ('you', 'want', 'to'),\n",
              " ('want', 'to', 'go'),\n",
              " ('to', 'go', 'on'),\n",
              " ('go', 'on', 'most'),\n",
              " ('send', '1', 'person'),\n",
              " ('1', 'person', 'to'),\n",
              " ('person', 'to', 'collect'),\n",
              " ('to', 'collect', 'the'),\n",
              " ('collect', 'the', 'fastpasses'),\n",
              " ('the', 'fastpasses', 'as'),\n",
              " ('fastpasses', 'as', 'you'),\n",
              " ('as', 'you', 'need'),\n",
              " ('you', 'need', 'to'),\n",
              " ('need', 'to', 'scan'),\n",
              " ('to', 'scan', 'the'),\n",
              " ('scan', 'the', 'entry'),\n",
              " ('the', 'entry', 'tickets'),\n",
              " ('entry', 'tickets', 'whilst'),\n",
              " ('tickets', 'whilst', 'the'),\n",
              " ('whilst', 'the', 'rest'),\n",
              " ('the', 'rest', 'of'),\n",
              " ('rest', 'of', 'you'),\n",
              " ('of', 'you', 'queue'),\n",
              " ('you', 'queue', 'for'),\n",
              " ('queue', 'for', 'another'),\n",
              " ('for', 'another', 'ride'),\n",
              " ('the', 'person', 'collecting'),\n",
              " ('person', 'collecting', 'the'),\n",
              " ('collecting', 'the', 'tickets'),\n",
              " ('the', 'tickets', 'can'),\n",
              " ('tickets', 'can', 'then'),\n",
              " ('can', 'then', 'join'),\n",
              " ('then', 'join', 'you'),\n",
              " ('join', 'you', 'in'),\n",
              " ('you', 'in', 'the'),\n",
              " ('in', 'the', 'other'),\n",
              " ('the', 'other', 'queue'),\n",
              " ('note', 'you', 'are'),\n",
              " ('you', 'are', 'unable'),\n",
              " ('are', 'unable', 'to'),\n",
              " ('unable', 'to', 'get'),\n",
              " ('to', 'get', 'another'),\n",
              " ('get', 'another', 'fastpass'),\n",
              " ('another', 'fastpass', 'until'),\n",
              " ('fastpass', 'until', 'the'),\n",
              " ('until', 'the', 'ones'),\n",
              " ('the', 'ones', 'you'),\n",
              " ('ones', 'you', 'have'),\n",
              " ('you', 'have', 'expire'),\n",
              " ('top', 'tip', '2'),\n",
              " ('tip', '2', 'there'),\n",
              " ('2', 'there', 'are'),\n",
              " ('there', 'are', 'long'),\n",
              " ('are', 'long', 'queues'),\n",
              " ('long', 'queues', 'to'),\n",
              " ('queues', 'to', 'meet'),\n",
              " ('to', 'meet', 'the'),\n",
              " ('meet', 'the', 'princesses'),\n",
              " ('the', 'princesses', 'and'),\n",
              " ('princesses', 'and', 'characters'),\n",
              " ('for', 'elsa', 'anna'),\n",
              " ('elsa', 'anna', 'this'),\n",
              " ('anna', 'this', 'was'),\n",
              " ('this', 'was', 'around'),\n",
              " ('was', 'around', '3'),\n",
              " ('around', '3', '4'),\n",
              " ('3', '4', 'hours'),\n",
              " ('4', 'hours', 'minimum'),\n",
              " ('hours', 'minimum', 'so'),\n",
              " ('minimum', 'so', 'get'),\n",
              " ('so', 'get', 'there'),\n",
              " ('get', 'there', 'as'),\n",
              " ('there', 'as', 'early'),\n",
              " ('as', 'early', 'as'),\n",
              " ('early', 'as', 'possible'),\n",
              " ('as', 'possible', 'and'),\n",
              " ('possible', 'and', 'start'),\n",
              " ('and', 'start', 'queuing'),\n",
              " ('although', 'the', 'queue'),\n",
              " ('the', 'queue', 'does'),\n",
              " ('queue', 'does', 'not'),\n",
              " ('does', 'not', 'open'),\n",
              " ('not', 'open', 'until'),\n",
              " ('open', 'until', '10'),\n",
              " ('until', '10', 'or'),\n",
              " ('10', 'or', '11'),\n",
              " ('or', '11', 'am'),\n",
              " ('11', 'am', 'people'),\n",
              " ('am', 'people', 'were'),\n",
              " ('people', 'were', 'queuing'),\n",
              " ('were', 'queuing', 'from'),\n",
              " ('queuing', 'from', '8am'),\n",
              " ('from', '8am', 'for'),\n",
              " ('8am', 'for', 'elsa'),\n",
              " ('for', 'elsa', 'anna'),\n",
              " ('top', 'tip', '3'),\n",
              " ('tip', '3', 'i'),\n",
              " ('3', 'i', 'recommend'),\n",
              " ('i', 'recommend', 'mickey'),\n",
              " ('recommend', 'mickey', 'caf'),\n",
              " ('mickey', 'caf', 'in'),\n",
              " ('caf', 'in', 'the'),\n",
              " ('in', 'the', 'disney'),\n",
              " ('the', 'disney', 'village'),\n",
              " ('disney', 'village', 'to'),\n",
              " ('village', 'to', 'meet'),\n",
              " ('to', 'meet', 'the'),\n",
              " ('meet', 'the', 'characters'),\n",
              " ('you', 'can', 'use'),\n",
              " ('can', 'use', 'your'),\n",
              " ('use', 'your', 'half'),\n",
              " ('your', 'half', 'board'),\n",
              " ('half', 'board', 'full'),\n",
              " ('board', 'full', 'board'),\n",
              " ('full', 'board', 'meal'),\n",
              " ('board', 'meal', 'vouchers'),\n",
              " ('meal', 'vouchers', 'as'),\n",
              " ('vouchers', 'as', 'part'),\n",
              " ('as', 'part', 'payment'),\n",
              " ('part', 'payment', 'if'),\n",
              " ('payment', 'if', 'you'),\n",
              " ('if', 'you', 'have'),\n",
              " ('you', 'have', 'them'),\n",
              " ('as', 'a', 'family'),\n",
              " ('a', 'family', 'of'),\n",
              " ('family', 'of', '5'),\n",
              " ('of', '5', 'it'),\n",
              " ('5', 'it', 'cost'),\n",
              " ('it', 'cost', 'us'),\n",
              " ('cost', 'us', 'an'),\n",
              " ('us', 'an', 'additonal'),\n",
              " ('an', 'additonal', '50'),\n",
              " ('additonal', '50', 'euro'),\n",
              " ('50', 'euro', 'on'),\n",
              " ('euro', 'on', 'top'),\n",
              " ('on', 'top', 'of'),\n",
              " ('top', 'of', 'our'),\n",
              " ('of', 'our', 'meal'),\n",
              " ('our', 'meal', 'vouchers'),\n",
              " ('meal', 'vouchers', 'and'),\n",
              " ('vouchers', 'and', 'we'),\n",
              " ('and', 'we', 'saw'),\n",
              " ('we', 'saw', 'minnie'),\n",
              " ('saw', 'minnie', 'mickey'),\n",
              " ('minnie', 'mickey', 'pluto'),\n",
              " ('mickey', 'pluto', 'goofy'),\n",
              " ('pluto', 'goofy', 'and'),\n",
              " ('goofy', 'and', 'tigger'),\n",
              " ('each', 'of', 'them'),\n",
              " ('of', 'them', 'signed'),\n",
              " ('them', 'signed', 'our'),\n",
              " ('signed', 'our', 'books'),\n",
              " ('our', 'books', 'and'),\n",
              " ('books', 'and', 'let'),\n",
              " ('and', 'let', 'us'),\n",
              " ('let', 'us', 'have'),\n",
              " ('us', 'have', 'a'),\n",
              " ('have', 'a', 'photo'),\n",
              " ('typically', 'a', '2'),\n",
              " ('a', '2', 'course'),\n",
              " ('2', 'course', 'meal'),\n",
              " ('course', 'meal', 'costs'),\n",
              " ('meal', 'costs', 'around'),\n",
              " ('costs', 'around', '25'),\n",
              " ('around', '25', '30'),\n",
              " ('25', '30', 'euro'),\n",
              " ('30', 'euro', 'per'),\n",
              " ('euro', 'per', 'person'),\n",
              " ('per', 'person', 'and'),\n",
              " ('person', 'and', 'kids'),\n",
              " ('and', 'kids', 'get'),\n",
              " ('kids', 'get', 'a'),\n",
              " ('get', 'a', 'drink'),\n",
              " ('a', 'drink', 'with'),\n",
              " ('drink', 'with', 'that'),\n",
              " ('i', 'would', 'recommend'),\n",
              " ('would', 'recommend', 'the'),\n",
              " ('recommend', 'the', 'auberge'),\n",
              " ('the', 'auberge', 'in'),\n",
              " ('auberge', 'in', 'the'),\n",
              " ('in', 'the', 'disneyland'),\n",
              " ('the', 'disneyland', 'park'),\n",
              " ('disneyland', 'park', 'to'),\n",
              " ('park', 'to', 'meet'),\n",
              " ('to', 'meet', 'the'),\n",
              " ('meet', 'the', 'princesses'),\n",
              " ('however', 'this', 'is'),\n",
              " ('this', 'is', 'a'),\n",
              " ('is', 'a', 'bit'),\n",
              " ('a', 'bit', 'more'),\n",
              " ('bit', 'more', 'expensive'),\n",
              " ('more', 'expensive', 'than'),\n",
              " ('expensive', 'than', 'mickey'),\n",
              " ('than', 'mickey', 'caf'),\n",
              " ('but', 'you', 'can'),\n",
              " ('you', 'can', 'still'),\n",
              " ('can', 'still', 'use'),\n",
              " ('still', 'use', 'your'),\n",
              " ('use', 'your', 'half'),\n",
              " ('your', 'half', 'board'),\n",
              " ('full', 'board', 'meal'),\n",
              " ('board', 'meal', 'vouchers'),\n",
              " ('meal', 'vouchers', 'as'),\n",
              " ('vouchers', 'as', 'part'),\n",
              " ('as', 'part', 'payment'),\n",
              " ('my', 'daughters', 'got'),\n",
              " ('daughters', 'got', 'to'),\n",
              " ('got', 'to', 'meet'),\n",
              " ('to', 'meet', 'belle'),\n",
              " ('meet', 'belle', 'cinderella'),\n",
              " ('belle', 'cinderella', 'prince'),\n",
              " ('cinderella', 'prince', 'charming'),\n",
              " ('prince', 'charming', 'ariel'),\n",
              " ('charming', 'ariel', 'and'),\n",
              " ('ariel', 'and', '2'),\n",
              " ('and', '2', 'other'),\n",
              " ('2', 'other', 'minor'),\n",
              " ('other', 'minor', 'characters'),\n",
              " ('the', 'princesses', 'spent'),\n",
              " ('princesses', 'spent', 'time'),\n",
              " ('spent', 'time', 'talking'),\n",
              " ('time', 'talking', 'to'),\n",
              " ('talking', 'to', 'my'),\n",
              " ('to', 'my', 'daughters'),\n",
              " ('my', 'daughters', 'and'),\n",
              " ('daughters', 'and', 'again'),\n",
              " ('and', 'again', 'each'),\n",
              " ('again', 'each', 'of'),\n",
              " ('each', 'of', 'them'),\n",
              " ('of', 'them', 'signed'),\n",
              " ('them', 'signed', 'their'),\n",
              " ('signed', 'their', 'books'),\n",
              " ('their', 'books', 'and'),\n",
              " ('books', 'and', 'let'),\n",
              " ('and', 'let', 'us'),\n",
              " ('let', 'us', 'have'),\n",
              " ('us', 'have', 'a'),\n",
              " ('have', 'a', 'photo'),\n",
              " ('the', 'setting', 'was'),\n",
              " ('setting', 'was', 'wonderful'),\n",
              " ('was', 'wonderful', 'and'),\n",
              " ('wonderful', 'and', 'cinderella'),\n",
              " ('and', 'cinderella', 'prince'),\n",
              " ('cinderella', 'prince', 'charming'),\n",
              " ('prince', 'charming', 'did'),\n",
              " ('charming', 'did', 'a'),\n",
              " ('did', 'a', 'dance'),\n",
              " ('a', 'dance', 'in'),\n",
              " ('dance', 'in', 'the'),\n",
              " ('in', 'the', 'middle'),\n",
              " ('the', 'middle', 'of'),\n",
              " ('middle', 'of', 'the'),\n",
              " ('of', 'the', 'room'),\n",
              " ('the', 'room', 'which'),\n",
              " ('room', 'which', 'was'),\n",
              " ('which', 'was', 'memorable'),\n",
              " ('me', 'and', 'my'),\n",
              " ('and', 'my', 'son'),\n",
              " ('my', 'son', 'sat'),\n",
              " ('son', 'sat', 'this'),\n",
              " ('sat', 'this', 'one'),\n",
              " ('this', 'one', 'out'),\n",
              " ('one', 'out', 'due'),\n",
              " ('out', 'due', 'to'),\n",
              " ('due', 'to', 'the'),\n",
              " ('to', 'the', 'cost'),\n",
              " ('the', 'cost', 'and'),\n",
              " ('cost', 'and', 'we'),\n",
              " ('and', 'we', 'ate'),\n",
              " ('we', 'ate', 'in'),\n",
              " ('ate', 'in', 'the'),\n",
              " ('in', 'the', 'plaza'),\n",
              " ('the', 'plaza', 'gardens'),\n",
              " ('the', 'food', 'was'),\n",
              " ('food', 'was', 'lovely'),\n",
              " ('was', 'lovely', 'in'),\n",
              " ('lovely', 'in', 'the'),\n",
              " ('in', 'the', 'plaza'),\n",
              " ('the', 'plaza', 'gardens'),\n",
              " ('plaza', 'gardens', 'buffet'),\n",
              " ('gardens', 'buffet', 'but'),\n",
              " ('buffet', 'but', 'only'),\n",
              " ('but', 'only', '1'),\n",
              " ('only', '1', 'toliet'),\n",
              " ('1', 'toliet', 'meant'),\n",
              " ('toliet', 'meant', 'a'),\n",
              " ('meant', 'a', '10'),\n",
              " ('a', '10', 'minute'),\n",
              " ('10', 'minute', 'wait'),\n",
              " ('my', 'wife', 'and'),\n",
              " ('wife', 'and', '2'),\n",
              " ('and', '2', 'daughters'),\n",
              " ('2', 'daughters', 'did'),\n",
              " ('daughters', 'did', 'the'),\n",
              " ('did', 'the', 'princess'),\n",
              " ('the', 'princess', 'lunch'),\n",
              " ('the', 'cost', 'for'),\n",
              " ('cost', 'for', 'an'),\n",
              " ('for', 'an', 'adult'),\n",
              " ('an', 'adult', 'was'),\n",
              " ('adult', 'was', '67'),\n",
              " ('was', '67', 'euro'),\n",
              " ('67', 'euro', 'and'),\n",
              " ('euro', 'and', 'for'),\n",
              " ('and', 'for', 'the'),\n",
              " ('for', 'the', 'kids'),\n",
              " ('the', 'kids', '34'),\n",
              " ('kids', '34', 'euro'),\n",
              " ('34', 'euro', 'each'),\n",
              " ('euro', 'each', 'for'),\n",
              " ('each', 'for', 'a'),\n",
              " ('for', 'a', '3'),\n",
              " ('a', '3', 'course'),\n",
              " ('3', 'course', 'meal'),\n",
              " ('the', 'food', 'was'),\n",
              " ('food', 'was', 'lovely'),\n",
              " ('was', 'lovely', 'and'),\n",
              " ('lovely', 'and', 'well'),\n",
              " ('and', 'well', 'presented'),\n",
              " ('the', 'dessert', 'was'),\n",
              " ('dessert', 'was', 'served'),\n",
              " ('was', 'served', 'in'),\n",
              " ('served', 'in', 'a'),\n",
              " ('in', 'a', 'white'),\n",
              " ('a', 'white', 'chocolate'),\n",
              " ('white', 'chocolate', 'cincerella'),\n",
              " ('chocolate', 'cincerella', 'slipper'),\n",
              " ('cincerella', 'slipper', 'with'),\n",
              " ('slipper', 'with', 'a'),\n",
              " ('with', 'a', 'flaming'),\n",
              " ('a', 'flaming', 'creme'),\n",
              " ('flaming', 'creme', 'brule'),\n",
              " ('i', 'joined', 'my'),\n",
              " ('joined', 'my', 'family'),\n",
              " ('my', 'family', 'at'),\n",
              " ('family', 'at', 'the'),\n",
              " ('at', 'the', 'end'),\n",
              " ('the', 'end', 'of'),\n",
              " ('end', 'of', 'the'),\n",
              " ('of', 'the', 'meal'),\n",
              " ('the', 'meal', 'which'),\n",
              " ('meal', 'which', 'the'),\n",
              " ('which', 'the', 'restaurant'),\n",
              " ('the', 'restaurant', 'had'),\n",
              " ('restaurant', 'had', 'no'),\n",
              " ('had', 'no', 'issue'),\n",
              " ('no', 'issue', 'with'),\n",
              " ('the', 'total', 'cost'),\n",
              " ('total', 'cost', 'for'),\n",
              " ('cost', 'for', '3'),\n",
              " ('for', '3', 'with'),\n",
              " ('3', 'with', 'drinks'),\n",
              " ('with', 'drinks', 'was'),\n",
              " ('drinks', 'was', 'around'),\n",
              " ('was', 'around', '145'),\n",
              " ('around', '145', 'euro'),\n",
              " ('145', 'euro', 'and'),\n",
              " ('euro', 'and', 'it'),\n",
              " ('and', 'it', 'ended'),\n",
              " ('it', 'ended', 'up'),\n",
              " ('ended', 'up', 'costing'),\n",
              " ('up', 'costing', 'me'),\n",
              " ('90', 'euro', 'on'),\n",
              " ('euro', 'on', 'top'),\n",
              " ('on', 'top', 'of'),\n",
              " ('top', 'of', 'the'),\n",
              " ('of', 'the', 'meal'),\n",
              " ('the', 'meal', 'vouchers'),\n",
              " ('meal', 'vouchers', 'we'),\n",
              " ('vouchers', 'we', 'used'),\n",
              " ('we', 'used', 'towards'),\n",
              " ('used', 'towards', 'it'),\n",
              " ('given', 'that', 'queues'),\n",
              " ('that', 'queues', 'for'),\n",
              " ('queues', 'for', 'princesses'),\n",
              " ('for', 'princesses', 'in'),\n",
              " ('princesses', 'in', 'the'),\n",
              " ('in', 'the', 'park'),\n",
              " ('the', 'park', 'were'),\n",
              " ('park', 'were', 'averaging'),\n",
              " ('were', 'averaging', 'around'),\n",
              " ('averaging', 'around', '2'),\n",
              " ('around', '2', 'hours'),\n",
              " ('2', 'hours', 'i'),\n",
              " ('hours', 'i', 'feel'),\n",
              " ('i', 'feel', 'this'),\n",
              " ('feel', 'this', 'was'),\n",
              " ('this', 'was', 'good'),\n",
              " ('was', 'good', 'value'),\n",
              " ('good', 'value', 'and'),\n",
              " ('value', 'and', 'a'),\n",
              " ('and', 'a', 'memorable'),\n",
              " ('a', 'memorable', 'experience'),\n",
              " ('memorable', 'experience', 'and'),\n",
              " ('experience', 'and', 'no'),\n",
              " ('and', 'no', 'queuing'),\n",
              " ('no', 'queuing', 'in'),\n",
              " ('queuing', 'in', 'the'),\n",
              " ('in', 'the', 'cold'),\n",
              " ('the', 'cold', 'for'),\n",
              " ('cold', 'for', 'hours'),\n",
              " ('note', 'i', 'recommend'),\n",
              " ('i', 'recommend', 'booking'),\n",
              " ('recommend', 'booking', 'mickey'),\n",
              " ('booking', 'mickey', 'caf'),\n",
              " ('the', 'auberge', 'well'),\n",
              " ('auberge', 'well', 'in'),\n",
              " ('well', 'in', 'advance'),\n",
              " ('in', 'advance', 'before'),\n",
              " ('advance', 'before', 'you'),\n",
              " ('before', 'you', 'leave'),\n",
              " ('you', 'leave', 'the'),\n",
              " ('leave', 'the', 'uk'),\n",
              " ('you', 'need', 'to'),\n",
              " ('need', 'to', 'call'),\n",
              " ('to', 'call', 'disneyland'),\n",
              " ('call', 'disneyland', 'paris'),\n",
              " ('disneyland', 'paris', 'restaurant'),\n",
              " ('paris', 'restaurant', 'reservations'),\n",
              " ('restaurant', 'reservations', 'and'),\n",
              " ('reservations', 'and', 'book'),\n",
              " ('and', 'book', 'a'),\n",
              " ('book', 'a', 'table'),\n",
              " ('this', 'is', 'a'),\n",
              " ('is', 'a', 'free'),\n",
              " ('a', 'free', 'service'),\n",
              " ('free', 'service', 'no'),\n",
              " ('service', 'no', 'deposit'),\n",
              " ('no', 'deposit', 'required'),\n",
              " ('we', 'will', 'definitely'),\n",
              " ('will', 'definitely', 'come'),\n",
              " ('definitely', 'come', 'again'),\n",
              " ('come', 'again', 'but'),\n",
              " ('again', 'but', 'in'),\n",
              " ('but', 'in', 'the'),\n",
              " ('in', 'the', 'summer'),\n",
              " ('although', 'it', 'is'),\n",
              " ('it', 'is', 'beautiful'),\n",
              " ('is', 'beautiful', 'at'),\n",
              " ('beautiful', 'at', 'christmas'),\n",
              " ('at', 'christmas', 'it'),\n",
              " ('christmas', 'it', 'is'),\n",
              " ('it', 'is', 'very'),\n",
              " ('is', 'very', 'cold'),\n",
              " ('very', 'cold', '2'),\n",
              " ('cold', '2', 'degrees'),\n",
              " ('2', 'degrees', 'on'),\n",
              " ('degrees', 'on', '2'),\n",
              " ('on', '2', 'of'),\n",
              " ('2', 'of', 'the'),\n",
              " ('of', 'the', 'days'),\n",
              " ('the', 'days', 'so'),\n",
              " ('days', 'so', 'dress'),\n",
              " ('so', 'dress', 'as'),\n",
              " ('dress', 'as', 'you'),\n",
              " ('as', 'you', 'would'),\n",
              " ('you', 'would', 'for'),\n",
              " ('would', 'for', 'ski'),\n",
              " ('for', 'ski', 'ing'),\n",
              " ('but', 'i', 'would'),\n",
              " ('i', 'would', 'still'),\n",
              " ('would', 'still', 'recommend'),\n",
              " ('still', 'recommend', 'coming'),\n",
              " ('recommend', 'coming', 'at'),\n",
              " ('coming', 'at', 'this'),\n",
              " ('at', 'this', 'time'),\n",
              " ('this', 'time', 'of'),\n",
              " ('time', 'of', 'year'),\n",
              " ('of', 'year', 'at'),\n",
              " ('year', 'at', 'least'),\n",
              " ('at', 'least', 'once'),\n",
              " ('least', 'once', 'just'),\n",
              " ('once', 'just', 'to'),\n",
              " ('just', 'to', 'experience'),\n",
              " ('to', 'experience', 'the'),\n",
              " ('experience', 'the', 'magic'),\n",
              " ('i', 'would', 'say'),\n",
              " ('would', 'say', '3'),\n",
              " ('say', '3', 'nights'),\n",
              " ('3', 'nights', '4'),\n",
              " ('nights', '4', 'days'),\n",
              " ('4', 'days', 'is'),\n",
              " ('days', 'is', 'just'),\n",
              " ('is', 'just', 'about'),\n",
              " ('just', 'about', 'right'),\n",
              " ('about', 'right', 'to'),\n",
              " ('right', 'to', 'fit'),\n",
              " ('to', 'fit', 'most'),\n",
              " ('fit', 'most', 'if'),\n",
              " ('most', 'if', 'it'),\n",
              " ('if', 'it', 'in'),\n",
              " ('it', 'in', 'without'),\n",
              " ('in', 'without', 'rushing'),\n",
              " ('without', 'rushing', 'around'),\n",
              " ('rushing', 'around', 'like'),\n",
              " ('around', 'like', 'a'),\n",
              " ('like', 'a', 'lunatic'),\n",
              " ('this', 'is', 'the'),\n",
              " ('is', 'the', 'fifth'),\n",
              " ('the', 'fifth', 'time'),\n",
              " ('fifth', 'time', 'i'),\n",
              " ('time', 'i', 'have'),\n",
              " ('i', 'have', 'visited'),\n",
              " ('have', 'visited', 'disneyland'),\n",
              " ('visited', 'disneyland', 'paris'),\n",
              " ('i', 'am', 'a'),\n",
              " ('am', 'a', 'huge'),\n",
              " ('a', 'huge', 'disney'),\n",
              " ('huge', 'disney', 'fan'),\n",
              " ('disney', 'fan', 'and'),\n",
              " ('fan', 'and', 'have'),\n",
              " ('and', 'have', 'visited'),\n",
              " ('have', 'visited', 'walt'),\n",
              " ('visited', 'walt', 'disney'),\n",
              " ('walt', 'disney', 'world'),\n",
              " ('disney', 'world', 'florida'),\n",
              " ('world', 'florida', 'and'),\n",
              " ('florida', 'and', 'hong'),\n",
              " ('and', 'hong', 'kong'),\n",
              " ('hong', 'kong', 'disneyland'),\n",
              " ('paris', 'has', 'a'),\n",
              " ('has', 'a', 'nice'),\n",
              " ('a', 'nice', 'relaxed'),\n",
              " ('nice', 'relaxed', 'feel'),\n",
              " ('relaxed', 'feel', 'to'),\n",
              " ('feel', 'to', 'it'),\n",
              " ('to', 'it', 'we'),\n",
              " ('it', 'we', 'visited'),\n",
              " ('we', 'visited', 'mid'),\n",
              " ('visited', 'mid', 'week'),\n",
              " ('mid', 'week', 'and'),\n",
              " ('week', 'and', 'it'),\n",
              " ('and', 'it', 'was'),\n",
              " ('it', 'was', 'fairly'),\n",
              " ('was', 'fairly', 'quiet'),\n",
              " ('fairly', 'quiet', 'the'),\n",
              " ('quiet', 'the', 'longest'),\n",
              " ('the', 'longest', 'we'),\n",
              " ('longest', 'we', 'had'),\n",
              " ('we', 'had', 'to'),\n",
              " ('had', 'to', 'wait'),\n",
              " ('to', 'wait', 'for'),\n",
              " ('wait', 'for', 'a'),\n",
              " ('for', 'a', 'ride'),\n",
              " ('a', 'ride', 'was'),\n",
              " ('ride', 'was', 'around'),\n",
              " ('was', 'around', '20'),\n",
              " ('around', '20', 'minutes'),\n",
              " ('we', 'tried', 'to'),\n",
              " ('tried', 'to', 'visit'),\n",
              " ('to', 'visit', 'mickey'),\n",
              " ('visit', 'mickey', 'mouse'),\n",
              " ('however', 'it', 'closes'),\n",
              " ('it', 'closes', 'at'),\n",
              " ('closes', 'at', '5'),\n",
              " ('at', '5', '30pm'),\n",
              " ('5', '30pm', 'which'),\n",
              " ('30pm', 'which', 'is'),\n",
              " ('which', 'is', 'pretty'),\n",
              " ('is', 'pretty', 'early'),\n",
              " ('pretty', 'early', 'considering'),\n",
              " ('the', 'park', 'was'),\n",
              " ('park', 'was', 'open'),\n",
              " ('was', 'open', 'until'),\n",
              " ('open', 'until', '9pm'),\n",
              " ('until', '9pm', 'which'),\n",
              " ('9pm', 'which', 'was'),\n",
              " ('which', 'was', 'disappointing'),\n",
              " (\"don't\", 'miss', 'the'),\n",
              " ('miss', 'the', 'parade'),\n",
              " ('the', 'parade', 'and'),\n",
              " ('parade', 'and', 'the'),\n",
              " ('and', 'the', 'fireworks'),\n",
              " ('as', 'usual', 'the'),\n",
              " ('usual', 'the', 'folks'),\n",
              " ('the', 'folks', 'at'),\n",
              " ('folks', 'at', 'disney'),\n",
              " ('at', 'disney', 'know'),\n",
              " ('disney', 'know', 'how'),\n",
              " ('know', 'how', 'to'),\n",
              " ('how', 'to', 'put'),\n",
              " ('to', 'put', 'on'),\n",
              " ('put', 'on', 'a'),\n",
              " ('on', 'a', 'show'),\n",
              " ('parades', 'and', 'firework'),\n",
              " ('and', 'firework', 'closing'),\n",
              " ('firework', 'closing', 'show'),\n",
              " ('closing', 'show', 'and'),\n",
              " ('show', 'and', 'general'),\n",
              " ('and', 'general', 'shows'),\n",
              " ('general', 'shows', 'were'),\n",
              " ('shows', 'were', 'great'),\n",
              " ('were', 'great', 'and'),\n",
              " ('great', 'and', 'on'),\n",
              " ('and', 'on', 'occasion'),\n",
              " ('on', 'occasion', 'breath'),\n",
              " ('occasion', 'breath', 'taking'),\n",
              " ('the', 'fireworks', 'and'),\n",
              " ('fireworks', 'and', 'light'),\n",
              " ('and', 'light', 'show'),\n",
              " ('light', 'show', 'wow'),\n",
              " ('show', 'wow', 'well'),\n",
              " ('wow', 'well', 'worth'),\n",
              " ('well', 'worth', 'the'),\n",
              " ('worth', 'the', 'wait'),\n",
              " ('make', 'full', 'use'),\n",
              " ('full', 'use', 'of'),\n",
              " ('use', 'of', 'the'),\n",
              " ('of', 'the', 'two'),\n",
              " ('the', 'two', 'hour'),\n",
              " ('two', 'hour', 'early'),\n",
              " ('hour', 'early', 'entry'),\n",
              " ('early', 'entry', 'for'),\n",
              " ('entry', 'for', 'hotel'),\n",
              " ('for', 'hotel', 'guests'),\n",
              " ('hotel', 'guests', 'and'),\n",
              " ('guests', 'and', 'get'),\n",
              " ('and', 'get', 'on'),\n",
              " ('get', 'on', 'as'),\n",
              " ('on', 'as', 'many'),\n",
              " ('as', 'many', 'rides'),\n",
              " ('many', 'rides', 'as'),\n",
              " ('rides', 'as', 'you'),\n",
              " ('as', 'you', 'can'),\n",
              " ('you', 'can', 'and'),\n",
              " ('can', 'and', 'use'),\n",
              " ('and', 'use', 'the'),\n",
              " ('use', 'the', 'fast'),\n",
              " ('the', 'fast', 'pass'),\n",
              " ('fast', 'pass', 'where'),\n",
              " ('pass', 'where', 'possible'),\n",
              " ('where', 'possible', 'available'),\n",
              " ('a', 'god', 'send'),\n",
              " ('god', 'send', 'for'),\n",
              " ('send', 'for', 'young'),\n",
              " ('for', 'young', 'children'),\n",
              " ('young', 'children', 'who'),\n",
              " ('children', 'who', 'think'),\n",
              " ('who', 'think', '10'),\n",
              " ('think', '10', 'mins'),\n",
              " ('10', 'mins', 'is'),\n",
              " ('mins', 'is', 'a'),\n",
              " ('is', 'a', 'long'),\n",
              " ('a', 'long', 'time'),\n",
              " ('if', 'you', 'plan'),\n",
              " ('you', 'plan', 'the'),\n",
              " ('plan', 'the', 'day'),\n",
              " ('the', 'day', 'well'),\n",
              " ('day', 'well', 'then'),\n",
              " ('well', 'then', 'queues'),\n",
              " ('then', 'queues', 'are'),\n",
              " ('queues', 'are', 'manageable'),\n",
              " ('this', 'is', 'a'),\n",
              " ('is', 'a', 'magical'),\n",
              " ('a', 'magical', 'place'),\n",
              " ('i', 'have', 'visited'),\n",
              " ('have', 'visited', 'this'),\n",
              " ('visited', 'this', 'park'),\n",
              " ('this', 'park', 'several'),\n",
              " ('park', 'several', 'times'),\n",
              " ('several', 'times', 'and'),\n",
              " ('times', 'and', 'have'),\n",
              " ('and', 'have', 'thoroughly'),\n",
              " ('have', 'thoroughly', 'enjoyed'),\n",
              " ('thoroughly', 'enjoyed', 'my'),\n",
              " ('enjoyed', 'my', 'visit'),\n",
              " ('my', 'visit', 'each'),\n",
              " ('visit', 'each', 'time'),\n",
              " ('there', 'are', 'a'),\n",
              " ('are', 'a', 'great'),\n",
              " ('a', 'great', 'selection'),\n",
              " ('great', 'selection', 'of'),\n",
              " ('selection', 'of', 'rides'),\n",
              " ('of', 'rides', 'and'),\n",
              " ('rides', 'and', 'attractions'),\n",
              " ('and', 'attractions', 'for'),\n",
              " ('attractions', 'for', 'children'),\n",
              " ('for', 'children', 'of'),\n",
              " ('children', 'of', 'all'),\n",
              " ('of', 'all', 'ages'),\n",
              " ('all', 'ages', 'and'),\n",
              " ('ages', 'and', 'adults'),\n",
              " ('and', 'adults', 'too'),\n",
              " ('my', 'only', 'critique'),\n",
              " ('only', 'critique', 'is'),\n",
              " ('critique', 'is', 'that'),\n",
              " ('is', 'that', 'there'),\n",
              " ('that', 'there', 'are'),\n",
              " ('there', 'are', 'often'),\n",
              " ('are', 'often', 'rides'),\n",
              " ('often', 'rides', 'closed'),\n",
              " ('rides', 'closed', 'in'),\n",
              " ('closed', 'in', 'this'),\n",
              " ('in', 'this', 'park'),\n",
              " ('this', 'park', 'and'),\n",
              " ('park', 'and', 'this'),\n",
              " ('and', 'this', 'can'),\n",
              " ('this', 'can', 'have'),\n",
              " ('can', 'have', 'a'),\n",
              " ('have', 'a', 'knock'),\n",
              " ('a', 'knock', 'on'),\n",
              " ('knock', 'on', 'effect'),\n",
              " ('on', 'effect', 'on'),\n",
              " ('effect', 'on', 'crowd'),\n",
              " ('on', 'crowd', 'levels'),\n",
              " ('crowd', 'levels', 'on'),\n",
              " ('levels', 'on', 'other'),\n",
              " ('on', 'other', 'rides'),\n",
              " ('we', 'took', 'our'),\n",
              " ('took', 'our', '6yr'),\n",
              " ('our', '6yr', '8yr'),\n",
              " ('6yr', '8yr', 'old'),\n",
              " ('8yr', 'old', 'grandchildren'),\n",
              " ('old', 'grandchildren', 'last'),\n",
              " ('grandchildren', 'last', 'week'),\n",
              " ('last', 'week', 'to'),\n",
              " ('week', 'to', 'disneyland'),\n",
              " ('to', 'disneyland', 'paris'),\n",
              " ('disneyland', 'paris', 'and'),\n",
              " ('paris', 'and', 'it'),\n",
              " ('and', 'it', 'was'),\n",
              " ('it', 'was', 'just'),\n",
              " ('was', 'just', 'the'),\n",
              " ('just', 'the', 'best'),\n",
              " ('the', 'best', 'day'),\n",
              " ('we', 'arrived', 'around'),\n",
              " ('arrived', 'around', '10am'),\n",
              " ('around', '10am', 'and'),\n",
              " ('10am', 'and', \"didn't\"),\n",
              " ('and', \"didn't\", 'leave'),\n",
              " (\"didn't\", 'leave', 'until'),\n",
              " ('leave', 'until', '11pm'),\n",
              " ('the', 'finale', 'was'),\n",
              " ('finale', 'was', 'just'),\n",
              " ('was', 'just', 'amazing'),\n",
              " ('just', 'amazing', 'hopefully'),\n",
              " ('amazing', 'hopefully', 'tripadvisor'),\n",
              " ('hopefully', 'tripadvisor', 'well'),\n",
              " ('tripadvisor', 'well', 'allow'),\n",
              " ('well', 'allow', 'me'),\n",
              " ('allow', 'me', 'to'),\n",
              " ('me', 'to', 'add'),\n",
              " ('to', 'add', 'a'),\n",
              " ('add', 'a', 'video'),\n",
              " ('a', 'video', 'clip'),\n",
              " ('the', 'park', 'was'),\n",
              " ('park', 'was', 'clean'),\n",
              " ('was', 'clean', 'only'),\n",
              " ('clean', 'only', 'two'),\n",
              " ('only', 'two', 'rides'),\n",
              " ('two', 'rides', 'were'),\n",
              " ('rides', 'were', 'unavailable'),\n",
              " ('were', 'unavailable', 'due'),\n",
              " ('unavailable', 'due', 'to'),\n",
              " ('due', 'to', 'maintenance'),\n",
              " ('to', 'maintenance', 'and'),\n",
              " ('maintenance', 'and', 'ride'),\n",
              " ('and', 'ride', 'queues'),\n",
              " ('ride', 'queues', 'were'),\n",
              " ('queues', 'were', 'reasonable'),\n",
              " ('the', 'parades', 'were'),\n",
              " ('parades', 'were', 'fantastic'),\n",
              " ('my', 'only', 'criticism'),\n",
              " ('only', 'criticism', 'would'),\n",
              " ('criticism', 'would', 'be'),\n",
              " ('would', 'be', 'of'),\n",
              " ('be', 'of', 'the'),\n",
              " ('of', 'the', 'food'),\n",
              " ('the', 'food', 'outlets'),\n",
              " ('food', 'outlets', 'very'),\n",
              " ('outlets', 'very', 'much'),\n",
              " ('very', 'much', 'x'),\n",
              " ('much', 'x', 'chips'),\n",
              " ('x', 'chips', 'at'),\n",
              " ('chips', 'at', 'every'),\n",
              " ('at', 'every', 'single'),\n",
              " ('every', 'single', 'place'),\n",
              " ('single', 'place', 'which'),\n",
              " ('place', 'which', 'was'),\n",
              " ('which', 'was', 'a'),\n",
              " ('was', 'a', 'shame'),\n",
              " ('a', 'shame', 'even'),\n",
              " ('shame', 'even', 'the'),\n",
              " ('even', 'the', 'kids'),\n",
              " ('the', 'kids', 'were'),\n",
              " ('kids', 'were', 'unimpressed'),\n",
              " ('were', 'unimpressed', 'with'),\n",
              " ('unimpressed', 'with', 'the'),\n",
              " ('with', 'the', 'choice'),\n",
              " ('the', 'choice', 'or'),\n",
              " ('choice', 'or', 'lack'),\n",
              " ('or', 'lack', 'of'),\n",
              " ('we', 'got', 'tickets'),\n",
              " ('got', 'tickets', 'via'),\n",
              " ('tickets', 'via', 'picniq'),\n",
              " ('via', 'picniq', 'at'),\n",
              " ('picniq', 'at', 'a'),\n",
              " ('at', 'a', 'reduced'),\n",
              " ('a', 'reduced', 'rate'),\n",
              " ('reduced', 'rate', 'which'),\n",
              " ('rate', 'which', 'included'),\n",
              " ('which', 'included', 'fastpass'),\n",
              " ('included', 'fastpass', 'for'),\n",
              " ('fastpass', 'for', 'supported'),\n",
              " ('for', 'supported', 'rides'),\n",
              " ('supported', 'rides', 'at'),\n",
              " ('rides', 'at', 'no'),\n",
              " ('at', 'no', 'extra'),\n",
              " ('no', 'extra', 'cost'),\n",
              " ('extra', 'cost', 'so'),\n",
              " ('cost', 'so', 'that'),\n",
              " ('so', 'that', 'was'),\n",
              " ('that', 'was', 'great'),\n",
              " ('excellent', 'day', 'out'),\n",
              " ('disneyland', 'really', 'is'),\n",
              " ('really', 'is', 'magical'),\n",
              " ('the', 'attention', 'to'),\n",
              " ('attention', 'to', 'detail'),\n",
              " ('to', 'detail', 'on'),\n",
              " ('detail', 'on', 'every'),\n",
              " ('on', 'every', 'building'),\n",
              " ('every', 'building', 'ride'),\n",
              " ('building', 'ride', 'attraction'),\n",
              " ('ride', 'attraction', 'adds'),\n",
              " ('attraction', 'adds', 'to'),\n",
              " ('adds', 'to', 'the'),\n",
              " ('to', 'the', 'atmosphere'),\n",
              " ('the', 'smells', 'the'),\n",
              " ('smells', 'the', 'music'),\n",
              " ('the', 'music', 'take'),\n",
              " ('music', 'take', 'you'),\n",
              " ('take', 'you', 'to'),\n",
              " ('you', 'to', 'another'),\n",
              " ('to', 'another', 'world'),\n",
              " (\"it's\", 'easy', 'to'),\n",
              " ('easy', 'to', 'forget'),\n",
              " ('to', 'forget', 'your'),\n",
              " ('forget', 'your', 'cares'),\n",
              " ...]"
            ]
          },
          "metadata": {},
          "execution_count": 249
        }
      ]
    },
    {
      "cell_type": "code",
      "metadata": {
        "id": "2C7uvtalG6w9"
      },
      "source": [
        "# Placeholder for stat. lang. model\n",
        "ngram_model = defaultdict(lambda: defaultdict(lambda: 0))"
      ],
      "execution_count": null,
      "outputs": []
    },
    {
      "cell_type": "code",
      "metadata": {
        "id": "YZuagShlG60j"
      },
      "source": [
        "# Counting the frequency of token repeats in the trigrams\n",
        "for w1, w2, w3 in trigrams_list:\n",
        "    ngram_model[(w1, w2)][w3] += 1"
      ],
      "execution_count": null,
      "outputs": []
    },
    {
      "cell_type": "code",
      "metadata": {
        "id": "AKhSBRBeQ38d"
      },
      "source": [
        "# convert our totaled counts into probabilities\n",
        "for w1_w2 in ngram_model:\n",
        "    total_count = float(sum(ngram_model[w1_w2].values()))\n",
        "    for w3 in ngram_model[w1_w2]:\n",
        "        ngram_model[w1_w2][w3] /= total_count"
      ],
      "execution_count": null,
      "outputs": []
    },
    {
      "cell_type": "code",
      "metadata": {
        "colab": {
          "base_uri": "https://localhost:8080/",
          "height": 235
        },
        "id": "79oVtLlMQ4Jt",
        "outputId": "9ba160d9-63da-4d7e-ce99-f3a49bca8f8c"
      },
      "source": [
        "# testing what we have by predicting the next word\n",
        "next_words = pd.DataFrame([dict(ngram_model['easy', 'to'])])\n",
        "next_words = next_words.T\n",
        "next_words = next_words.sort_values(by = 0, ascending = False)\n",
        "\n",
        "pd.set_option(\"display.max_rows\", None, \"display.max_columns\", None)\n",
        "next_words"
      ],
      "execution_count": null,
      "outputs": [
        {
          "output_type": "execute_result",
          "data": {
            "text/html": [
              "<div>\n",
              "<style scoped>\n",
              "    .dataframe tbody tr th:only-of-type {\n",
              "        vertical-align: middle;\n",
              "    }\n",
              "\n",
              "    .dataframe tbody tr th {\n",
              "        vertical-align: top;\n",
              "    }\n",
              "\n",
              "    .dataframe thead th {\n",
              "        text-align: right;\n",
              "    }\n",
              "</style>\n",
              "<table border=\"1\" class=\"dataframe\">\n",
              "  <thead>\n",
              "    <tr style=\"text-align: right;\">\n",
              "      <th></th>\n",
              "      <th>0</th>\n",
              "    </tr>\n",
              "  </thead>\n",
              "  <tbody>\n",
              "    <tr>\n",
              "      <th>access</th>\n",
              "      <td>0.285714</td>\n",
              "    </tr>\n",
              "    <tr>\n",
              "      <th>forget</th>\n",
              "      <td>0.142857</td>\n",
              "    </tr>\n",
              "    <tr>\n",
              "      <th>see</th>\n",
              "      <td>0.142857</td>\n",
              "    </tr>\n",
              "    <tr>\n",
              "      <th>read</th>\n",
              "      <td>0.142857</td>\n",
              "    </tr>\n",
              "    <tr>\n",
              "      <th>walk</th>\n",
              "      <td>0.142857</td>\n",
              "    </tr>\n",
              "    <tr>\n",
              "      <th>navigate</th>\n",
              "      <td>0.142857</td>\n",
              "    </tr>\n",
              "  </tbody>\n",
              "</table>\n",
              "</div>"
            ],
            "text/plain": [
              "                 0\n",
              "access    0.285714\n",
              "forget    0.142857\n",
              "see       0.142857\n",
              "read      0.142857\n",
              "walk      0.142857\n",
              "navigate  0.142857"
            ]
          },
          "metadata": {},
          "execution_count": 253
        }
      ]
    },
    {
      "cell_type": "markdown",
      "metadata": {
        "id": "nJV6VbLzSTxt"
      },
      "source": [
        "**n gram model**"
      ]
    },
    {
      "cell_type": "code",
      "metadata": {
        "colab": {
          "base_uri": "https://localhost:8080/"
        },
        "id": "J2C7hOnaQ4U1",
        "outputId": "841dc86c-c701-457e-ba01-4ac499941b1e"
      },
      "source": [
        "# This is what actually predicts the review. It predicted a review would be: \"easy to access and food for the 'happiest place on earth anymore all\".\n",
        "# This is pretty good, but a moderately competent English speaker would consider this poorly written by human standards, in my opinion.\n",
        "text = ['easy', 'to']\n",
        "sentence_finished = False\n",
        " \n",
        "while not sentence_finished:\n",
        "  # Select a random probability threshold  \n",
        "  r = random.random()\n",
        "  accumulator = .0\n",
        "\n",
        "  canditate_next_words = list(ngram_model[tuple(text[-2:])].keys())\n",
        "\n",
        "  if len(canditate_next_words) > 0:\n",
        "    for word in canditate_next_words:\n",
        "        accumulator += ngram_model[tuple(text[-2:])][word]\n",
        "        # Select words that are above the probability threshold\n",
        "        if accumulator >= r:\n",
        "            text.append(word)\n",
        "            break\n",
        "  else:\n",
        "    sentence_finished = True\n",
        "  \n",
        "print(' '.join([t for t in text if t]))"
      ],
      "execution_count": null,
      "outputs": [
        {
          "output_type": "stream",
          "name": "stdout",
          "text": [
            "easy to walk off while i was disappointed nonetheless\n"
          ]
        }
      ]
    },
    {
      "cell_type": "markdown",
      "metadata": {
        "id": "MaHu-NqTR1Kt"
      },
      "source": [
        "**Markovify Package**"
      ]
    },
    {
      "cell_type": "code",
      "metadata": {
        "id": "w0_C1xRsQ4f9"
      },
      "source": [
        "# transform df_1 to a list with elements that are split by /n (a new line).\n",
        "review_text_line = df_1['review_text_line'].values.tolist()"
      ],
      "execution_count": null,
      "outputs": []
    },
    {
      "cell_type": "code",
      "metadata": {
        "id": "_4YKFT_IQ4rN"
      },
      "source": [
        "# here we are constructing the model\n",
        "markovify_model = markovify.NewlineText(review_text_line)"
      ],
      "execution_count": null,
      "outputs": []
    },
    {
      "cell_type": "code",
      "metadata": {
        "colab": {
          "base_uri": "https://localhost:8080/"
        },
        "id": "68dIsVSRQ42V",
        "outputId": "219b6583-827e-4a9d-aeec-84a807442df1"
      },
      "source": [
        "# using a for loop with a range to print out 5 hypothetical reviews for Disneyland Paris.\n",
        "for i in range(5):\n",
        "    print(markovify_model.make_sentence()) # Can add max_chars = as argument to limit length of sentence"
      ],
      "execution_count": null,
      "outputs": [
        {
          "output_type": "stream",
          "name": "stdout",
          "text": [
            "That ride then broke down all the negative aspects. \n",
            "There are only available on selected rides and shows. \n",
            "Disneyland Park with my children aged 2,4&7. \n",
            "I would liken it to paying 20 an hour in the other queue. \n",
            "I don't think we would have double triple better experience and a must see.\n"
          ]
        }
      ]
    },
    {
      "cell_type": "markdown",
      "metadata": {
        "id": "nAXRE_Hvt4iN"
      },
      "source": [
        "**The End**"
      ]
    }
  ]
}